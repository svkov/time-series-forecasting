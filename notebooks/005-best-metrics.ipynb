{
 "cells": [
  {
   "cell_type": "code",
   "execution_count": 1,
   "metadata": {},
   "outputs": [],
   "source": [
    "%load_ext autoreload\n",
    "%autoreload 2"
   ]
  },
  {
   "cell_type": "code",
   "execution_count": 2,
   "metadata": {},
   "outputs": [],
   "source": [
    "import numpy as np\n",
    "import pandas as pd\n",
    "import os\n",
    "import sys"
   ]
  },
  {
   "cell_type": "code",
   "execution_count": 3,
   "metadata": {},
   "outputs": [],
   "source": [
    "sys.path.append('../')"
   ]
  },
  {
   "cell_type": "code",
   "execution_count": 33,
   "metadata": {},
   "outputs": [],
   "source": []
  },
  {
   "cell_type": "code",
   "execution_count": 34,
   "metadata": {},
   "outputs": [
    {
     "data": {
      "text/plain": [
       "('BP', 'MAE', 'wavelet', 0.77)"
      ]
     },
     "execution_count": 34,
     "metadata": {},
     "output_type": "execute_result"
    }
   ],
   "source": [
    "name, row = next(df.iterrows())\n"
   ]
  },
  {
   "cell_type": "code",
   "execution_count": 52,
   "metadata": {},
   "outputs": [],
   "source": [
    "def parse_row(ticker, name, row):\n",
    "    \n",
    "    argmin = row.argmin()\n",
    "    return {\n",
    "        'metric': name,\n",
    "        'model': row.index[argmin],\n",
    "        'value': row[argmin]\n",
    "    }"
   ]
  },
  {
   "cell_type": "code",
   "execution_count": 53,
   "metadata": {},
   "outputs": [
    {
     "data": {
      "text/html": [
       "<div>\n",
       "<style scoped>\n",
       "    .dataframe tbody tr th:only-of-type {\n",
       "        vertical-align: middle;\n",
       "    }\n",
       "\n",
       "    .dataframe tbody tr th {\n",
       "        vertical-align: top;\n",
       "    }\n",
       "\n",
       "    .dataframe thead th {\n",
       "        text-align: right;\n",
       "    }\n",
       "</style>\n",
       "<table border=\"1\" class=\"dataframe\">\n",
       "  <thead>\n",
       "    <tr style=\"text-align: right;\">\n",
       "      <th></th>\n",
       "      <th>metric</th>\n",
       "      <th>model</th>\n",
       "      <th>value</th>\n",
       "    </tr>\n",
       "  </thead>\n",
       "  <tbody>\n",
       "    <tr>\n",
       "      <th>BP</th>\n",
       "      <td>MAE</td>\n",
       "      <td>wavelet</td>\n",
       "      <td>0.77</td>\n",
       "    </tr>\n",
       "    <tr>\n",
       "      <th>BP</th>\n",
       "      <td>MAPE</td>\n",
       "      <td>wavelet</td>\n",
       "      <td>3.71</td>\n",
       "    </tr>\n",
       "    <tr>\n",
       "      <th>CVX</th>\n",
       "      <td>MAE</td>\n",
       "      <td>wavelet</td>\n",
       "      <td>2.95</td>\n",
       "    </tr>\n",
       "    <tr>\n",
       "      <th>CVX</th>\n",
       "      <td>MAPE</td>\n",
       "      <td>wavelet</td>\n",
       "      <td>3.62</td>\n",
       "    </tr>\n",
       "    <tr>\n",
       "      <th>RDS-A</th>\n",
       "      <td>MAE</td>\n",
       "      <td>wavelet</td>\n",
       "      <td>0.97</td>\n",
       "    </tr>\n",
       "    <tr>\n",
       "      <th>RDS-A</th>\n",
       "      <td>MAPE</td>\n",
       "      <td>wavelet</td>\n",
       "      <td>3.41</td>\n",
       "    </tr>\n",
       "    <tr>\n",
       "      <th>RDS-B</th>\n",
       "      <td>MAE</td>\n",
       "      <td>wavelet</td>\n",
       "      <td>0.92</td>\n",
       "    </tr>\n",
       "    <tr>\n",
       "      <th>RDS-B</th>\n",
       "      <td>MAPE</td>\n",
       "      <td>wavelet</td>\n",
       "      <td>3.38</td>\n",
       "    </tr>\n",
       "    <tr>\n",
       "      <th>TOT</th>\n",
       "      <td>MAE</td>\n",
       "      <td>baseline</td>\n",
       "      <td>0.96</td>\n",
       "    </tr>\n",
       "    <tr>\n",
       "      <th>TOT</th>\n",
       "      <td>MAPE</td>\n",
       "      <td>baseline</td>\n",
       "      <td>2.59</td>\n",
       "    </tr>\n",
       "    <tr>\n",
       "      <th>XOM</th>\n",
       "      <td>MAE</td>\n",
       "      <td>wavelet</td>\n",
       "      <td>1.40</td>\n",
       "    </tr>\n",
       "    <tr>\n",
       "      <th>XOM</th>\n",
       "      <td>MAPE</td>\n",
       "      <td>baseline</td>\n",
       "      <td>3.55</td>\n",
       "    </tr>\n",
       "  </tbody>\n",
       "</table>\n",
       "</div>"
      ],
      "text/plain": [
       "      metric     model  value\n",
       "BP       MAE   wavelet   0.77\n",
       "BP      MAPE   wavelet   3.71\n",
       "CVX      MAE   wavelet   2.95\n",
       "CVX     MAPE   wavelet   3.62\n",
       "RDS-A    MAE   wavelet   0.97\n",
       "RDS-A   MAPE   wavelet   3.41\n",
       "RDS-B    MAE   wavelet   0.92\n",
       "RDS-B   MAPE   wavelet   3.38\n",
       "TOT      MAE  baseline   0.96\n",
       "TOT     MAPE  baseline   2.59\n",
       "XOM      MAE   wavelet   1.40\n",
       "XOM     MAPE  baseline   3.55"
      ]
     },
     "execution_count": 53,
     "metadata": {},
     "output_type": "execute_result"
    }
   ],
   "source": [
    "path = '../reports/metrics/'\n",
    "input = list(map(lambda x: path + x, os.listdir(path)))\n",
    "full_df = pd.DataFrame()\n",
    "for i in input:\n",
    "    ticker = os.path.split(i)[-1].replace('metrics_', '').replace('.csv', '')\n",
    "    df = pd.read_csv(i, index_col=0)\n",
    "    for name, row in df.iterrows():\n",
    "        parsed_row = parse_row(ticker, name, row)\n",
    "        parsed_df = pd.DataFrame(parsed_row, index=[ticker])\n",
    "        full_df = full_df.append(parsed_df)\n",
    "        \n",
    "full_df"
   ]
  },
  {
   "cell_type": "code",
   "execution_count": 57,
   "metadata": {},
   "outputs": [],
   "source": [
    "import telegram_send"
   ]
  },
  {
   "cell_type": "code",
   "execution_count": 63,
   "metadata": {},
   "outputs": [],
   "source": [
    "message = f'```{str(full_df)}```'\n",
    "telegram_send.send(messages=[message], parse_mode='markdown')"
   ]
  }
 ],
 "metadata": {
  "kernelspec": {
   "display_name": "Python 3",
   "language": "python",
   "name": "python3"
  },
  "language_info": {
   "codemirror_mode": {
    "name": "ipython",
    "version": 3
   },
   "file_extension": ".py",
   "mimetype": "text/x-python",
   "name": "python",
   "nbconvert_exporter": "python",
   "pygments_lexer": "ipython3",
   "version": "3.8.3"
  }
 },
 "nbformat": 4,
 "nbformat_minor": 4
}
