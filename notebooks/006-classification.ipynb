{
 "cells": [
  {
   "cell_type": "markdown",
   "id": "express-italic",
   "metadata": {},
   "source": [
    "## Сделал:\n",
    "\n",
    "Разметил данные (параметры - n, thresh - длина прогноза и порог чувствительности)\n",
    "\n",
    "Запустил RF на данных, результат акураси - 0.3, то есть случайное блуждание\n",
    "\n",
    "выбирать thresh в процентах, а не абсолютных значениях\n",
    "\n",
    "запустить RF на окне определенной длины (длина - гиперпараметр)\n",
    "\n",
    "автоматически подбирать window_len\n",
    "\n",
    "автоматически подбирать thresh, чтобы классы были сбалансированны или как-то еще\n",
    "\n",
    "кросс-валидация при оценке качества\n",
    "\n",
    "провести симуляцию торгов:\n",
    "1. со знанием исторических данных\n",
    "2. с использованием алгоритмов мл (логрег, рф)\n",
    "\n",
    "логрег\n",
    "\n",
    "## Сделать:\n",
    "\n",
    "\n",
    "сравнить rf с другими моделями классификации\n",
    "\n",
    "подбирать другие параметры rf\n",
    "\n",
    "провести симуляцию с использованием наивного алгоритма (какого?)\n"
   ]
  },
  {
   "cell_type": "markdown",
   "id": "supported-exception",
   "metadata": {},
   "source": [
    "## Разбиение на классы\n",
    "\n",
    "Предпосылки\n",
    "\n",
    "1. Датасет нужно разделить на классы \"продавать\",\"покупать\",\"держать\"\n",
    "2. Предлагается ввести \"порог\", через который должна переступить разница в цене в процентах за определенный период, чтобы можно было принять решение о покупке/продаже\n",
    "3. Классы должны быть сбалансированы, чтобы было проще решать и оценивать решение задачи классификации\n",
    "\n",
    "Вариант решения\n",
    "\n",
    "https://stats.stackexchange.com/questions/387835/measuring-class-imbalance-of-a-dataset - про сбалансированность датасета\n",
    "\n",
    "1. Введем функцию, которая в зависимости от порога дает разбитый на классы датасет\n",
    "\n",
    "2. Посчитаем сбалансированность датасета как \n",
    "$$J(t) = \\sum_i{|IdealSection - PartOfClass_i(t)|}$$\n",
    "по сути, это оценка насколько датасет отличается от идеально сбалансированного (функционал оценки качества разбиения)\n",
    "3. Оптимизируем $J$ по $t$\n",
    "\n",
    "Проблема - J негладкая функция, оптимизировать сложно \n",
    "Будем оптимизировать одномерным методом с ограничениями от 0 до 100 (т.к. проценты)"
   ]
  },
  {
   "cell_type": "code",
   "execution_count": 1,
   "id": "binding-clock",
   "metadata": {},
   "outputs": [],
   "source": [
    "%load_ext autoreload\n",
    "%autoreload 2"
   ]
  },
  {
   "cell_type": "code",
   "execution_count": 51,
   "id": "immune-outside",
   "metadata": {},
   "outputs": [],
   "source": [
    "import sys\n",
    "\n",
    "sys.path.append('../')"
   ]
  },
  {
   "cell_type": "code",
   "execution_count": 53,
   "id": "orange-ordinance",
   "metadata": {},
   "outputs": [],
   "source": [
    "import numpy as np\n",
    "import pandas as pd\n",
    "import os\n",
    "\n",
    "from scipy.optimize import minimize_scalar\n",
    "from sklearn.ensemble import RandomForestClassifier\n",
    "from sklearn.linear_model import LogisticRegression\n",
    "from sklearn.metrics import accuracy_score\n",
    "import plotly.express as px\n",
    "import warnings\n",
    "\n",
    "from src.trade import Simulation\n",
    "from src.trade.prepare_data import prepare_data, prepare_data_without_window, generate_window, add_results_to_df, get_simulation_results, get_imbalance_by_thresh\n",
    "from src.trade.model import choose_best_window_size, get_df_of_accuracies_by_window_len_range"
   ]
  },
  {
   "cell_type": "code",
   "execution_count": 54,
   "id": "caroline-commonwealth",
   "metadata": {},
   "outputs": [],
   "source": [
    "warnings.simplefilter(\"ignore\")"
   ]
  },
  {
   "cell_type": "code",
   "execution_count": 55,
   "id": "moving-texas",
   "metadata": {},
   "outputs": [],
   "source": [
    "from src.trade.prepare_data import read_data, make_labels\n",
    "import plotly.graph_objects as go\n",
    "input = '../data/processed/all.csv'\n",
    "n = 3\n",
    "thresh = 5\n",
    "instrument = 'BTC-USD'"
   ]
  },
  {
   "cell_type": "code",
   "execution_count": 11,
   "id": "hispanic-subdivision",
   "metadata": {},
   "outputs": [
    {
     "name": "stdout",
     "output_type": "stream",
     "text": [
      "Threshold for BTC-USD is 1.86%\n"
     ]
    },
    {
     "data": {
      "application/vnd.plotly.v1+json": {
       "config": {
        "plotlyServerURL": "https://plot.ly"
       },
       "data": [
        {
         "histnorm": "percent",
         "name": "До балансировки",
         "opacity": 0.75,
         "type": "histogram",
         "x": [
          "hold",
          "hold",
          "sell",
          "sell",
          "sell",
          "sell",
          "sell",
          "sell",
          "sell",
          "sell",
          "sell",
          "buy",
          "buy",
          "buy",
          "hold",
          "hold",
          "hold",
          "buy",
          "buy",
          "buy",
          "buy",
          "hold",
          "buy",
          "hold",
          "hold",
          "sell",
          "sell",
          "sell",
          "hold",
          "hold",
          "buy",
          "buy",
          "buy",
          "hold",
          "buy",
          "buy",
          "hold",
          "sell",
          "sell",
          "sell",
          "sell",
          "sell",
          "hold",
          "hold",
          "hold",
          "sell",
          "sell",
          "sell",
          "hold",
          "hold",
          "hold",
          "buy",
          "buy",
          "hold",
          "hold",
          "hold",
          "hold",
          "sell",
          "sell",
          "sell",
          "sell",
          "sell",
          "sell",
          "hold",
          "hold",
          "buy",
          "hold",
          "hold",
          "sell",
          "hold",
          "hold",
          "hold",
          "hold",
          "hold",
          "buy",
          "buy",
          "buy",
          "buy",
          "hold",
          "hold",
          "hold",
          "hold",
          "buy",
          "buy",
          "buy",
          "hold",
          "buy",
          "hold",
          "hold",
          "sell",
          "buy",
          "hold",
          "hold",
          "hold",
          "hold",
          "buy",
          "buy",
          "buy",
          "hold",
          "hold",
          "sell",
          "hold",
          "hold",
          "sell",
          "sell",
          "hold",
          "hold",
          "hold",
          "hold",
          "sell",
          "hold",
          "hold",
          "buy",
          "hold",
          "hold",
          "sell",
          "sell",
          "sell",
          "hold",
          "hold",
          "hold",
          "hold",
          "hold",
          "buy",
          "hold",
          "hold",
          "hold",
          "hold",
          "hold",
          "hold",
          "hold",
          "hold",
          "hold",
          "sell",
          "sell",
          "sell",
          "sell",
          "hold",
          "hold",
          "hold",
          "hold",
          "hold",
          "hold",
          "hold",
          "hold",
          "sell",
          "sell",
          "sell",
          "hold",
          "hold",
          "hold",
          "sell",
          "hold",
          "hold",
          "buy",
          "buy",
          "hold",
          "hold",
          "hold",
          "hold",
          "hold",
          "hold",
          "hold",
          "sell",
          "sell",
          "sell",
          "hold",
          "hold",
          "hold",
          "buy",
          "buy",
          "buy",
          "buy",
          "hold",
          "hold",
          "hold",
          "hold",
          "buy",
          "buy",
          "hold",
          "hold",
          "hold",
          "hold",
          "hold",
          "sell",
          "sell",
          "sell",
          "hold",
          "sell",
          "sell",
          "sell",
          "hold",
          "sell",
          "sell",
          "sell",
          "hold",
          "hold",
          "hold",
          "hold",
          "hold",
          "hold",
          "buy",
          "hold",
          "hold",
          "hold",
          "hold",
          "hold",
          "hold",
          "hold",
          "buy",
          "hold",
          "hold",
          "hold",
          "buy",
          "hold",
          "hold",
          "hold",
          "hold",
          "hold",
          "hold",
          "sell",
          "sell",
          "sell",
          "sell",
          "hold",
          "hold",
          "hold",
          "hold",
          "hold",
          "hold",
          "hold",
          "hold",
          "hold",
          "hold",
          "hold",
          "hold",
          "buy",
          "buy",
          "hold",
          "hold",
          "hold",
          "hold",
          "hold",
          "hold",
          "hold",
          "hold",
          "hold",
          "hold",
          "hold",
          "hold",
          "hold",
          "hold",
          "hold",
          "hold",
          "hold",
          "hold",
          "sell",
          "sell",
          "hold",
          "hold",
          "buy",
          "hold",
          "hold",
          "hold",
          "hold",
          "hold",
          "hold",
          "hold",
          "hold",
          "hold",
          "hold",
          "hold",
          "hold",
          "hold",
          "hold",
          "hold",
          "hold",
          "hold",
          "hold",
          "hold",
          "hold",
          "hold",
          "hold",
          "hold",
          "hold",
          "hold",
          "hold",
          "hold",
          "hold",
          "hold",
          "sell",
          "sell",
          "sell",
          "hold",
          "hold",
          "sell",
          "sell",
          "sell",
          "sell",
          "hold",
          "sell",
          "sell",
          "sell",
          "hold",
          "buy",
          "buy",
          "buy",
          "hold",
          "hold",
          "hold",
          "sell",
          "sell",
          "sell",
          "sell",
          "sell",
          "hold",
          "hold",
          "hold",
          "hold",
          "sell",
          "sell",
          "sell",
          "hold",
          "buy",
          "buy",
          "buy",
          "buy",
          "buy",
          "buy",
          "hold",
          "hold",
          "hold",
          "hold",
          "sell",
          "hold",
          "hold",
          "buy",
          "hold",
          "hold",
          "hold",
          "hold",
          "hold",
          "hold",
          "buy",
          "hold",
          "hold",
          "hold",
          "sell",
          "sell",
          "sell",
          "hold",
          "hold",
          "hold",
          "hold",
          "hold",
          "hold",
          "hold",
          "hold",
          "hold",
          "hold",
          "hold",
          "hold",
          "hold",
          "hold",
          "hold",
          "hold",
          "hold",
          "hold",
          "hold",
          "hold",
          "hold",
          "hold",
          "hold",
          "hold",
          "hold",
          "hold",
          "buy",
          "buy",
          "buy",
          "hold",
          "hold",
          "hold",
          "hold",
          "hold",
          "hold",
          "hold",
          "buy",
          "buy",
          "buy",
          "hold",
          "hold",
          "hold",
          "hold",
          "hold",
          "sell",
          "hold",
          "hold",
          "hold",
          "hold",
          "hold",
          "hold",
          "hold",
          "hold",
          "hold",
          "hold",
          "hold",
          "hold",
          "hold",
          "hold",
          "hold",
          "hold",
          "hold",
          "hold",
          "hold",
          "hold",
          "hold",
          "hold",
          "hold",
          "hold",
          "hold",
          "hold",
          "hold",
          "hold",
          "hold",
          "hold",
          "hold",
          "hold",
          "hold",
          "hold",
          "buy",
          "buy",
          "buy",
          "hold",
          "hold",
          "buy",
          "buy",
          "hold",
          "hold",
          "hold",
          "hold",
          "hold",
          "hold",
          "hold",
          "hold",
          "hold",
          "hold",
          "hold",
          "hold",
          "hold",
          "hold",
          "hold",
          "hold",
          "hold",
          "sell",
          "hold",
          "hold",
          "hold",
          "hold",
          "hold",
          "hold",
          "buy",
          "buy",
          "buy",
          "hold",
          "hold",
          "hold",
          "buy",
          "buy",
          "buy",
          "buy",
          "buy",
          "buy",
          "buy",
          "hold",
          "sell",
          "sell",
          "hold",
          "buy",
          "buy",
          "sell",
          "hold",
          "hold",
          "hold",
          "buy",
          "buy",
          "buy",
          "hold",
          "sell",
          "hold",
          "hold",
          "buy",
          "hold",
          "sell",
          "sell",
          "hold",
          "hold",
          "hold",
          "hold",
          "hold",
          "hold",
          "buy",
          "hold",
          "buy",
          "buy",
          "buy",
          "buy",
          "hold",
          "hold",
          "hold",
          "buy",
          "buy",
          "buy",
          "buy",
          "buy",
          "buy",
          "hold",
          "buy",
          "sell",
          "hold",
          "sell",
          "sell",
          "buy",
          "buy",
          "hold",
          "sell",
          "hold",
          "buy",
          "buy",
          "buy",
          "sell",
          "sell",
          "sell",
          "sell",
          "sell",
          "sell",
          "sell",
          "hold",
          "buy",
          "buy",
          "hold",
          "hold",
          "sell",
          "sell",
          "hold",
          "hold",
          "hold",
          "hold",
          "hold",
          "hold",
          "buy",
          "buy",
          "buy",
          "buy",
          "buy",
          "buy",
          "buy",
          "buy",
          "hold",
          "hold",
          "hold",
          "hold",
          "hold",
          "hold",
          "sell",
          "sell",
          "hold",
          "hold",
          "hold",
          "buy",
          "buy",
          "hold",
          "sell",
          "hold",
          "hold",
          "hold",
          "hold",
          "hold",
          "hold",
          "sell",
          "sell",
          "hold",
          "hold",
          "buy",
          "buy",
          "buy",
          "hold",
          "hold",
          "hold",
          "hold",
          "hold",
          "hold",
          "hold",
          "hold",
          "hold",
          "hold",
          "hold",
          "hold",
          "hold",
          "hold",
          "hold",
          "hold",
          "hold",
          "hold",
          "hold",
          "sell",
          "sell",
          "sell",
          "hold",
          "hold",
          "hold",
          "hold",
          "hold",
          "hold",
          "hold",
          "hold",
          "hold",
          "hold",
          "hold",
          "hold",
          "buy",
          "hold",
          "hold",
          "hold",
          "hold",
          "hold",
          "hold",
          "hold",
          "hold",
          "hold",
          "hold",
          "hold",
          "hold",
          "hold",
          "sell",
          "sell",
          "buy",
          "buy",
          "buy",
          "buy",
          "hold",
          "hold",
          "hold",
          "hold",
          "hold",
          "hold",
          "hold",
          "hold",
          "hold",
          "hold",
          "sell",
          "sell",
          "hold",
          "hold",
          "hold",
          "hold",
          "hold",
          "hold",
          "hold",
          "hold",
          "hold",
          "hold",
          "sell",
          "sell",
          "sell",
          "sell",
          "sell",
          "hold",
          "hold",
          "buy",
          "hold",
          "buy",
          "hold",
          "hold",
          "sell",
          "hold",
          "hold",
          "hold",
          "hold",
          "hold",
          "hold",
          "hold",
          "hold",
          "hold",
          "hold",
          "hold",
          "hold",
          "hold",
          "hold",
          "sell",
          "hold",
          "hold",
          "buy",
          "hold",
          "hold",
          "hold",
          "hold",
          "hold",
          "hold",
          "hold",
          "hold",
          "hold",
          "hold",
          "hold",
          "hold",
          "hold",
          "hold",
          "hold",
          "buy",
          "buy",
          "buy",
          "buy",
          "hold",
          "hold",
          "hold",
          "hold",
          "hold",
          "buy",
          "buy",
          "buy",
          "hold",
          "hold",
          "hold",
          "hold",
          "hold",
          "hold",
          "hold",
          "hold",
          "hold",
          "hold",
          "buy",
          "buy",
          "buy",
          "buy",
          "hold",
          "hold",
          "hold",
          "hold",
          "hold",
          "hold",
          "hold",
          "buy",
          "hold",
          "hold",
          "hold",
          "hold",
          "hold",
          "hold",
          "hold",
          "hold",
          "hold",
          "sell",
          "hold",
          "hold",
          "hold",
          "hold",
          "hold",
          "hold",
          "hold",
          "hold",
          "sell",
          "sell",
          "sell",
          "hold",
          "hold",
          "hold",
          "hold",
          "hold",
          "hold",
          "hold",
          "hold",
          "sell",
          "sell",
          "sell",
          "hold",
          "sell",
          "sell",
          "sell",
          "buy",
          "sell",
          "hold",
          "hold",
          "buy",
          "buy",
          "buy",
          "sell",
          "hold",
          "buy",
          "buy",
          "hold",
          "hold",
          "sell",
          "sell",
          "hold",
          "hold",
          "buy",
          "buy",
          "hold",
          "hold",
          "hold",
          "buy",
          "hold",
          "buy",
          "hold",
          "hold",
          "sell",
          "hold",
          "hold",
          "hold",
          "hold",
          "hold",
          "hold",
          "buy",
          "hold",
          "hold",
          "sell",
          "hold",
          "buy",
          "buy",
          "buy",
          "hold",
          "hold",
          "hold",
          "buy",
          "buy",
          "buy",
          "hold",
          "hold",
          "hold",
          "hold",
          "hold",
          "buy",
          "buy",
          "hold",
          "sell",
          "sell",
          "sell",
          "buy",
          "buy",
          "buy",
          "hold",
          "hold",
          "hold",
          "hold",
          "hold",
          "sell",
          "sell",
          "hold",
          "hold",
          "hold",
          "hold",
          "hold",
          "buy",
          "buy",
          "buy",
          "hold",
          "buy",
          "hold",
          "hold",
          "hold",
          "hold",
          "hold",
          "hold",
          "hold",
          "hold",
          "hold",
          "hold",
          "hold",
          "hold",
          "hold",
          "hold",
          "hold",
          "hold",
          "hold",
          "hold",
          "hold",
          "hold",
          "hold",
          "hold",
          "hold",
          "hold",
          "hold",
          "hold",
          "hold",
          "hold",
          "hold",
          "hold",
          "hold",
          "hold",
          "hold",
          "hold",
          "hold",
          "hold",
          "hold",
          "hold",
          "hold",
          "hold",
          "hold",
          "hold",
          "hold",
          "hold",
          "hold",
          "hold",
          "hold",
          "hold",
          "hold",
          "hold",
          "hold",
          "hold",
          "hold",
          "hold",
          "hold",
          "buy",
          "buy",
          "buy",
          "hold",
          "hold",
          "buy",
          "hold",
          "hold",
          "hold",
          "buy",
          "hold",
          "hold",
          "hold",
          "hold",
          "hold",
          "hold",
          "hold",
          "hold",
          "hold",
          "hold",
          "hold",
          "hold",
          "hold",
          "hold",
          "hold",
          "hold",
          "hold",
          "hold",
          "hold",
          "hold",
          "hold",
          "hold",
          "hold",
          "hold",
          "hold",
          "hold",
          "hold",
          "hold",
          "sell",
          "sell",
          "sell",
          "hold",
          "hold",
          "hold",
          "hold",
          "hold",
          "hold",
          "hold",
          "hold",
          "hold",
          "hold",
          "buy",
          "hold",
          "hold",
          "hold",
          "hold",
          "hold",
          "sell",
          "sell",
          "hold",
          "hold",
          "buy",
          "hold",
          "hold",
          "hold",
          "hold",
          "hold",
          "hold",
          "hold",
          "hold",
          "hold",
          "hold",
          "hold",
          "hold",
          "hold",
          "buy",
          "hold",
          "hold",
          "hold",
          "hold",
          "hold",
          "hold",
          "hold",
          "hold",
          "hold",
          "hold",
          "buy",
          "buy",
          "buy",
          "hold",
          "hold",
          "hold",
          "hold",
          "hold",
          "hold",
          "hold",
          "hold",
          "hold",
          "hold",
          "hold",
          "hold",
          "buy",
          "buy",
          "hold",
          "hold",
          "hold",
          "hold",
          "hold",
          "buy",
          "buy",
          "hold",
          "hold",
          "hold",
          "buy",
          "buy",
          "buy",
          "buy",
          "hold",
          "hold",
          "hold",
          "hold",
          "hold",
          "sell",
          "sell",
          "sell",
          "buy",
          "buy",
          "buy",
          "buy",
          "hold",
          "hold",
          "hold",
          "hold",
          "hold",
          "hold",
          "hold",
          "hold",
          "hold",
          "hold",
          "hold",
          "buy",
          "hold",
          "buy",
          "buy",
          "buy",
          "buy",
          "hold",
          "hold",
          "hold",
          "hold",
          "hold",
          "hold",
          "buy",
          "buy",
          "buy",
          "hold",
          "buy",
          "buy",
          "buy",
          "buy",
          "buy",
          "buy",
          "buy",
          "buy",
          "buy",
          "buy",
          "buy",
          "hold",
          "sell",
          "sell",
          "hold",
          "buy",
          "buy",
          "hold",
          "sell",
          "hold",
          "hold",
          "hold"
         ],
         "xbins": {
          "end": 3,
          "size": 0.5,
          "start": -4
         }
        },
        {
         "histnorm": "percent",
         "name": "После балансировки",
         "opacity": 0.75,
         "type": "histogram",
         "x": [
          "buy",
          "hold",
          "sell",
          "sell",
          "sell",
          "sell",
          "sell",
          "sell",
          "sell",
          "sell",
          "sell",
          "buy",
          "buy",
          "buy",
          "hold",
          "buy",
          "hold",
          "buy",
          "buy",
          "buy",
          "buy",
          "buy",
          "buy",
          "buy",
          "hold",
          "sell",
          "sell",
          "sell",
          "sell",
          "hold",
          "buy",
          "buy",
          "buy",
          "buy",
          "buy",
          "buy",
          "buy",
          "sell",
          "sell",
          "sell",
          "sell",
          "sell",
          "buy",
          "hold",
          "buy",
          "sell",
          "sell",
          "sell",
          "sell",
          "hold",
          "buy",
          "buy",
          "buy",
          "hold",
          "hold",
          "sell",
          "sell",
          "sell",
          "sell",
          "sell",
          "sell",
          "sell",
          "sell",
          "sell",
          "buy",
          "buy",
          "hold",
          "sell",
          "sell",
          "hold",
          "buy",
          "buy",
          "hold",
          "hold",
          "buy",
          "buy",
          "buy",
          "buy",
          "buy",
          "hold",
          "sell",
          "buy",
          "buy",
          "buy",
          "buy",
          "hold",
          "buy",
          "hold",
          "buy",
          "sell",
          "buy",
          "hold",
          "buy",
          "sell",
          "sell",
          "buy",
          "buy",
          "buy",
          "hold",
          "sell",
          "sell",
          "sell",
          "sell",
          "sell",
          "sell",
          "sell",
          "buy",
          "hold",
          "sell",
          "sell",
          "sell",
          "hold",
          "buy",
          "buy",
          "sell",
          "sell",
          "sell",
          "sell",
          "sell",
          "sell",
          "sell",
          "hold",
          "hold",
          "buy",
          "hold",
          "buy",
          "buy",
          "hold",
          "hold",
          "hold",
          "buy",
          "hold",
          "hold",
          "sell",
          "sell",
          "sell",
          "sell",
          "sell",
          "sell",
          "buy",
          "sell",
          "buy",
          "buy",
          "buy",
          "hold",
          "sell",
          "sell",
          "sell",
          "buy",
          "hold",
          "hold",
          "sell",
          "buy",
          "buy",
          "buy",
          "buy",
          "buy",
          "buy",
          "hold",
          "buy",
          "buy",
          "buy",
          "hold",
          "sell",
          "sell",
          "sell",
          "hold",
          "hold",
          "buy",
          "buy",
          "buy",
          "buy",
          "buy",
          "hold",
          "hold",
          "hold",
          "buy",
          "buy",
          "buy",
          "buy",
          "sell",
          "hold",
          "buy",
          "hold",
          "sell",
          "sell",
          "sell",
          "sell",
          "sell",
          "sell",
          "sell",
          "sell",
          "sell",
          "sell",
          "sell",
          "hold",
          "sell",
          "hold",
          "hold",
          "hold",
          "hold",
          "buy",
          "hold",
          "buy",
          "sell",
          "hold",
          "sell",
          "buy",
          "buy",
          "buy",
          "buy",
          "buy",
          "buy",
          "buy",
          "hold",
          "hold",
          "buy",
          "buy",
          "buy",
          "buy",
          "sell",
          "sell",
          "sell",
          "sell",
          "sell",
          "sell",
          "hold",
          "hold",
          "buy",
          "buy",
          "buy",
          "hold",
          "sell",
          "sell",
          "hold",
          "buy",
          "buy",
          "buy",
          "buy",
          "sell",
          "sell",
          "sell",
          "hold",
          "buy",
          "hold",
          "hold",
          "hold",
          "hold",
          "hold",
          "hold",
          "hold",
          "hold",
          "hold",
          "hold",
          "hold",
          "hold",
          "sell",
          "sell",
          "sell",
          "hold",
          "buy",
          "buy",
          "buy",
          "hold",
          "sell",
          "hold",
          "hold",
          "hold",
          "hold",
          "hold",
          "hold",
          "hold",
          "hold",
          "hold",
          "sell",
          "sell",
          "sell",
          "hold",
          "hold",
          "hold",
          "hold",
          "hold",
          "hold",
          "buy",
          "hold",
          "hold",
          "hold",
          "hold",
          "hold",
          "hold",
          "sell",
          "sell",
          "sell",
          "sell",
          "hold",
          "sell",
          "sell",
          "sell",
          "sell",
          "sell",
          "sell",
          "sell",
          "sell",
          "hold",
          "buy",
          "buy",
          "buy",
          "hold",
          "sell",
          "sell",
          "sell",
          "sell",
          "sell",
          "sell",
          "sell",
          "buy",
          "buy",
          "hold",
          "sell",
          "sell",
          "sell",
          "sell",
          "hold",
          "buy",
          "buy",
          "buy",
          "buy",
          "buy",
          "buy",
          "sell",
          "buy",
          "sell",
          "sell",
          "sell",
          "buy",
          "hold",
          "buy",
          "sell",
          "hold",
          "buy",
          "buy",
          "hold",
          "sell",
          "buy",
          "buy",
          "buy",
          "hold",
          "sell",
          "sell",
          "sell",
          "sell",
          "hold",
          "hold",
          "buy",
          "hold",
          "hold",
          "buy",
          "sell",
          "sell",
          "sell",
          "hold",
          "hold",
          "hold",
          "hold",
          "hold",
          "sell",
          "sell",
          "sell",
          "hold",
          "hold",
          "hold",
          "hold",
          "hold",
          "hold",
          "hold",
          "hold",
          "buy",
          "buy",
          "buy",
          "hold",
          "hold",
          "hold",
          "hold",
          "hold",
          "hold",
          "hold",
          "buy",
          "buy",
          "buy",
          "hold",
          "hold",
          "buy",
          "sell",
          "sell",
          "sell",
          "hold",
          "hold",
          "hold",
          "hold",
          "hold",
          "sell",
          "hold",
          "hold",
          "buy",
          "hold",
          "hold",
          "hold",
          "hold",
          "hold",
          "hold",
          "hold",
          "hold",
          "buy",
          "buy",
          "hold",
          "hold",
          "hold",
          "hold",
          "hold",
          "hold",
          "hold",
          "hold",
          "hold",
          "hold",
          "buy",
          "buy",
          "hold",
          "hold",
          "hold",
          "buy",
          "buy",
          "buy",
          "buy",
          "hold",
          "buy",
          "buy",
          "buy",
          "buy",
          "sell",
          "sell",
          "sell",
          "buy",
          "hold",
          "buy",
          "hold",
          "buy",
          "hold",
          "hold",
          "hold",
          "hold",
          "buy",
          "buy",
          "sell",
          "sell",
          "sell",
          "hold",
          "hold",
          "hold",
          "buy",
          "buy",
          "buy",
          "buy",
          "buy",
          "hold",
          "hold",
          "buy",
          "buy",
          "buy",
          "buy",
          "buy",
          "buy",
          "buy",
          "buy",
          "hold",
          "sell",
          "sell",
          "buy",
          "buy",
          "buy",
          "sell",
          "hold",
          "hold",
          "buy",
          "buy",
          "buy",
          "buy",
          "hold",
          "sell",
          "hold",
          "hold",
          "buy",
          "sell",
          "sell",
          "sell",
          "sell",
          "buy",
          "hold",
          "hold",
          "hold",
          "hold",
          "buy",
          "buy",
          "buy",
          "buy",
          "buy",
          "buy",
          "buy",
          "buy",
          "buy",
          "buy",
          "buy",
          "buy",
          "buy",
          "buy",
          "buy",
          "hold",
          "buy",
          "sell",
          "sell",
          "sell",
          "sell",
          "buy",
          "buy",
          "hold",
          "sell",
          "buy",
          "buy",
          "buy",
          "buy",
          "sell",
          "sell",
          "sell",
          "sell",
          "sell",
          "sell",
          "sell",
          "sell",
          "buy",
          "buy",
          "hold",
          "hold",
          "sell",
          "sell",
          "sell",
          "hold",
          "sell",
          "sell",
          "sell",
          "hold",
          "buy",
          "buy",
          "buy",
          "buy",
          "buy",
          "buy",
          "buy",
          "buy",
          "hold",
          "buy",
          "sell",
          "sell",
          "sell",
          "sell",
          "sell",
          "sell",
          "sell",
          "hold",
          "hold",
          "buy",
          "buy",
          "sell",
          "sell",
          "sell",
          "hold",
          "hold",
          "hold",
          "hold",
          "sell",
          "sell",
          "sell",
          "hold",
          "buy",
          "buy",
          "buy",
          "buy",
          "buy",
          "sell",
          "hold",
          "hold",
          "hold",
          "sell",
          "sell",
          "hold",
          "buy",
          "hold",
          "hold",
          "hold",
          "hold",
          "hold",
          "hold",
          "hold",
          "hold",
          "sell",
          "sell",
          "sell",
          "sell",
          "sell",
          "sell",
          "sell",
          "hold",
          "hold",
          "hold",
          "buy",
          "hold",
          "hold",
          "sell",
          "sell",
          "hold",
          "hold",
          "buy",
          "buy",
          "hold",
          "sell",
          "sell",
          "hold",
          "hold",
          "sell",
          "sell",
          "sell",
          "hold",
          "hold",
          "buy",
          "hold",
          "sell",
          "sell",
          "buy",
          "buy",
          "buy",
          "buy",
          "buy",
          "sell",
          "hold",
          "hold",
          "hold",
          "hold",
          "hold",
          "hold",
          "hold",
          "hold",
          "sell",
          "sell",
          "sell",
          "hold",
          "hold",
          "sell",
          "hold",
          "sell",
          "sell",
          "hold",
          "sell",
          "sell",
          "sell",
          "sell",
          "sell",
          "sell",
          "sell",
          "sell",
          "sell",
          "buy",
          "buy",
          "buy",
          "hold",
          "hold",
          "sell",
          "sell",
          "sell",
          "hold",
          "buy",
          "buy",
          "hold",
          "sell",
          "sell",
          "sell",
          "sell",
          "hold",
          "hold",
          "hold",
          "sell",
          "sell",
          "hold",
          "buy",
          "buy",
          "hold",
          "buy",
          "buy",
          "hold",
          "sell",
          "hold",
          "hold",
          "hold",
          "buy",
          "hold",
          "hold",
          "sell",
          "sell",
          "buy",
          "buy",
          "buy",
          "buy",
          "buy",
          "buy",
          "hold",
          "hold",
          "hold",
          "buy",
          "hold",
          "buy",
          "buy",
          "buy",
          "hold",
          "hold",
          "hold",
          "sell",
          "sell",
          "hold",
          "sell",
          "sell",
          "sell",
          "buy",
          "buy",
          "buy",
          "buy",
          "buy",
          "hold",
          "hold",
          "hold",
          "hold",
          "sell",
          "buy",
          "buy",
          "buy",
          "buy",
          "buy",
          "hold",
          "buy",
          "buy",
          "buy",
          "hold",
          "sell",
          "sell",
          "sell",
          "buy",
          "sell",
          "hold",
          "sell",
          "hold",
          "buy",
          "hold",
          "sell",
          "sell",
          "sell",
          "sell",
          "sell",
          "sell",
          "buy",
          "buy",
          "buy",
          "buy",
          "buy",
          "hold",
          "sell",
          "sell",
          "sell",
          "sell",
          "sell",
          "sell",
          "sell",
          "buy",
          "sell",
          "hold",
          "sell",
          "buy",
          "buy",
          "buy",
          "sell",
          "buy",
          "buy",
          "buy",
          "buy",
          "sell",
          "sell",
          "sell",
          "hold",
          "buy",
          "buy",
          "buy",
          "buy",
          "buy",
          "hold",
          "buy",
          "buy",
          "buy",
          "hold",
          "sell",
          "sell",
          "sell",
          "hold",
          "hold",
          "sell",
          "buy",
          "buy",
          "buy",
          "hold",
          "sell",
          "sell",
          "hold",
          "buy",
          "buy",
          "buy",
          "buy",
          "buy",
          "buy",
          "buy",
          "buy",
          "buy",
          "buy",
          "buy",
          "hold",
          "hold",
          "buy",
          "buy",
          "buy",
          "buy",
          "sell",
          "sell",
          "sell",
          "buy",
          "buy",
          "buy",
          "hold",
          "hold",
          "buy",
          "buy",
          "hold",
          "sell",
          "sell",
          "sell",
          "sell",
          "sell",
          "sell",
          "buy",
          "buy",
          "buy",
          "buy",
          "hold",
          "buy",
          "hold",
          "buy",
          "sell",
          "hold",
          "hold",
          "hold",
          "hold",
          "hold",
          "hold",
          "sell",
          "sell",
          "sell",
          "hold",
          "hold",
          "hold",
          "hold",
          "hold",
          "sell",
          "hold",
          "hold",
          "buy",
          "buy",
          "hold",
          "sell",
          "sell",
          "sell",
          "hold",
          "hold",
          "hold",
          "hold",
          "hold",
          "hold",
          "hold",
          "hold",
          "buy",
          "hold",
          "buy",
          "hold",
          "hold",
          "sell",
          "hold",
          "hold",
          "hold",
          "hold",
          "hold",
          "hold",
          "hold",
          "hold",
          "hold",
          "buy",
          "buy",
          "buy",
          "hold",
          "hold",
          "buy",
          "buy",
          "buy",
          "buy",
          "hold",
          "buy",
          "buy",
          "hold",
          "hold",
          "sell",
          "buy",
          "buy",
          "buy",
          "hold",
          "hold",
          "buy",
          "sell",
          "hold",
          "hold",
          "buy",
          "buy",
          "hold",
          "buy",
          "hold",
          "hold",
          "sell",
          "sell",
          "hold",
          "hold",
          "hold",
          "sell",
          "hold",
          "sell",
          "hold",
          "hold",
          "buy",
          "hold",
          "buy",
          "sell",
          "sell",
          "sell",
          "sell",
          "hold",
          "hold",
          "hold",
          "hold",
          "hold",
          "buy",
          "buy",
          "hold",
          "buy",
          "buy",
          "buy",
          "buy",
          "hold",
          "hold",
          "hold",
          "sell",
          "sell",
          "sell",
          "buy",
          "hold",
          "buy",
          "hold",
          "hold",
          "hold",
          "hold",
          "hold",
          "sell",
          "sell",
          "hold",
          "buy",
          "hold",
          "hold",
          "hold",
          "buy",
          "buy",
          "buy",
          "buy",
          "hold",
          "hold",
          "hold",
          "hold",
          "hold",
          "hold",
          "buy",
          "buy",
          "buy",
          "buy",
          "buy",
          "buy",
          "hold",
          "hold",
          "buy",
          "hold",
          "buy",
          "hold",
          "buy",
          "buy",
          "hold",
          "hold",
          "buy",
          "buy",
          "buy",
          "buy",
          "hold",
          "hold",
          "buy",
          "hold",
          "buy",
          "buy",
          "buy",
          "sell",
          "buy",
          "buy",
          "buy",
          "buy",
          "buy",
          "buy",
          "buy",
          "hold",
          "buy",
          "buy",
          "sell",
          "sell",
          "sell",
          "buy",
          "buy",
          "buy",
          "buy",
          "hold",
          "hold",
          "hold",
          "hold",
          "buy",
          "sell",
          "sell",
          "sell",
          "hold",
          "hold",
          "buy",
          "buy",
          "buy",
          "buy",
          "buy",
          "buy",
          "buy",
          "buy",
          "hold",
          "hold",
          "hold",
          "buy",
          "buy",
          "buy",
          "buy",
          "buy",
          "buy",
          "buy",
          "buy",
          "buy",
          "buy",
          "buy",
          "buy",
          "buy",
          "buy",
          "buy",
          "buy",
          "buy",
          "sell",
          "sell",
          "sell",
          "sell",
          "buy",
          "buy",
          "sell",
          "sell",
          "hold",
          "hold",
          "hold"
         ],
         "xbins": {
          "end": 4,
          "size": 0.5,
          "start": -3
         }
        }
       ],
       "layout": {
        "autosize": true,
        "template": {
         "data": {
          "bar": [
           {
            "error_x": {
             "color": "#2a3f5f"
            },
            "error_y": {
             "color": "#2a3f5f"
            },
            "marker": {
             "line": {
              "color": "#E5ECF6",
              "width": 0.5
             }
            },
            "type": "bar"
           }
          ],
          "barpolar": [
           {
            "marker": {
             "line": {
              "color": "#E5ECF6",
              "width": 0.5
             }
            },
            "type": "barpolar"
           }
          ],
          "carpet": [
           {
            "aaxis": {
             "endlinecolor": "#2a3f5f",
             "gridcolor": "white",
             "linecolor": "white",
             "minorgridcolor": "white",
             "startlinecolor": "#2a3f5f"
            },
            "baxis": {
             "endlinecolor": "#2a3f5f",
             "gridcolor": "white",
             "linecolor": "white",
             "minorgridcolor": "white",
             "startlinecolor": "#2a3f5f"
            },
            "type": "carpet"
           }
          ],
          "choropleth": [
           {
            "colorbar": {
             "outlinewidth": 0,
             "ticks": ""
            },
            "type": "choropleth"
           }
          ],
          "contour": [
           {
            "colorbar": {
             "outlinewidth": 0,
             "ticks": ""
            },
            "colorscale": [
             [
              0,
              "#0d0887"
             ],
             [
              0.1111111111111111,
              "#46039f"
             ],
             [
              0.2222222222222222,
              "#7201a8"
             ],
             [
              0.3333333333333333,
              "#9c179e"
             ],
             [
              0.4444444444444444,
              "#bd3786"
             ],
             [
              0.5555555555555556,
              "#d8576b"
             ],
             [
              0.6666666666666666,
              "#ed7953"
             ],
             [
              0.7777777777777778,
              "#fb9f3a"
             ],
             [
              0.8888888888888888,
              "#fdca26"
             ],
             [
              1,
              "#f0f921"
             ]
            ],
            "type": "contour"
           }
          ],
          "contourcarpet": [
           {
            "colorbar": {
             "outlinewidth": 0,
             "ticks": ""
            },
            "type": "contourcarpet"
           }
          ],
          "heatmap": [
           {
            "colorbar": {
             "outlinewidth": 0,
             "ticks": ""
            },
            "colorscale": [
             [
              0,
              "#0d0887"
             ],
             [
              0.1111111111111111,
              "#46039f"
             ],
             [
              0.2222222222222222,
              "#7201a8"
             ],
             [
              0.3333333333333333,
              "#9c179e"
             ],
             [
              0.4444444444444444,
              "#bd3786"
             ],
             [
              0.5555555555555556,
              "#d8576b"
             ],
             [
              0.6666666666666666,
              "#ed7953"
             ],
             [
              0.7777777777777778,
              "#fb9f3a"
             ],
             [
              0.8888888888888888,
              "#fdca26"
             ],
             [
              1,
              "#f0f921"
             ]
            ],
            "type": "heatmap"
           }
          ],
          "heatmapgl": [
           {
            "colorbar": {
             "outlinewidth": 0,
             "ticks": ""
            },
            "colorscale": [
             [
              0,
              "#0d0887"
             ],
             [
              0.1111111111111111,
              "#46039f"
             ],
             [
              0.2222222222222222,
              "#7201a8"
             ],
             [
              0.3333333333333333,
              "#9c179e"
             ],
             [
              0.4444444444444444,
              "#bd3786"
             ],
             [
              0.5555555555555556,
              "#d8576b"
             ],
             [
              0.6666666666666666,
              "#ed7953"
             ],
             [
              0.7777777777777778,
              "#fb9f3a"
             ],
             [
              0.8888888888888888,
              "#fdca26"
             ],
             [
              1,
              "#f0f921"
             ]
            ],
            "type": "heatmapgl"
           }
          ],
          "histogram": [
           {
            "marker": {
             "colorbar": {
              "outlinewidth": 0,
              "ticks": ""
             }
            },
            "type": "histogram"
           }
          ],
          "histogram2d": [
           {
            "colorbar": {
             "outlinewidth": 0,
             "ticks": ""
            },
            "colorscale": [
             [
              0,
              "#0d0887"
             ],
             [
              0.1111111111111111,
              "#46039f"
             ],
             [
              0.2222222222222222,
              "#7201a8"
             ],
             [
              0.3333333333333333,
              "#9c179e"
             ],
             [
              0.4444444444444444,
              "#bd3786"
             ],
             [
              0.5555555555555556,
              "#d8576b"
             ],
             [
              0.6666666666666666,
              "#ed7953"
             ],
             [
              0.7777777777777778,
              "#fb9f3a"
             ],
             [
              0.8888888888888888,
              "#fdca26"
             ],
             [
              1,
              "#f0f921"
             ]
            ],
            "type": "histogram2d"
           }
          ],
          "histogram2dcontour": [
           {
            "colorbar": {
             "outlinewidth": 0,
             "ticks": ""
            },
            "colorscale": [
             [
              0,
              "#0d0887"
             ],
             [
              0.1111111111111111,
              "#46039f"
             ],
             [
              0.2222222222222222,
              "#7201a8"
             ],
             [
              0.3333333333333333,
              "#9c179e"
             ],
             [
              0.4444444444444444,
              "#bd3786"
             ],
             [
              0.5555555555555556,
              "#d8576b"
             ],
             [
              0.6666666666666666,
              "#ed7953"
             ],
             [
              0.7777777777777778,
              "#fb9f3a"
             ],
             [
              0.8888888888888888,
              "#fdca26"
             ],
             [
              1,
              "#f0f921"
             ]
            ],
            "type": "histogram2dcontour"
           }
          ],
          "mesh3d": [
           {
            "colorbar": {
             "outlinewidth": 0,
             "ticks": ""
            },
            "type": "mesh3d"
           }
          ],
          "parcoords": [
           {
            "line": {
             "colorbar": {
              "outlinewidth": 0,
              "ticks": ""
             }
            },
            "type": "parcoords"
           }
          ],
          "pie": [
           {
            "automargin": true,
            "type": "pie"
           }
          ],
          "scatter": [
           {
            "marker": {
             "colorbar": {
              "outlinewidth": 0,
              "ticks": ""
             }
            },
            "type": "scatter"
           }
          ],
          "scatter3d": [
           {
            "line": {
             "colorbar": {
              "outlinewidth": 0,
              "ticks": ""
             }
            },
            "marker": {
             "colorbar": {
              "outlinewidth": 0,
              "ticks": ""
             }
            },
            "type": "scatter3d"
           }
          ],
          "scattercarpet": [
           {
            "marker": {
             "colorbar": {
              "outlinewidth": 0,
              "ticks": ""
             }
            },
            "type": "scattercarpet"
           }
          ],
          "scattergeo": [
           {
            "marker": {
             "colorbar": {
              "outlinewidth": 0,
              "ticks": ""
             }
            },
            "type": "scattergeo"
           }
          ],
          "scattergl": [
           {
            "marker": {
             "colorbar": {
              "outlinewidth": 0,
              "ticks": ""
             }
            },
            "type": "scattergl"
           }
          ],
          "scattermapbox": [
           {
            "marker": {
             "colorbar": {
              "outlinewidth": 0,
              "ticks": ""
             }
            },
            "type": "scattermapbox"
           }
          ],
          "scatterpolar": [
           {
            "marker": {
             "colorbar": {
              "outlinewidth": 0,
              "ticks": ""
             }
            },
            "type": "scatterpolar"
           }
          ],
          "scatterpolargl": [
           {
            "marker": {
             "colorbar": {
              "outlinewidth": 0,
              "ticks": ""
             }
            },
            "type": "scatterpolargl"
           }
          ],
          "scatterternary": [
           {
            "marker": {
             "colorbar": {
              "outlinewidth": 0,
              "ticks": ""
             }
            },
            "type": "scatterternary"
           }
          ],
          "surface": [
           {
            "colorbar": {
             "outlinewidth": 0,
             "ticks": ""
            },
            "colorscale": [
             [
              0,
              "#0d0887"
             ],
             [
              0.1111111111111111,
              "#46039f"
             ],
             [
              0.2222222222222222,
              "#7201a8"
             ],
             [
              0.3333333333333333,
              "#9c179e"
             ],
             [
              0.4444444444444444,
              "#bd3786"
             ],
             [
              0.5555555555555556,
              "#d8576b"
             ],
             [
              0.6666666666666666,
              "#ed7953"
             ],
             [
              0.7777777777777778,
              "#fb9f3a"
             ],
             [
              0.8888888888888888,
              "#fdca26"
             ],
             [
              1,
              "#f0f921"
             ]
            ],
            "type": "surface"
           }
          ],
          "table": [
           {
            "cells": {
             "fill": {
              "color": "#EBF0F8"
             },
             "line": {
              "color": "white"
             }
            },
            "header": {
             "fill": {
              "color": "#C8D4E3"
             },
             "line": {
              "color": "white"
             }
            },
            "type": "table"
           }
          ]
         },
         "layout": {
          "annotationdefaults": {
           "arrowcolor": "#2a3f5f",
           "arrowhead": 0,
           "arrowwidth": 1
          },
          "coloraxis": {
           "colorbar": {
            "outlinewidth": 0,
            "ticks": ""
           }
          },
          "colorscale": {
           "diverging": [
            [
             0,
             "#8e0152"
            ],
            [
             0.1,
             "#c51b7d"
            ],
            [
             0.2,
             "#de77ae"
            ],
            [
             0.3,
             "#f1b6da"
            ],
            [
             0.4,
             "#fde0ef"
            ],
            [
             0.5,
             "#f7f7f7"
            ],
            [
             0.6,
             "#e6f5d0"
            ],
            [
             0.7,
             "#b8e186"
            ],
            [
             0.8,
             "#7fbc41"
            ],
            [
             0.9,
             "#4d9221"
            ],
            [
             1,
             "#276419"
            ]
           ],
           "sequential": [
            [
             0,
             "#0d0887"
            ],
            [
             0.1111111111111111,
             "#46039f"
            ],
            [
             0.2222222222222222,
             "#7201a8"
            ],
            [
             0.3333333333333333,
             "#9c179e"
            ],
            [
             0.4444444444444444,
             "#bd3786"
            ],
            [
             0.5555555555555556,
             "#d8576b"
            ],
            [
             0.6666666666666666,
             "#ed7953"
            ],
            [
             0.7777777777777778,
             "#fb9f3a"
            ],
            [
             0.8888888888888888,
             "#fdca26"
            ],
            [
             1,
             "#f0f921"
            ]
           ],
           "sequentialminus": [
            [
             0,
             "#0d0887"
            ],
            [
             0.1111111111111111,
             "#46039f"
            ],
            [
             0.2222222222222222,
             "#7201a8"
            ],
            [
             0.3333333333333333,
             "#9c179e"
            ],
            [
             0.4444444444444444,
             "#bd3786"
            ],
            [
             0.5555555555555556,
             "#d8576b"
            ],
            [
             0.6666666666666666,
             "#ed7953"
            ],
            [
             0.7777777777777778,
             "#fb9f3a"
            ],
            [
             0.8888888888888888,
             "#fdca26"
            ],
            [
             1,
             "#f0f921"
            ]
           ]
          },
          "colorway": [
           "#636efa",
           "#EF553B",
           "#00cc96",
           "#ab63fa",
           "#FFA15A",
           "#19d3f3",
           "#FF6692",
           "#B6E880",
           "#FF97FF",
           "#FECB52"
          ],
          "font": {
           "color": "#2a3f5f"
          },
          "geo": {
           "bgcolor": "white",
           "lakecolor": "white",
           "landcolor": "#E5ECF6",
           "showlakes": true,
           "showland": true,
           "subunitcolor": "white"
          },
          "hoverlabel": {
           "align": "left"
          },
          "hovermode": "closest",
          "mapbox": {
           "style": "light"
          },
          "paper_bgcolor": "white",
          "plot_bgcolor": "#E5ECF6",
          "polar": {
           "angularaxis": {
            "gridcolor": "white",
            "linecolor": "white",
            "ticks": ""
           },
           "bgcolor": "#E5ECF6",
           "radialaxis": {
            "gridcolor": "white",
            "linecolor": "white",
            "ticks": ""
           }
          },
          "scene": {
           "xaxis": {
            "backgroundcolor": "#E5ECF6",
            "gridcolor": "white",
            "gridwidth": 2,
            "linecolor": "white",
            "showbackground": true,
            "ticks": "",
            "zerolinecolor": "white"
           },
           "yaxis": {
            "backgroundcolor": "#E5ECF6",
            "gridcolor": "white",
            "gridwidth": 2,
            "linecolor": "white",
            "showbackground": true,
            "ticks": "",
            "zerolinecolor": "white"
           },
           "zaxis": {
            "backgroundcolor": "#E5ECF6",
            "gridcolor": "white",
            "gridwidth": 2,
            "linecolor": "white",
            "showbackground": true,
            "ticks": "",
            "zerolinecolor": "white"
           }
          },
          "shapedefaults": {
           "line": {
            "color": "#2a3f5f"
           }
          },
          "ternary": {
           "aaxis": {
            "gridcolor": "white",
            "linecolor": "white",
            "ticks": ""
           },
           "baxis": {
            "gridcolor": "white",
            "linecolor": "white",
            "ticks": ""
           },
           "bgcolor": "#E5ECF6",
           "caxis": {
            "gridcolor": "white",
            "linecolor": "white",
            "ticks": ""
           }
          },
          "title": {
           "x": 0.05
          },
          "xaxis": {
           "automargin": true,
           "gridcolor": "white",
           "linecolor": "white",
           "ticks": "",
           "title": {
            "standoff": 15
           },
           "zerolinecolor": "white",
           "zerolinewidth": 2
          },
          "yaxis": {
           "automargin": true,
           "gridcolor": "white",
           "linecolor": "white",
           "ticks": "",
           "title": {
            "standoff": 15
           },
           "zerolinecolor": "white",
           "zerolinewidth": 2
          }
         }
        },
        "title": {
         "text": "Распределение классов до и после балансировки"
        },
        "xaxis": {
         "autorange": true,
         "range": [
          0,
          3
         ],
         "type": "category"
        },
        "yaxis": {
         "autorange": true,
         "range": [
          0,
          70.56208013145812
         ]
        }
       }
      },
      "image/png": "[encoded data removed]",
      "text/html": [
       "<div>\n",
       "        \n",
       "        \n",
       "            <div id=\"315495ba-947c-4188-881c-a2157e8dfbf0\" class=\"plotly-graph-div\" style=\"height:525px; width:100%;\"></div>\n",
       "            <script type=\"text/javascript\">\n",
       "                require([\"plotly\"], function(Plotly) {\n",
       "                    window.PLOTLYENV=window.PLOTLYENV || {};\n",
       "                    \n",
       "                if (document.getElementById(\"315495ba-947c-4188-881c-a2157e8dfbf0\")) {\n",
       "                    Plotly.newPlot(\n",
       "                        '315495ba-947c-4188-881c-a2157e8dfbf0',\n",
       "                        [{\"histnorm\": \"percent\", \"name\": \"\\u0414\\u043e \\u0431\\u0430\\u043b\\u0430\\u043d\\u0441\\u0438\\u0440\\u043e\\u0432\\u043a\\u0438\", \"opacity\": 0.75, \"type\": \"histogram\", \"x\": [\"hold\", \"hold\", \"sell\", \"sell\", \"sell\", \"sell\", \"sell\", \"sell\", \"sell\", \"sell\", \"sell\", \"buy\", \"buy\", \"buy\", \"hold\", \"hold\", \"hold\", \"buy\", \"buy\", \"buy\", \"buy\", \"hold\", \"buy\", \"hold\", \"hold\", \"sell\", \"sell\", \"sell\", \"hold\", \"hold\", \"buy\", \"buy\", \"buy\", \"hold\", \"buy\", \"buy\", \"hold\", \"sell\", \"sell\", \"sell\", \"sell\", \"sell\", \"hold\", \"hold\", \"hold\", \"sell\", \"sell\", \"sell\", \"hold\", \"hold\", \"hold\", \"buy\", \"buy\", \"hold\", \"hold\", \"hold\", \"hold\", \"sell\", \"sell\", \"sell\", \"sell\", \"sell\", \"sell\", \"hold\", \"hold\", \"buy\", \"hold\", \"hold\", \"sell\", \"hold\", \"hold\", \"hold\", \"hold\", \"hold\", \"buy\", \"buy\", \"buy\", \"buy\", \"hold\", \"hold\", \"hold\", \"hold\", \"buy\", \"buy\", \"buy\", \"hold\", \"buy\", \"hold\", \"hold\", \"sell\", \"buy\", \"hold\", \"hold\", \"hold\", \"hold\", \"buy\", \"buy\", \"buy\", \"hold\", \"hold\", \"sell\", \"hold\", \"hold\", \"sell\", \"sell\", \"hold\", \"hold\", \"hold\", \"hold\", \"sell\", \"hold\", \"hold\", \"buy\", \"hold\", \"hold\", \"sell\", \"sell\", \"sell\", \"hold\", \"hold\", \"hold\", \"hold\", \"hold\", \"buy\", \"hold\", \"hold\", \"hold\", \"hold\", \"hold\", \"hold\", \"hold\", \"hold\", \"hold\", \"sell\", \"sell\", \"sell\", \"sell\", \"hold\", \"hold\", \"hold\", \"hold\", \"hold\", \"hold\", \"hold\", \"hold\", \"sell\", \"sell\", \"sell\", \"hold\", \"hold\", \"hold\", \"sell\", \"hold\", \"hold\", \"buy\", \"buy\", \"hold\", \"hold\", \"hold\", \"hold\", \"hold\", \"hold\", \"hold\", \"sell\", \"sell\", \"sell\", \"hold\", \"hold\", \"hold\", \"buy\", \"buy\", \"buy\", \"buy\", \"hold\", \"hold\", \"hold\", \"hold\", \"buy\", \"buy\", \"hold\", \"hold\", \"hold\", \"hold\", \"hold\", \"sell\", \"sell\", \"sell\", \"hold\", \"sell\", \"sell\", \"sell\", \"hold\", \"sell\", \"sell\", \"sell\", \"hold\", \"hold\", \"hold\", \"hold\", \"hold\", \"hold\", \"buy\", \"hold\", \"hold\", \"hold\", \"hold\", \"hold\", \"hold\", \"hold\", \"buy\", \"hold\", \"hold\", \"hold\", \"buy\", \"hold\", \"hold\", \"hold\", \"hold\", \"hold\", \"hold\", \"sell\", \"sell\", \"sell\", \"sell\", \"hold\", \"hold\", \"hold\", \"hold\", \"hold\", \"hold\", \"hold\", \"hold\", \"hold\", \"hold\", \"hold\", \"hold\", \"buy\", \"buy\", \"hold\", \"hold\", \"hold\", \"hold\", \"hold\", \"hold\", \"hold\", \"hold\", \"hold\", \"hold\", \"hold\", \"hold\", \"hold\", \"hold\", \"hold\", \"hold\", \"hold\", \"hold\", \"sell\", \"sell\", \"hold\", \"hold\", \"buy\", \"hold\", \"hold\", \"hold\", \"hold\", \"hold\", \"hold\", \"hold\", \"hold\", \"hold\", \"hold\", \"hold\", \"hold\", \"hold\", \"hold\", \"hold\", \"hold\", \"hold\", \"hold\", \"hold\", \"hold\", \"hold\", \"hold\", \"hold\", \"hold\", \"hold\", \"hold\", \"hold\", \"hold\", \"hold\", \"sell\", \"sell\", \"sell\", \"hold\", \"hold\", \"sell\", \"sell\", \"sell\", \"sell\", \"hold\", \"sell\", \"sell\", \"sell\", \"hold\", \"buy\", \"buy\", \"buy\", \"hold\", \"hold\", \"hold\", \"sell\", \"sell\", \"sell\", \"sell\", \"sell\", \"hold\", \"hold\", \"hold\", \"hold\", \"sell\", \"sell\", \"sell\", \"hold\", \"buy\", \"buy\", \"buy\", \"buy\", \"buy\", \"buy\", \"hold\", \"hold\", \"hold\", \"hold\", \"sell\", \"hold\", \"hold\", \"buy\", \"hold\", \"hold\", \"hold\", \"hold\", \"hold\", \"hold\", \"buy\", \"hold\", \"hold\", \"hold\", \"sell\", \"sell\", \"sell\", \"hold\", \"hold\", \"hold\", \"hold\", \"hold\", \"hold\", \"hold\", \"hold\", \"hold\", \"hold\", \"hold\", \"hold\", \"hold\", \"hold\", \"hold\", \"hold\", \"hold\", \"hold\", \"hold\", \"hold\", \"hold\", \"hold\", \"hold\", \"hold\", \"hold\", \"hold\", \"buy\", \"buy\", \"buy\", \"hold\", \"hold\", \"hold\", \"hold\", \"hold\", \"hold\", \"hold\", \"buy\", \"buy\", \"buy\", \"hold\", \"hold\", \"hold\", \"hold\", \"hold\", \"sell\", \"hold\", \"hold\", \"hold\", \"hold\", \"hold\", \"hold\", \"hold\", \"hold\", \"hold\", \"hold\", \"hold\", \"hold\", \"hold\", \"hold\", \"hold\", \"hold\", \"hold\", \"hold\", \"hold\", \"hold\", \"hold\", \"hold\", \"hold\", \"hold\", \"hold\", \"hold\", \"hold\", \"hold\", \"hold\", \"hold\", \"hold\", \"hold\", \"hold\", \"hold\", \"buy\", \"buy\", \"buy\", \"hold\", \"hold\", \"buy\", \"buy\", \"hold\", \"hold\", \"hold\", \"hold\", \"hold\", \"hold\", \"hold\", \"hold\", \"hold\", \"hold\", \"hold\", \"hold\", \"hold\", \"hold\", \"hold\", \"hold\", \"hold\", \"sell\", \"hold\", \"hold\", \"hold\", \"hold\", \"hold\", \"hold\", \"buy\", \"buy\", \"buy\", \"hold\", \"hold\", \"hold\", \"buy\", \"buy\", \"buy\", \"buy\", \"buy\", \"buy\", \"buy\", \"hold\", \"sell\", \"sell\", \"hold\", \"buy\", \"buy\", \"sell\", \"hold\", \"hold\", \"hold\", \"buy\", \"buy\", \"buy\", \"hold\", \"sell\", \"hold\", \"hold\", \"buy\", \"hold\", \"sell\", \"sell\", \"hold\", \"hold\", \"hold\", \"hold\", \"hold\", \"hold\", \"buy\", \"hold\", \"buy\", \"buy\", \"buy\", \"buy\", \"hold\", \"hold\", \"hold\", \"buy\", \"buy\", \"buy\", \"buy\", \"buy\", \"buy\", \"hold\", \"buy\", \"sell\", \"hold\", \"sell\", \"sell\", \"buy\", \"buy\", \"hold\", \"sell\", \"hold\", \"buy\", \"buy\", \"buy\", \"sell\", \"sell\", \"sell\", \"sell\", \"sell\", \"sell\", \"sell\", \"hold\", \"buy\", \"buy\", \"hold\", \"hold\", \"sell\", \"sell\", \"hold\", \"hold\", \"hold\", \"hold\", \"hold\", \"hold\", \"buy\", \"buy\", \"buy\", \"buy\", \"buy\", \"buy\", \"buy\", \"buy\", \"hold\", \"hold\", \"hold\", \"hold\", \"hold\", \"hold\", \"sell\", \"sell\", \"hold\", \"hold\", \"hold\", \"buy\", \"buy\", \"hold\", \"sell\", \"hold\", \"hold\", \"hold\", \"hold\", \"hold\", \"hold\", \"sell\", \"sell\", \"hold\", \"hold\", \"buy\", \"buy\", \"buy\", \"hold\", \"hold\", \"hold\", \"hold\", \"hold\", \"hold\", \"hold\", \"hold\", \"hold\", \"hold\", \"hold\", \"hold\", \"hold\", \"hold\", \"hold\", \"hold\", \"hold\", \"hold\", \"hold\", \"sell\", \"sell\", \"sell\", \"hold\", \"hold\", \"hold\", \"hold\", \"hold\", \"hold\", \"hold\", \"hold\", \"hold\", \"hold\", \"hold\", \"hold\", \"buy\", \"hold\", \"hold\", \"hold\", \"hold\", \"hold\", \"hold\", \"hold\", \"hold\", \"hold\", \"hold\", \"hold\", \"hold\", \"hold\", \"sell\", \"sell\", \"buy\", \"buy\", \"buy\", \"buy\", \"hold\", \"hold\", \"hold\", \"hold\", \"hold\", \"hold\", \"hold\", \"hold\", \"hold\", \"hold\", \"sell\", \"sell\", \"hold\", \"hold\", \"hold\", \"hold\", \"hold\", \"hold\", \"hold\", \"hold\", \"hold\", \"hold\", \"sell\", \"sell\", \"sell\", \"sell\", \"sell\", \"hold\", \"hold\", \"buy\", \"hold\", \"buy\", \"hold\", \"hold\", \"sell\", \"hold\", \"hold\", \"hold\", \"hold\", \"hold\", \"hold\", \"hold\", \"hold\", \"hold\", \"hold\", \"hold\", \"hold\", \"hold\", \"hold\", \"sell\", \"hold\", \"hold\", \"buy\", \"hold\", \"hold\", \"hold\", \"hold\", \"hold\", \"hold\", \"hold\", \"hold\", \"hold\", \"hold\", \"hold\", \"hold\", \"hold\", \"hold\", \"hold\", \"buy\", \"buy\", \"buy\", \"buy\", \"hold\", \"hold\", \"hold\", \"hold\", \"hold\", \"buy\", \"buy\", \"buy\", \"hold\", \"hold\", \"hold\", \"hold\", \"hold\", \"hold\", \"hold\", \"hold\", \"hold\", \"hold\", \"buy\", \"buy\", \"buy\", \"buy\", \"hold\", \"hold\", \"hold\", \"hold\", \"hold\", \"hold\", \"hold\", \"buy\", \"hold\", \"hold\", \"hold\", \"hold\", \"hold\", \"hold\", \"hold\", \"hold\", \"hold\", \"sell\", \"hold\", \"hold\", \"hold\", \"hold\", \"hold\", \"hold\", \"hold\", \"hold\", \"sell\", \"sell\", \"sell\", \"hold\", \"hold\", \"hold\", \"hold\", \"hold\", \"hold\", \"hold\", \"hold\", \"sell\", \"sell\", \"sell\", \"hold\", \"sell\", \"sell\", \"sell\", \"buy\", \"sell\", \"hold\", \"hold\", \"buy\", \"buy\", \"buy\", \"sell\", \"hold\", \"buy\", \"buy\", \"hold\", \"hold\", \"sell\", \"sell\", \"hold\", \"hold\", \"buy\", \"buy\", \"hold\", \"hold\", \"hold\", \"buy\", \"hold\", \"buy\", \"hold\", \"hold\", \"sell\", \"hold\", \"hold\", \"hold\", \"hold\", \"hold\", \"hold\", \"buy\", \"hold\", \"hold\", \"sell\", \"hold\", \"buy\", \"buy\", \"buy\", \"hold\", \"hold\", \"hold\", \"buy\", \"buy\", \"buy\", \"hold\", \"hold\", \"hold\", \"hold\", \"hold\", \"buy\", \"buy\", \"hold\", \"sell\", \"sell\", \"sell\", \"buy\", \"buy\", \"buy\", \"hold\", \"hold\", \"hold\", \"hold\", \"hold\", \"sell\", \"sell\", \"hold\", \"hold\", \"hold\", \"hold\", \"hold\", \"buy\", \"buy\", \"buy\", \"hold\", \"buy\", \"hold\", \"hold\", \"hold\", \"hold\", \"hold\", \"hold\", \"hold\", \"hold\", \"hold\", \"hold\", \"hold\", \"hold\", \"hold\", \"hold\", \"hold\", \"hold\", \"hold\", \"hold\", \"hold\", \"hold\", \"hold\", \"hold\", \"hold\", \"hold\", \"hold\", \"hold\", \"hold\", \"hold\", \"hold\", \"hold\", \"hold\", \"hold\", \"hold\", \"hold\", \"hold\", \"hold\", \"hold\", \"hold\", \"hold\", \"hold\", \"hold\", \"hold\", \"hold\", \"hold\", \"hold\", \"hold\", \"hold\", \"hold\", \"hold\", \"hold\", \"hold\", \"hold\", \"hold\", \"hold\", \"hold\", \"buy\", \"buy\", \"buy\", \"hold\", \"hold\", \"buy\", \"hold\", \"hold\", \"hold\", \"buy\", \"hold\", \"hold\", \"hold\", \"hold\", \"hold\", \"hold\", \"hold\", \"hold\", \"hold\", \"hold\", \"hold\", \"hold\", \"hold\", \"hold\", \"hold\", \"hold\", \"hold\", \"hold\", \"hold\", \"hold\", \"hold\", \"hold\", \"hold\", \"hold\", \"hold\", \"hold\", \"hold\", \"hold\", \"sell\", \"sell\", \"sell\", \"hold\", \"hold\", \"hold\", \"hold\", \"hold\", \"hold\", \"hold\", \"hold\", \"hold\", \"hold\", \"buy\", \"hold\", \"hold\", \"hold\", \"hold\", \"hold\", \"sell\", \"sell\", \"hold\", \"hold\", \"buy\", \"hold\", \"hold\", \"hold\", \"hold\", \"hold\", \"hold\", \"hold\", \"hold\", \"hold\", \"hold\", \"hold\", \"hold\", \"hold\", \"buy\", \"hold\", \"hold\", \"hold\", \"hold\", \"hold\", \"hold\", \"hold\", \"hold\", \"hold\", \"hold\", \"buy\", \"buy\", \"buy\", \"hold\", \"hold\", \"hold\", \"hold\", \"hold\", \"hold\", \"hold\", \"hold\", \"hold\", \"hold\", \"hold\", \"hold\", \"buy\", \"buy\", \"hold\", \"hold\", \"hold\", \"hold\", \"hold\", \"buy\", \"buy\", \"hold\", \"hold\", \"hold\", \"buy\", \"buy\", \"buy\", \"buy\", \"hold\", \"hold\", \"hold\", \"hold\", \"hold\", \"sell\", \"sell\", \"sell\", \"buy\", \"buy\", \"buy\", \"buy\", \"hold\", \"hold\", \"hold\", \"hold\", \"hold\", \"hold\", \"hold\", \"hold\", \"hold\", \"hold\", \"hold\", \"buy\", \"hold\", \"buy\", \"buy\", \"buy\", \"buy\", \"hold\", \"hold\", \"hold\", \"hold\", \"hold\", \"hold\", \"buy\", \"buy\", \"buy\", \"hold\", \"buy\", \"buy\", \"buy\", \"buy\", \"buy\", \"buy\", \"buy\", \"buy\", \"buy\", \"buy\", \"buy\", \"hold\", \"sell\", \"sell\", \"hold\", \"buy\", \"buy\", \"hold\", \"sell\", \"hold\", \"hold\", \"hold\"], \"xbins\": {\"end\": 3.0, \"size\": 0.5, \"start\": -4.0}}, {\"histnorm\": \"percent\", \"name\": \"\\u041f\\u043e\\u0441\\u043b\\u0435 \\u0431\\u0430\\u043b\\u0430\\u043d\\u0441\\u0438\\u0440\\u043e\\u0432\\u043a\\u0438\", \"opacity\": 0.75, \"type\": \"histogram\", \"x\": [\"buy\", \"hold\", \"sell\", \"sell\", \"sell\", \"sell\", \"sell\", \"sell\", \"sell\", \"sell\", \"sell\", \"buy\", \"buy\", \"buy\", \"hold\", \"buy\", \"hold\", \"buy\", \"buy\", \"buy\", \"buy\", \"buy\", \"buy\", \"buy\", \"hold\", \"sell\", \"sell\", \"sell\", \"sell\", \"hold\", \"buy\", \"buy\", \"buy\", \"buy\", \"buy\", \"buy\", \"buy\", \"sell\", \"sell\", \"sell\", \"sell\", \"sell\", \"buy\", \"hold\", \"buy\", \"sell\", \"sell\", \"sell\", \"sell\", \"hold\", \"buy\", \"buy\", \"buy\", \"hold\", \"hold\", \"sell\", \"sell\", \"sell\", \"sell\", \"sell\", \"sell\", \"sell\", \"sell\", \"sell\", \"buy\", \"buy\", \"hold\", \"sell\", \"sell\", \"hold\", \"buy\", \"buy\", \"hold\", \"hold\", \"buy\", \"buy\", \"buy\", \"buy\", \"buy\", \"hold\", \"sell\", \"buy\", \"buy\", \"buy\", \"buy\", \"hold\", \"buy\", \"hold\", \"buy\", \"sell\", \"buy\", \"hold\", \"buy\", \"sell\", \"sell\", \"buy\", \"buy\", \"buy\", \"hold\", \"sell\", \"sell\", \"sell\", \"sell\", \"sell\", \"sell\", \"sell\", \"buy\", \"hold\", \"sell\", \"sell\", \"sell\", \"hold\", \"buy\", \"buy\", \"sell\", \"sell\", \"sell\", \"sell\", \"sell\", \"sell\", \"sell\", \"hold\", \"hold\", \"buy\", \"hold\", \"buy\", \"buy\", \"hold\", \"hold\", \"hold\", \"buy\", \"hold\", \"hold\", \"sell\", \"sell\", \"sell\", \"sell\", \"sell\", \"sell\", \"buy\", \"sell\", \"buy\", \"buy\", \"buy\", \"hold\", \"sell\", \"sell\", \"sell\", \"buy\", \"hold\", \"hold\", \"sell\", \"buy\", \"buy\", \"buy\", \"buy\", \"buy\", \"buy\", \"hold\", \"buy\", \"buy\", \"buy\", \"hold\", \"sell\", \"sell\", \"sell\", \"hold\", \"hold\", \"buy\", \"buy\", \"buy\", \"buy\", \"buy\", \"hold\", \"hold\", \"hold\", \"buy\", \"buy\", \"buy\", \"buy\", \"sell\", \"hold\", \"buy\", \"hold\", \"sell\", \"sell\", \"sell\", \"sell\", \"sell\", \"sell\", \"sell\", \"sell\", \"sell\", \"sell\", \"sell\", \"hold\", \"sell\", \"hold\", \"hold\", \"hold\", \"hold\", \"buy\", \"hold\", \"buy\", \"sell\", \"hold\", \"sell\", \"buy\", \"buy\", \"buy\", \"buy\", \"buy\", \"buy\", \"buy\", \"hold\", \"hold\", \"buy\", \"buy\", \"buy\", \"buy\", \"sell\", \"sell\", \"sell\", \"sell\", \"sell\", \"sell\", \"hold\", \"hold\", \"buy\", \"buy\", \"buy\", \"hold\", \"sell\", \"sell\", \"hold\", \"buy\", \"buy\", \"buy\", \"buy\", \"sell\", \"sell\", \"sell\", \"hold\", \"buy\", \"hold\", \"hold\", \"hold\", \"hold\", \"hold\", \"hold\", \"hold\", \"hold\", \"hold\", \"hold\", \"hold\", \"hold\", \"sell\", \"sell\", \"sell\", \"hold\", \"buy\", \"buy\", \"buy\", \"hold\", \"sell\", \"hold\", \"hold\", \"hold\", \"hold\", \"hold\", \"hold\", \"hold\", \"hold\", \"hold\", \"sell\", \"sell\", \"sell\", \"hold\", \"hold\", \"hold\", \"hold\", \"hold\", \"hold\", \"buy\", \"hold\", \"hold\", \"hold\", \"hold\", \"hold\", \"hold\", \"sell\", \"sell\", \"sell\", \"sell\", \"hold\", \"sell\", \"sell\", \"sell\", \"sell\", \"sell\", \"sell\", \"sell\", \"sell\", \"hold\", \"buy\", \"buy\", \"buy\", \"hold\", \"sell\", \"sell\", \"sell\", \"sell\", \"sell\", \"sell\", \"sell\", \"buy\", \"buy\", \"hold\", \"sell\", \"sell\", \"sell\", \"sell\", \"hold\", \"buy\", \"buy\", \"buy\", \"buy\", \"buy\", \"buy\", \"sell\", \"buy\", \"sell\", \"sell\", \"sell\", \"buy\", \"hold\", \"buy\", \"sell\", \"hold\", \"buy\", \"buy\", \"hold\", \"sell\", \"buy\", \"buy\", \"buy\", \"hold\", \"sell\", \"sell\", \"sell\", \"sell\", \"hold\", \"hold\", \"buy\", \"hold\", \"hold\", \"buy\", \"sell\", \"sell\", \"sell\", \"hold\", \"hold\", \"hold\", \"hold\", \"hold\", \"sell\", \"sell\", \"sell\", \"hold\", \"hold\", \"hold\", \"hold\", \"hold\", \"hold\", \"hold\", \"hold\", \"buy\", \"buy\", \"buy\", \"hold\", \"hold\", \"hold\", \"hold\", \"hold\", \"hold\", \"hold\", \"buy\", \"buy\", \"buy\", \"hold\", \"hold\", \"buy\", \"sell\", \"sell\", \"sell\", \"hold\", \"hold\", \"hold\", \"hold\", \"hold\", \"sell\", \"hold\", \"hold\", \"buy\", \"hold\", \"hold\", \"hold\", \"hold\", \"hold\", \"hold\", \"hold\", \"hold\", \"buy\", \"buy\", \"hold\", \"hold\", \"hold\", \"hold\", \"hold\", \"hold\", \"hold\", \"hold\", \"hold\", \"hold\", \"buy\", \"buy\", \"hold\", \"hold\", \"hold\", \"buy\", \"buy\", \"buy\", \"buy\", \"hold\", \"buy\", \"buy\", \"buy\", \"buy\", \"sell\", \"sell\", \"sell\", \"buy\", \"hold\", \"buy\", \"hold\", \"buy\", \"hold\", \"hold\", \"hold\", \"hold\", \"buy\", \"buy\", \"sell\", \"sell\", \"sell\", \"hold\", \"hold\", \"hold\", \"buy\", \"buy\", \"buy\", \"buy\", \"buy\", \"hold\", \"hold\", \"buy\", \"buy\", \"buy\", \"buy\", \"buy\", \"buy\", \"buy\", \"buy\", \"hold\", \"sell\", \"sell\", \"buy\", \"buy\", \"buy\", \"sell\", \"hold\", \"hold\", \"buy\", \"buy\", \"buy\", \"buy\", \"hold\", \"sell\", \"hold\", \"hold\", \"buy\", \"sell\", \"sell\", \"sell\", \"sell\", \"buy\", \"hold\", \"hold\", \"hold\", \"hold\", \"buy\", \"buy\", \"buy\", \"buy\", \"buy\", \"buy\", \"buy\", \"buy\", \"buy\", \"buy\", \"buy\", \"buy\", \"buy\", \"buy\", \"buy\", \"hold\", \"buy\", \"sell\", \"sell\", \"sell\", \"sell\", \"buy\", \"buy\", \"hold\", \"sell\", \"buy\", \"buy\", \"buy\", \"buy\", \"sell\", \"sell\", \"sell\", \"sell\", \"sell\", \"sell\", \"sell\", \"sell\", \"buy\", \"buy\", \"hold\", \"hold\", \"sell\", \"sell\", \"sell\", \"hold\", \"sell\", \"sell\", \"sell\", \"hold\", \"buy\", \"buy\", \"buy\", \"buy\", \"buy\", \"buy\", \"buy\", \"buy\", \"hold\", \"buy\", \"sell\", \"sell\", \"sell\", \"sell\", \"sell\", \"sell\", \"sell\", \"hold\", \"hold\", \"buy\", \"buy\", \"sell\", \"sell\", \"sell\", \"hold\", \"hold\", \"hold\", \"hold\", \"sell\", \"sell\", \"sell\", \"hold\", \"buy\", \"buy\", \"buy\", \"buy\", \"buy\", \"sell\", \"hold\", \"hold\", \"hold\", \"sell\", \"sell\", \"hold\", \"buy\", \"hold\", \"hold\", \"hold\", \"hold\", \"hold\", \"hold\", \"hold\", \"hold\", \"sell\", \"sell\", \"sell\", \"sell\", \"sell\", \"sell\", \"sell\", \"hold\", \"hold\", \"hold\", \"buy\", \"hold\", \"hold\", \"sell\", \"sell\", \"hold\", \"hold\", \"buy\", \"buy\", \"hold\", \"sell\", \"sell\", \"hold\", \"hold\", \"sell\", \"sell\", \"sell\", \"hold\", \"hold\", \"buy\", \"hold\", \"sell\", \"sell\", \"buy\", \"buy\", \"buy\", \"buy\", \"buy\", \"sell\", \"hold\", \"hold\", \"hold\", \"hold\", \"hold\", \"hold\", \"hold\", \"hold\", \"sell\", \"sell\", \"sell\", \"hold\", \"hold\", \"sell\", \"hold\", \"sell\", \"sell\", \"hold\", \"sell\", \"sell\", \"sell\", \"sell\", \"sell\", \"sell\", \"sell\", \"sell\", \"sell\", \"buy\", \"buy\", \"buy\", \"hold\", \"hold\", \"sell\", \"sell\", \"sell\", \"hold\", \"buy\", \"buy\", \"hold\", \"sell\", \"sell\", \"sell\", \"sell\", \"hold\", \"hold\", \"hold\", \"sell\", \"sell\", \"hold\", \"buy\", \"buy\", \"hold\", \"buy\", \"buy\", \"hold\", \"sell\", \"hold\", \"hold\", \"hold\", \"buy\", \"hold\", \"hold\", \"sell\", \"sell\", \"buy\", \"buy\", \"buy\", \"buy\", \"buy\", \"buy\", \"hold\", \"hold\", \"hold\", \"buy\", \"hold\", \"buy\", \"buy\", \"buy\", \"hold\", \"hold\", \"hold\", \"sell\", \"sell\", \"hold\", \"sell\", \"sell\", \"sell\", \"buy\", \"buy\", \"buy\", \"buy\", \"buy\", \"hold\", \"hold\", \"hold\", \"hold\", \"sell\", \"buy\", \"buy\", \"buy\", \"buy\", \"buy\", \"hold\", \"buy\", \"buy\", \"buy\", \"hold\", \"sell\", \"sell\", \"sell\", \"buy\", \"sell\", \"hold\", \"sell\", \"hold\", \"buy\", \"hold\", \"sell\", \"sell\", \"sell\", \"sell\", \"sell\", \"sell\", \"buy\", \"buy\", \"buy\", \"buy\", \"buy\", \"hold\", \"sell\", \"sell\", \"sell\", \"sell\", \"sell\", \"sell\", \"sell\", \"buy\", \"sell\", \"hold\", \"sell\", \"buy\", \"buy\", \"buy\", \"sell\", \"buy\", \"buy\", \"buy\", \"buy\", \"sell\", \"sell\", \"sell\", \"hold\", \"buy\", \"buy\", \"buy\", \"buy\", \"buy\", \"hold\", \"buy\", \"buy\", \"buy\", \"hold\", \"sell\", \"sell\", \"sell\", \"hold\", \"hold\", \"sell\", \"buy\", \"buy\", \"buy\", \"hold\", \"sell\", \"sell\", \"hold\", \"buy\", \"buy\", \"buy\", \"buy\", \"buy\", \"buy\", \"buy\", \"buy\", \"buy\", \"buy\", \"buy\", \"hold\", \"hold\", \"buy\", \"buy\", \"buy\", \"buy\", \"sell\", \"sell\", \"sell\", \"buy\", \"buy\", \"buy\", \"hold\", \"hold\", \"buy\", \"buy\", \"hold\", \"sell\", \"sell\", \"sell\", \"sell\", \"sell\", \"sell\", \"buy\", \"buy\", \"buy\", \"buy\", \"hold\", \"buy\", \"hold\", \"buy\", \"sell\", \"hold\", \"hold\", \"hold\", \"hold\", \"hold\", \"hold\", \"sell\", \"sell\", \"sell\", \"hold\", \"hold\", \"hold\", \"hold\", \"hold\", \"sell\", \"hold\", \"hold\", \"buy\", \"buy\", \"hold\", \"sell\", \"sell\", \"sell\", \"hold\", \"hold\", \"hold\", \"hold\", \"hold\", \"hold\", \"hold\", \"hold\", \"buy\", \"hold\", \"buy\", \"hold\", \"hold\", \"sell\", \"hold\", \"hold\", \"hold\", \"hold\", \"hold\", \"hold\", \"hold\", \"hold\", \"hold\", \"buy\", \"buy\", \"buy\", \"hold\", \"hold\", \"buy\", \"buy\", \"buy\", \"buy\", \"hold\", \"buy\", \"buy\", \"hold\", \"hold\", \"sell\", \"buy\", \"buy\", \"buy\", \"hold\", \"hold\", \"buy\", \"sell\", \"hold\", \"hold\", \"buy\", \"buy\", \"hold\", \"buy\", \"hold\", \"hold\", \"sell\", \"sell\", \"hold\", \"hold\", \"hold\", \"sell\", \"hold\", \"sell\", \"hold\", \"hold\", \"buy\", \"hold\", \"buy\", \"sell\", \"sell\", \"sell\", \"sell\", \"hold\", \"hold\", \"hold\", \"hold\", \"hold\", \"buy\", \"buy\", \"hold\", \"buy\", \"buy\", \"buy\", \"buy\", \"hold\", \"hold\", \"hold\", \"sell\", \"sell\", \"sell\", \"buy\", \"hold\", \"buy\", \"hold\", \"hold\", \"hold\", \"hold\", \"hold\", \"sell\", \"sell\", \"hold\", \"buy\", \"hold\", \"hold\", \"hold\", \"buy\", \"buy\", \"buy\", \"buy\", \"hold\", \"hold\", \"hold\", \"hold\", \"hold\", \"hold\", \"buy\", \"buy\", \"buy\", \"buy\", \"buy\", \"buy\", \"hold\", \"hold\", \"buy\", \"hold\", \"buy\", \"hold\", \"buy\", \"buy\", \"hold\", \"hold\", \"buy\", \"buy\", \"buy\", \"buy\", \"hold\", \"hold\", \"buy\", \"hold\", \"buy\", \"buy\", \"buy\", \"sell\", \"buy\", \"buy\", \"buy\", \"buy\", \"buy\", \"buy\", \"buy\", \"hold\", \"buy\", \"buy\", \"sell\", \"sell\", \"sell\", \"buy\", \"buy\", \"buy\", \"buy\", \"hold\", \"hold\", \"hold\", \"hold\", \"buy\", \"sell\", \"sell\", \"sell\", \"hold\", \"hold\", \"buy\", \"buy\", \"buy\", \"buy\", \"buy\", \"buy\", \"buy\", \"buy\", \"hold\", \"hold\", \"hold\", \"buy\", \"buy\", \"buy\", \"buy\", \"buy\", \"buy\", \"buy\", \"buy\", \"buy\", \"buy\", \"buy\", \"buy\", \"buy\", \"buy\", \"buy\", \"buy\", \"buy\", \"sell\", \"sell\", \"sell\", \"sell\", \"buy\", \"buy\", \"sell\", \"sell\", \"hold\", \"hold\", \"hold\"], \"xbins\": {\"end\": 4, \"size\": 0.5, \"start\": -3.0}}],\n",
       "                        {\"template\": {\"data\": {\"bar\": [{\"error_x\": {\"color\": \"#2a3f5f\"}, \"error_y\": {\"color\": \"#2a3f5f\"}, \"marker\": {\"line\": {\"color\": \"#E5ECF6\", \"width\": 0.5}}, \"type\": \"bar\"}], \"barpolar\": [{\"marker\": {\"line\": {\"color\": \"#E5ECF6\", \"width\": 0.5}}, \"type\": \"barpolar\"}], \"carpet\": [{\"aaxis\": {\"endlinecolor\": \"#2a3f5f\", \"gridcolor\": \"white\", \"linecolor\": \"white\", \"minorgridcolor\": \"white\", \"startlinecolor\": \"#2a3f5f\"}, \"baxis\": {\"endlinecolor\": \"#2a3f5f\", \"gridcolor\": \"white\", \"linecolor\": \"white\", \"minorgridcolor\": \"white\", \"startlinecolor\": \"#2a3f5f\"}, \"type\": \"carpet\"}], \"choropleth\": [{\"colorbar\": {\"outlinewidth\": 0, \"ticks\": \"\"}, \"type\": \"choropleth\"}], \"contour\": [{\"colorbar\": {\"outlinewidth\": 0, \"ticks\": \"\"}, \"colorscale\": [[0.0, \"#0d0887\"], [0.1111111111111111, \"#46039f\"], [0.2222222222222222, \"#7201a8\"], [0.3333333333333333, \"#9c179e\"], [0.4444444444444444, \"#bd3786\"], [0.5555555555555556, \"#d8576b\"], [0.6666666666666666, \"#ed7953\"], [0.7777777777777778, \"#fb9f3a\"], [0.8888888888888888, \"#fdca26\"], [1.0, \"#f0f921\"]], \"type\": \"contour\"}], \"contourcarpet\": [{\"colorbar\": {\"outlinewidth\": 0, \"ticks\": \"\"}, \"type\": \"contourcarpet\"}], \"heatmap\": [{\"colorbar\": {\"outlinewidth\": 0, \"ticks\": \"\"}, \"colorscale\": [[0.0, \"#0d0887\"], [0.1111111111111111, \"#46039f\"], [0.2222222222222222, \"#7201a8\"], [0.3333333333333333, \"#9c179e\"], [0.4444444444444444, \"#bd3786\"], [0.5555555555555556, \"#d8576b\"], [0.6666666666666666, \"#ed7953\"], [0.7777777777777778, \"#fb9f3a\"], [0.8888888888888888, \"#fdca26\"], [1.0, \"#f0f921\"]], \"type\": \"heatmap\"}], \"heatmapgl\": [{\"colorbar\": {\"outlinewidth\": 0, \"ticks\": \"\"}, \"colorscale\": [[0.0, \"#0d0887\"], [0.1111111111111111, \"#46039f\"], [0.2222222222222222, \"#7201a8\"], [0.3333333333333333, \"#9c179e\"], [0.4444444444444444, \"#bd3786\"], [0.5555555555555556, \"#d8576b\"], [0.6666666666666666, \"#ed7953\"], [0.7777777777777778, \"#fb9f3a\"], [0.8888888888888888, \"#fdca26\"], [1.0, \"#f0f921\"]], \"type\": \"heatmapgl\"}], \"histogram\": [{\"marker\": {\"colorbar\": {\"outlinewidth\": 0, \"ticks\": \"\"}}, \"type\": \"histogram\"}], \"histogram2d\": [{\"colorbar\": {\"outlinewidth\": 0, \"ticks\": \"\"}, \"colorscale\": [[0.0, \"#0d0887\"], [0.1111111111111111, \"#46039f\"], [0.2222222222222222, \"#7201a8\"], [0.3333333333333333, \"#9c179e\"], [0.4444444444444444, \"#bd3786\"], [0.5555555555555556, \"#d8576b\"], [0.6666666666666666, \"#ed7953\"], [0.7777777777777778, \"#fb9f3a\"], [0.8888888888888888, \"#fdca26\"], [1.0, \"#f0f921\"]], \"type\": \"histogram2d\"}], \"histogram2dcontour\": [{\"colorbar\": {\"outlinewidth\": 0, \"ticks\": \"\"}, \"colorscale\": [[0.0, \"#0d0887\"], [0.1111111111111111, \"#46039f\"], [0.2222222222222222, \"#7201a8\"], [0.3333333333333333, \"#9c179e\"], [0.4444444444444444, \"#bd3786\"], [0.5555555555555556, \"#d8576b\"], [0.6666666666666666, \"#ed7953\"], [0.7777777777777778, \"#fb9f3a\"], [0.8888888888888888, \"#fdca26\"], [1.0, \"#f0f921\"]], \"type\": \"histogram2dcontour\"}], \"mesh3d\": [{\"colorbar\": {\"outlinewidth\": 0, \"ticks\": \"\"}, \"type\": \"mesh3d\"}], \"parcoords\": [{\"line\": {\"colorbar\": {\"outlinewidth\": 0, \"ticks\": \"\"}}, \"type\": \"parcoords\"}], \"pie\": [{\"automargin\": true, \"type\": \"pie\"}], \"scatter\": [{\"marker\": {\"colorbar\": {\"outlinewidth\": 0, \"ticks\": \"\"}}, \"type\": \"scatter\"}], \"scatter3d\": [{\"line\": {\"colorbar\": {\"outlinewidth\": 0, \"ticks\": \"\"}}, \"marker\": {\"colorbar\": {\"outlinewidth\": 0, \"ticks\": \"\"}}, \"type\": \"scatter3d\"}], \"scattercarpet\": [{\"marker\": {\"colorbar\": {\"outlinewidth\": 0, \"ticks\": \"\"}}, \"type\": \"scattercarpet\"}], \"scattergeo\": [{\"marker\": {\"colorbar\": {\"outlinewidth\": 0, \"ticks\": \"\"}}, \"type\": \"scattergeo\"}], \"scattergl\": [{\"marker\": {\"colorbar\": {\"outlinewidth\": 0, \"ticks\": \"\"}}, \"type\": \"scattergl\"}], \"scattermapbox\": [{\"marker\": {\"colorbar\": {\"outlinewidth\": 0, \"ticks\": \"\"}}, \"type\": \"scattermapbox\"}], \"scatterpolar\": [{\"marker\": {\"colorbar\": {\"outlinewidth\": 0, \"ticks\": \"\"}}, \"type\": \"scatterpolar\"}], \"scatterpolargl\": [{\"marker\": {\"colorbar\": {\"outlinewidth\": 0, \"ticks\": \"\"}}, \"type\": \"scatterpolargl\"}], \"scatterternary\": [{\"marker\": {\"colorbar\": {\"outlinewidth\": 0, \"ticks\": \"\"}}, \"type\": \"scatterternary\"}], \"surface\": [{\"colorbar\": {\"outlinewidth\": 0, \"ticks\": \"\"}, \"colorscale\": [[0.0, \"#0d0887\"], [0.1111111111111111, \"#46039f\"], [0.2222222222222222, \"#7201a8\"], [0.3333333333333333, \"#9c179e\"], [0.4444444444444444, \"#bd3786\"], [0.5555555555555556, \"#d8576b\"], [0.6666666666666666, \"#ed7953\"], [0.7777777777777778, \"#fb9f3a\"], [0.8888888888888888, \"#fdca26\"], [1.0, \"#f0f921\"]], \"type\": \"surface\"}], \"table\": [{\"cells\": {\"fill\": {\"color\": \"#EBF0F8\"}, \"line\": {\"color\": \"white\"}}, \"header\": {\"fill\": {\"color\": \"#C8D4E3\"}, \"line\": {\"color\": \"white\"}}, \"type\": \"table\"}]}, \"layout\": {\"annotationdefaults\": {\"arrowcolor\": \"#2a3f5f\", \"arrowhead\": 0, \"arrowwidth\": 1}, \"coloraxis\": {\"colorbar\": {\"outlinewidth\": 0, \"ticks\": \"\"}}, \"colorscale\": {\"diverging\": [[0, \"#8e0152\"], [0.1, \"#c51b7d\"], [0.2, \"#de77ae\"], [0.3, \"#f1b6da\"], [0.4, \"#fde0ef\"], [0.5, \"#f7f7f7\"], [0.6, \"#e6f5d0\"], [0.7, \"#b8e186\"], [0.8, \"#7fbc41\"], [0.9, \"#4d9221\"], [1, \"#276419\"]], \"sequential\": [[0.0, \"#0d0887\"], [0.1111111111111111, \"#46039f\"], [0.2222222222222222, \"#7201a8\"], [0.3333333333333333, \"#9c179e\"], [0.4444444444444444, \"#bd3786\"], [0.5555555555555556, \"#d8576b\"], [0.6666666666666666, \"#ed7953\"], [0.7777777777777778, \"#fb9f3a\"], [0.8888888888888888, \"#fdca26\"], [1.0, \"#f0f921\"]], \"sequentialminus\": [[0.0, \"#0d0887\"], [0.1111111111111111, \"#46039f\"], [0.2222222222222222, \"#7201a8\"], [0.3333333333333333, \"#9c179e\"], [0.4444444444444444, \"#bd3786\"], [0.5555555555555556, \"#d8576b\"], [0.6666666666666666, \"#ed7953\"], [0.7777777777777778, \"#fb9f3a\"], [0.8888888888888888, \"#fdca26\"], [1.0, \"#f0f921\"]]}, \"colorway\": [\"#636efa\", \"#EF553B\", \"#00cc96\", \"#ab63fa\", \"#FFA15A\", \"#19d3f3\", \"#FF6692\", \"#B6E880\", \"#FF97FF\", \"#FECB52\"], \"font\": {\"color\": \"#2a3f5f\"}, \"geo\": {\"bgcolor\": \"white\", \"lakecolor\": \"white\", \"landcolor\": \"#E5ECF6\", \"showlakes\": true, \"showland\": true, \"subunitcolor\": \"white\"}, \"hoverlabel\": {\"align\": \"left\"}, \"hovermode\": \"closest\", \"mapbox\": {\"style\": \"light\"}, \"paper_bgcolor\": \"white\", \"plot_bgcolor\": \"#E5ECF6\", \"polar\": {\"angularaxis\": {\"gridcolor\": \"white\", \"linecolor\": \"white\", \"ticks\": \"\"}, \"bgcolor\": \"#E5ECF6\", \"radialaxis\": {\"gridcolor\": \"white\", \"linecolor\": \"white\", \"ticks\": \"\"}}, \"scene\": {\"xaxis\": {\"backgroundcolor\": \"#E5ECF6\", \"gridcolor\": \"white\", \"gridwidth\": 2, \"linecolor\": \"white\", \"showbackground\": true, \"ticks\": \"\", \"zerolinecolor\": \"white\"}, \"yaxis\": {\"backgroundcolor\": \"#E5ECF6\", \"gridcolor\": \"white\", \"gridwidth\": 2, \"linecolor\": \"white\", \"showbackground\": true, \"ticks\": \"\", \"zerolinecolor\": \"white\"}, \"zaxis\": {\"backgroundcolor\": \"#E5ECF6\", \"gridcolor\": \"white\", \"gridwidth\": 2, \"linecolor\": \"white\", \"showbackground\": true, \"ticks\": \"\", \"zerolinecolor\": \"white\"}}, \"shapedefaults\": {\"line\": {\"color\": \"#2a3f5f\"}}, \"ternary\": {\"aaxis\": {\"gridcolor\": \"white\", \"linecolor\": \"white\", \"ticks\": \"\"}, \"baxis\": {\"gridcolor\": \"white\", \"linecolor\": \"white\", \"ticks\": \"\"}, \"bgcolor\": \"#E5ECF6\", \"caxis\": {\"gridcolor\": \"white\", \"linecolor\": \"white\", \"ticks\": \"\"}}, \"title\": {\"x\": 0.05}, \"xaxis\": {\"automargin\": true, \"gridcolor\": \"white\", \"linecolor\": \"white\", \"ticks\": \"\", \"title\": {\"standoff\": 15}, \"zerolinecolor\": \"white\", \"zerolinewidth\": 2}, \"yaxis\": {\"automargin\": true, \"gridcolor\": \"white\", \"linecolor\": \"white\", \"ticks\": \"\", \"title\": {\"standoff\": 15}, \"zerolinecolor\": \"white\", \"zerolinewidth\": 2}}}, \"title\": {\"text\": \"\\u0420\\u0430\\u0441\\u043f\\u0440\\u0435\\u0434\\u0435\\u043b\\u0435\\u043d\\u0438\\u0435 \\u043a\\u043b\\u0430\\u0441\\u0441\\u043e\\u0432 \\u0434\\u043e \\u0438 \\u043f\\u043e\\u0441\\u043b\\u0435 \\u0431\\u0430\\u043b\\u0430\\u043d\\u0441\\u0438\\u0440\\u043e\\u0432\\u043a\\u0438\"}},\n",
       "                        {\"responsive\": true}\n",
       "                    ).then(function(){\n",
       "                            \n",
       "var gd = document.getElementById('315495ba-947c-4188-881c-a2157e8dfbf0');\n",
       "var x = new MutationObserver(function (mutations, observer) {{\n",
       "        var display = window.getComputedStyle(gd).display;\n",
       "        if (!display || display === 'none') {{\n",
       "            console.log([gd, 'removed!']);\n",
       "            Plotly.purge(gd);\n",
       "            observer.disconnect();\n",
       "        }}\n",
       "}});\n",
       "\n",
       "// Listen for the removal of the full notebook cells\n",
       "var notebookContainer = gd.closest('#notebook-container');\n",
       "if (notebookContainer) {{\n",
       "    x.observe(notebookContainer, {childList: true});\n",
       "}}\n",
       "\n",
       "// Listen for the clearing of the current output cell\n",
       "var outputEl = gd.closest('.output');\n",
       "if (outputEl) {{\n",
       "    x.observe(outputEl, {childList: true});\n",
       "}}\n",
       "\n",
       "                        })\n",
       "                };\n",
       "                });\n",
       "            </script>\n",
       "        </div>"
      ]
     },
     "metadata": {},
     "output_type": "display_data"
    }
   ],
   "source": [
    "df1 = read_data(input)\n",
    "df1 = make_labels(df1, f'{instrument} Close', n=n, thresh=thresh).dropna()\n",
    "df2 = prepare_data(instrument=instrument, n=n, window_len=window_len, bounds=[0.1, 20])\n",
    "\n",
    "\n",
    "fig = go.Figure()\n",
    "fig.add_trace(go.Histogram(\n",
    "    x=df1.label,\n",
    "    histnorm='percent',\n",
    "    name='До балансировки', # name used in legend and hover labels\n",
    "    xbins=dict( # bins used for histogram\n",
    "        start=-4.0,\n",
    "        end=3.0,\n",
    "        size=0.5\n",
    "    ),\n",
    "    opacity=0.75\n",
    "))\n",
    "fig.add_trace(go.Histogram(\n",
    "    x=df2.label,\n",
    "    histnorm='percent',\n",
    "    name='После балансировки',\n",
    "    xbins=dict(\n",
    "        start=-3.0,\n",
    "        end=4,\n",
    "        size=0.5\n",
    "    ),\n",
    "    opacity=0.75\n",
    "))\n",
    "\n",
    "fig.update_layout(\n",
    "    title_text='Распределение классов до и после балансировки', # title of plot\n",
    ")"
   ]
  },
  {
   "cell_type": "code",
   "execution_count": 16,
   "id": "protecting-norman",
   "metadata": {},
   "outputs": [],
   "source": [
    "df = read_data(input)\n",
    "\n",
    "x = np.linspace(0.1, 70, 300)\n",
    "y = [get_imbalance_by_thresh(i, df) for i in x]"
   ]
  },
  {
   "cell_type": "code",
   "execution_count": 18,
   "id": "split-internship",
   "metadata": {},
   "outputs": [
    {
     "data": {
      "text/html": [
       "<div>\n",
       "<style scoped>\n",
       "    .dataframe tbody tr th:only-of-type {\n",
       "        vertical-align: middle;\n",
       "    }\n",
       "\n",
       "    .dataframe tbody tr th {\n",
       "        vertical-align: top;\n",
       "    }\n",
       "\n",
       "    .dataframe thead th {\n",
       "        text-align: right;\n",
       "    }\n",
       "</style>\n",
       "<table border=\"1\" class=\"dataframe\">\n",
       "  <thead>\n",
       "    <tr style=\"text-align: right;\">\n",
       "      <th></th>\n",
       "      <th>CL=F Open</th>\n",
       "      <th>CL=F Close</th>\n",
       "      <th>CL=F High</th>\n",
       "      <th>CL=F Low</th>\n",
       "      <th>CL=F Volume</th>\n",
       "      <th>EURUSD=X Open</th>\n",
       "      <th>EURUSD=X Close</th>\n",
       "      <th>EURUSD=X High</th>\n",
       "      <th>EURUSD=X Low</th>\n",
       "      <th>EURUSD=X Volume</th>\n",
       "      <th>...</th>\n",
       "      <th>GC=F Close</th>\n",
       "      <th>GC=F High</th>\n",
       "      <th>GC=F Low</th>\n",
       "      <th>GC=F Volume</th>\n",
       "      <th>TSLA Open</th>\n",
       "      <th>TSLA Close</th>\n",
       "      <th>TSLA High</th>\n",
       "      <th>TSLA Low</th>\n",
       "      <th>TSLA Volume</th>\n",
       "      <th>target</th>\n",
       "    </tr>\n",
       "    <tr>\n",
       "      <th>Date</th>\n",
       "      <th></th>\n",
       "      <th></th>\n",
       "      <th></th>\n",
       "      <th></th>\n",
       "      <th></th>\n",
       "      <th></th>\n",
       "      <th></th>\n",
       "      <th></th>\n",
       "      <th></th>\n",
       "      <th></th>\n",
       "      <th></th>\n",
       "      <th></th>\n",
       "      <th></th>\n",
       "      <th></th>\n",
       "      <th></th>\n",
       "      <th></th>\n",
       "      <th></th>\n",
       "      <th></th>\n",
       "      <th></th>\n",
       "      <th></th>\n",
       "      <th></th>\n",
       "    </tr>\n",
       "  </thead>\n",
       "  <tbody>\n",
       "    <tr>\n",
       "      <th>2018-01-22</th>\n",
       "      <td>63.610001</td>\n",
       "      <td>63.490002</td>\n",
       "      <td>64.139999</td>\n",
       "      <td>63.169998</td>\n",
       "      <td>625662.0</td>\n",
       "      <td>1.225595</td>\n",
       "      <td>1.225550</td>\n",
       "      <td>1.226663</td>\n",
       "      <td>1.221464</td>\n",
       "      <td>0.0</td>\n",
       "      <td>...</td>\n",
       "      <td>1330.900024</td>\n",
       "      <td>1330.900024</td>\n",
       "      <td>1328.400024</td>\n",
       "      <td>162.0</td>\n",
       "      <td>69.879997</td>\n",
       "      <td>70.311996</td>\n",
       "      <td>71.566002</td>\n",
       "      <td>69.839996</td>\n",
       "      <td>31052000.0</td>\n",
       "      <td>63.490002</td>\n",
       "    </tr>\n",
       "    <tr>\n",
       "      <th>2018-01-23</th>\n",
       "      <td>63.880001</td>\n",
       "      <td>64.470001</td>\n",
       "      <td>64.879997</td>\n",
       "      <td>63.700001</td>\n",
       "      <td>662456.0</td>\n",
       "      <td>1.225731</td>\n",
       "      <td>1.225625</td>\n",
       "      <td>1.230700</td>\n",
       "      <td>1.222359</td>\n",
       "      <td>0.0</td>\n",
       "      <td>...</td>\n",
       "      <td>1335.699951</td>\n",
       "      <td>1335.900024</td>\n",
       "      <td>1335.699951</td>\n",
       "      <td>47.0</td>\n",
       "      <td>72.000000</td>\n",
       "      <td>70.557999</td>\n",
       "      <td>72.099998</td>\n",
       "      <td>70.199997</td>\n",
       "      <td>27327000.0</td>\n",
       "      <td>64.470001</td>\n",
       "    </tr>\n",
       "    <tr>\n",
       "      <th>2018-01-24</th>\n",
       "      <td>64.419998</td>\n",
       "      <td>65.610001</td>\n",
       "      <td>66.050003</td>\n",
       "      <td>64.339996</td>\n",
       "      <td>887018.0</td>\n",
       "      <td>1.230966</td>\n",
       "      <td>1.231027</td>\n",
       "      <td>1.240199</td>\n",
       "      <td>1.229513</td>\n",
       "      <td>0.0</td>\n",
       "      <td>...</td>\n",
       "      <td>1355.900024</td>\n",
       "      <td>1357.199951</td>\n",
       "      <td>1355.900024</td>\n",
       "      <td>18.0</td>\n",
       "      <td>70.916000</td>\n",
       "      <td>69.178001</td>\n",
       "      <td>70.949997</td>\n",
       "      <td>68.704002</td>\n",
       "      <td>26437500.0</td>\n",
       "      <td>65.610001</td>\n",
       "    </tr>\n",
       "    <tr>\n",
       "      <th>2018-01-25</th>\n",
       "      <td>65.879997</td>\n",
       "      <td>65.510002</td>\n",
       "      <td>66.660004</td>\n",
       "      <td>65.080002</td>\n",
       "      <td>771758.0</td>\n",
       "      <td>1.239603</td>\n",
       "      <td>1.239111</td>\n",
       "      <td>1.252992</td>\n",
       "      <td>1.238651</td>\n",
       "      <td>0.0</td>\n",
       "      <td>...</td>\n",
       "      <td>1362.400024</td>\n",
       "      <td>1362.400024</td>\n",
       "      <td>1346.699951</td>\n",
       "      <td>4.0</td>\n",
       "      <td>69.653999</td>\n",
       "      <td>67.528000</td>\n",
       "      <td>69.839996</td>\n",
       "      <td>67.279999</td>\n",
       "      <td>33701500.0</td>\n",
       "      <td>65.510002</td>\n",
       "    </tr>\n",
       "    <tr>\n",
       "      <th>2018-01-26</th>\n",
       "      <td>65.250000</td>\n",
       "      <td>66.139999</td>\n",
       "      <td>66.349998</td>\n",
       "      <td>64.910004</td>\n",
       "      <td>678186.0</td>\n",
       "      <td>1.239234</td>\n",
       "      <td>1.239234</td>\n",
       "      <td>1.249016</td>\n",
       "      <td>1.238743</td>\n",
       "      <td>0.0</td>\n",
       "      <td>...</td>\n",
       "      <td>1351.599976</td>\n",
       "      <td>1352.000000</td>\n",
       "      <td>1350.900024</td>\n",
       "      <td>280546.0</td>\n",
       "      <td>68.300003</td>\n",
       "      <td>68.570000</td>\n",
       "      <td>68.800003</td>\n",
       "      <td>67.141998</td>\n",
       "      <td>22697000.0</td>\n",
       "      <td>66.139999</td>\n",
       "    </tr>\n",
       "    <tr>\n",
       "      <th>...</th>\n",
       "      <td>...</td>\n",
       "      <td>...</td>\n",
       "      <td>...</td>\n",
       "      <td>...</td>\n",
       "      <td>...</td>\n",
       "      <td>...</td>\n",
       "      <td>...</td>\n",
       "      <td>...</td>\n",
       "      <td>...</td>\n",
       "      <td>...</td>\n",
       "      <td>...</td>\n",
       "      <td>...</td>\n",
       "      <td>...</td>\n",
       "      <td>...</td>\n",
       "      <td>...</td>\n",
       "      <td>...</td>\n",
       "      <td>...</td>\n",
       "      <td>...</td>\n",
       "      <td>...</td>\n",
       "      <td>...</td>\n",
       "      <td>...</td>\n",
       "    </tr>\n",
       "    <tr>\n",
       "      <th>2021-01-16</th>\n",
       "      <td>53.799999</td>\n",
       "      <td>52.360001</td>\n",
       "      <td>53.830002</td>\n",
       "      <td>51.830002</td>\n",
       "      <td>165668.0</td>\n",
       "      <td>1.215300</td>\n",
       "      <td>1.215126</td>\n",
       "      <td>1.216249</td>\n",
       "      <td>1.208474</td>\n",
       "      <td>0.0</td>\n",
       "      <td>...</td>\n",
       "      <td>1829.300049</td>\n",
       "      <td>1829.400024</td>\n",
       "      <td>1825.000000</td>\n",
       "      <td>31.0</td>\n",
       "      <td>852.000000</td>\n",
       "      <td>826.159973</td>\n",
       "      <td>859.900024</td>\n",
       "      <td>819.099976</td>\n",
       "      <td>38777600.0</td>\n",
       "      <td>52.360001</td>\n",
       "    </tr>\n",
       "    <tr>\n",
       "      <th>2021-01-17</th>\n",
       "      <td>53.799999</td>\n",
       "      <td>52.360001</td>\n",
       "      <td>53.830002</td>\n",
       "      <td>51.830002</td>\n",
       "      <td>165668.0</td>\n",
       "      <td>1.215300</td>\n",
       "      <td>1.215126</td>\n",
       "      <td>1.216249</td>\n",
       "      <td>1.208474</td>\n",
       "      <td>0.0</td>\n",
       "      <td>...</td>\n",
       "      <td>1829.300049</td>\n",
       "      <td>1829.400024</td>\n",
       "      <td>1825.000000</td>\n",
       "      <td>31.0</td>\n",
       "      <td>852.000000</td>\n",
       "      <td>826.159973</td>\n",
       "      <td>859.900024</td>\n",
       "      <td>819.099976</td>\n",
       "      <td>38777600.0</td>\n",
       "      <td>52.360001</td>\n",
       "    </tr>\n",
       "    <tr>\n",
       "      <th>2021-01-18</th>\n",
       "      <td>53.799999</td>\n",
       "      <td>52.360001</td>\n",
       "      <td>53.830002</td>\n",
       "      <td>51.830002</td>\n",
       "      <td>165668.0</td>\n",
       "      <td>1.206724</td>\n",
       "      <td>1.206811</td>\n",
       "      <td>1.208620</td>\n",
       "      <td>1.205545</td>\n",
       "      <td>0.0</td>\n",
       "      <td>...</td>\n",
       "      <td>1829.300049</td>\n",
       "      <td>1829.400024</td>\n",
       "      <td>1825.000000</td>\n",
       "      <td>31.0</td>\n",
       "      <td>852.000000</td>\n",
       "      <td>826.159973</td>\n",
       "      <td>859.900024</td>\n",
       "      <td>819.099976</td>\n",
       "      <td>38777600.0</td>\n",
       "      <td>52.360001</td>\n",
       "    </tr>\n",
       "    <tr>\n",
       "      <th>2021-01-19</th>\n",
       "      <td>52.000000</td>\n",
       "      <td>52.980000</td>\n",
       "      <td>53.130001</td>\n",
       "      <td>51.759998</td>\n",
       "      <td>125964.0</td>\n",
       "      <td>1.207846</td>\n",
       "      <td>1.207729</td>\n",
       "      <td>1.214491</td>\n",
       "      <td>1.207846</td>\n",
       "      <td>0.0</td>\n",
       "      <td>...</td>\n",
       "      <td>1839.500000</td>\n",
       "      <td>1842.900024</td>\n",
       "      <td>1802.000000</td>\n",
       "      <td>13.0</td>\n",
       "      <td>837.799988</td>\n",
       "      <td>844.549988</td>\n",
       "      <td>850.000000</td>\n",
       "      <td>833.000000</td>\n",
       "      <td>25367000.0</td>\n",
       "      <td>52.980000</td>\n",
       "    </tr>\n",
       "    <tr>\n",
       "      <th>2021-01-20</th>\n",
       "      <td>53.130001</td>\n",
       "      <td>53.240002</td>\n",
       "      <td>53.790001</td>\n",
       "      <td>53.049999</td>\n",
       "      <td>125964.0</td>\n",
       "      <td>1.213946</td>\n",
       "      <td>1.213887</td>\n",
       "      <td>1.216001</td>\n",
       "      <td>1.207773</td>\n",
       "      <td>0.0</td>\n",
       "      <td>...</td>\n",
       "      <td>1865.900024</td>\n",
       "      <td>1866.599976</td>\n",
       "      <td>1844.400024</td>\n",
       "      <td>13.0</td>\n",
       "      <td>858.739990</td>\n",
       "      <td>850.450012</td>\n",
       "      <td>859.500000</td>\n",
       "      <td>837.280029</td>\n",
       "      <td>25598200.0</td>\n",
       "      <td>53.240002</td>\n",
       "    </tr>\n",
       "  </tbody>\n",
       "</table>\n",
       "<p>1094 rows × 26 columns</p>\n",
       "</div>"
      ],
      "text/plain": [
       "            CL=F Open  CL=F Close  CL=F High   CL=F Low  CL=F Volume  \\\n",
       "Date                                                                   \n",
       "2018-01-22  63.610001   63.490002  64.139999  63.169998     625662.0   \n",
       "2018-01-23  63.880001   64.470001  64.879997  63.700001     662456.0   \n",
       "2018-01-24  64.419998   65.610001  66.050003  64.339996     887018.0   \n",
       "2018-01-25  65.879997   65.510002  66.660004  65.080002     771758.0   \n",
       "2018-01-26  65.250000   66.139999  66.349998  64.910004     678186.0   \n",
       "...               ...         ...        ...        ...          ...   \n",
       "2021-01-16  53.799999   52.360001  53.830002  51.830002     165668.0   \n",
       "2021-01-17  53.799999   52.360001  53.830002  51.830002     165668.0   \n",
       "2021-01-18  53.799999   52.360001  53.830002  51.830002     165668.0   \n",
       "2021-01-19  52.000000   52.980000  53.130001  51.759998     125964.0   \n",
       "2021-01-20  53.130001   53.240002  53.790001  53.049999     125964.0   \n",
       "\n",
       "            EURUSD=X Open  EURUSD=X Close  EURUSD=X High  EURUSD=X Low  \\\n",
       "Date                                                                     \n",
       "2018-01-22       1.225595        1.225550       1.226663      1.221464   \n",
       "2018-01-23       1.225731        1.225625       1.230700      1.222359   \n",
       "2018-01-24       1.230966        1.231027       1.240199      1.229513   \n",
       "2018-01-25       1.239603        1.239111       1.252992      1.238651   \n",
       "2018-01-26       1.239234        1.239234       1.249016      1.238743   \n",
       "...                   ...             ...            ...           ...   \n",
       "2021-01-16       1.215300        1.215126       1.216249      1.208474   \n",
       "2021-01-17       1.215300        1.215126       1.216249      1.208474   \n",
       "2021-01-18       1.206724        1.206811       1.208620      1.205545   \n",
       "2021-01-19       1.207846        1.207729       1.214491      1.207846   \n",
       "2021-01-20       1.213946        1.213887       1.216001      1.207773   \n",
       "\n",
       "            EURUSD=X Volume  ...   GC=F Close    GC=F High     GC=F Low  \\\n",
       "Date                         ...                                          \n",
       "2018-01-22              0.0  ...  1330.900024  1330.900024  1328.400024   \n",
       "2018-01-23              0.0  ...  1335.699951  1335.900024  1335.699951   \n",
       "2018-01-24              0.0  ...  1355.900024  1357.199951  1355.900024   \n",
       "2018-01-25              0.0  ...  1362.400024  1362.400024  1346.699951   \n",
       "2018-01-26              0.0  ...  1351.599976  1352.000000  1350.900024   \n",
       "...                     ...  ...          ...          ...          ...   \n",
       "2021-01-16              0.0  ...  1829.300049  1829.400024  1825.000000   \n",
       "2021-01-17              0.0  ...  1829.300049  1829.400024  1825.000000   \n",
       "2021-01-18              0.0  ...  1829.300049  1829.400024  1825.000000   \n",
       "2021-01-19              0.0  ...  1839.500000  1842.900024  1802.000000   \n",
       "2021-01-20              0.0  ...  1865.900024  1866.599976  1844.400024   \n",
       "\n",
       "            GC=F Volume   TSLA Open  TSLA Close   TSLA High    TSLA Low  \\\n",
       "Date                                                                      \n",
       "2018-01-22        162.0   69.879997   70.311996   71.566002   69.839996   \n",
       "2018-01-23         47.0   72.000000   70.557999   72.099998   70.199997   \n",
       "2018-01-24         18.0   70.916000   69.178001   70.949997   68.704002   \n",
       "2018-01-25          4.0   69.653999   67.528000   69.839996   67.279999   \n",
       "2018-01-26     280546.0   68.300003   68.570000   68.800003   67.141998   \n",
       "...                 ...         ...         ...         ...         ...   \n",
       "2021-01-16         31.0  852.000000  826.159973  859.900024  819.099976   \n",
       "2021-01-17         31.0  852.000000  826.159973  859.900024  819.099976   \n",
       "2021-01-18         31.0  852.000000  826.159973  859.900024  819.099976   \n",
       "2021-01-19         13.0  837.799988  844.549988  850.000000  833.000000   \n",
       "2021-01-20         13.0  858.739990  850.450012  859.500000  837.280029   \n",
       "\n",
       "            TSLA Volume     target  \n",
       "Date                                \n",
       "2018-01-22   31052000.0  63.490002  \n",
       "2018-01-23   27327000.0  64.470001  \n",
       "2018-01-24   26437500.0  65.610001  \n",
       "2018-01-25   33701500.0  65.510002  \n",
       "2018-01-26   22697000.0  66.139999  \n",
       "...                 ...        ...  \n",
       "2021-01-16   38777600.0  52.360001  \n",
       "2021-01-17   38777600.0  52.360001  \n",
       "2021-01-18   38777600.0  52.360001  \n",
       "2021-01-19   25367000.0  52.980000  \n",
       "2021-01-20   25598200.0  53.240002  \n",
       "\n",
       "[1094 rows x 26 columns]"
      ]
     },
     "execution_count": 18,
     "metadata": {},
     "output_type": "execute_result"
    }
   ],
   "source": [
    "df"
   ]
  },
  {
   "cell_type": "code",
   "execution_count": 31,
   "id": "meaningful-encounter",
   "metadata": {},
   "outputs": [],
   "source": [
    "def delta(n):\n",
    "    return int(n // 2) + 1"
   ]
  },
  {
   "cell_type": "code",
   "execution_count": 47,
   "id": "clean-champion",
   "metadata": {},
   "outputs": [
    {
     "name": "stdout",
     "output_type": "stream",
     "text": [
      "Threshold for BTC-USD is 1.86%\n"
     ]
    }
   ],
   "source": [
    "df = prepare_data_without_window('../data/processed/all.csv', instrument='BTC-USD')"
   ]
  },
  {
   "cell_type": "code",
   "execution_count": null,
   "id": "silver-netherlands",
   "metadata": {},
   "outputs": [
    {
     "name": "stdout",
     "output_type": "stream",
     "text": [
      "Start window_len 1\n",
      "Accuracy: 31.9044793% for window_len 1\n",
      "\n",
      "Start window_len 2\n",
      "Accuracy: 30.1525368% for window_len 2\n",
      "\n",
      "Start window_len 3\n",
      "Accuracy: 30.0556479% for window_len 3\n",
      "\n",
      "Start window_len 4\n"
     ]
    }
   ],
   "source": [
    "get_df_of_accuracies_by_window_len_range(df, n, model_type='logistic', delta=20, verbose=True)"
   ]
  },
  {
   "cell_type": "code",
   "execution_count": 48,
   "id": "answering-welcome",
   "metadata": {},
   "outputs": [
    {
     "name": "stdout",
     "output_type": "stream",
     "text": [
      "Start window_len 1\n",
      "Accuracy: 27.4912046% for window_len 1\n",
      "\n",
      "Start window_len 2\n",
      "Accuracy: 27.9547670% for window_len 2\n",
      "\n",
      "Start window_len 3\n",
      "Accuracy: 28.3798225% for window_len 3\n",
      "\n",
      "Start window_len 4\n",
      "Accuracy: 31.9958106% for window_len 4\n",
      "\n",
      "Start window_len 5\n",
      "Accuracy: 34.5609571% for window_len 5\n",
      "\n",
      "Start window_len 6\n",
      "Accuracy: 39.9071502% for window_len 6\n",
      "\n",
      "Start window_len 7\n",
      "Accuracy: 43.0440546% for window_len 7\n",
      "\n",
      "Start window_len 8\n",
      "Accuracy: 43.3030372% for window_len 8\n",
      "\n",
      "Start window_len 9\n",
      "Accuracy: 45.8933411% for window_len 9\n",
      "\n",
      "Start window_len 10\n",
      "Accuracy: 44.6892183% for window_len 10\n",
      "\n",
      "Start window_len 11\n",
      "Accuracy: 46.6423407% for window_len 11\n",
      "\n",
      "Start window_len 12\n",
      "Accuracy: 45.1137878% for window_len 12\n",
      "\n",
      "Start window_len 13\n",
      "Accuracy: 46.0777768% for window_len 13\n",
      "\n",
      "Start window_len 14\n",
      "Accuracy: 49.2353135% for window_len 14\n",
      "\n",
      "Start window_len 15\n",
      "Accuracy: 49.6582287% for window_len 15\n",
      "\n",
      "Start window_len 16\n",
      "Accuracy: 53.2498178% for window_len 16\n",
      "\n",
      "Start window_len 17\n",
      "Accuracy: 51.5950907% for window_len 17\n",
      "\n",
      "Start window_len 18\n",
      "Accuracy: 52.8867503% for window_len 18\n",
      "\n",
      "Start window_len 19\n",
      "Accuracy: 49.2708823% for window_len 19\n",
      "\n",
      "Start window_len 20\n",
      "Accuracy: 49.9242891% for window_len 20\n",
      "\n",
      "Start window_len 21\n",
      "Accuracy: 52.0989791% for window_len 21\n",
      "\n",
      "Start window_len 22\n",
      "Accuracy: 45.2391061% for window_len 22\n",
      "\n"
     ]
    },
    {
     "data": {
      "text/plain": [
       "(0.5324981775946162, 16.0)"
      ]
     },
     "execution_count": 48,
     "metadata": {},
     "output_type": "execute_result"
    }
   ],
   "source": [
    "choose_best_window_size(df, n, 'logistic', delta=20, verbose=True)"
   ]
  },
  {
   "cell_type": "code",
   "execution_count": 15,
   "id": "noticed-cyprus",
   "metadata": {},
   "outputs": [
    {
     "name": "stdout",
     "output_type": "stream",
     "text": [
      "Threshold for CL=F is 1.56%\n",
      "Start window_len 3\n",
      "Accuracy: 51.4 for window_len 3\n",
      "\n",
      "Start window_len 4\n",
      "Accuracy: 54.8 for window_len 4\n",
      "\n",
      "Start window_len 5\n",
      "Accuracy: 57.1 for window_len 5\n",
      "\n",
      "Start window_len 6\n",
      "Accuracy: 58.4 for window_len 6\n",
      "\n",
      "0.583557107691674 6.0\n"
     ]
    }
   ],
   "source": [
    "n = 5\n",
    "delta = int(n // 2)\n",
    "model_type = 'logistic'\n",
    "\n",
    "accs = []\n",
    "wls = []\n",
    "\n",
    "df = prepare_data_without_window(n=n)\n",
    "for window_len in range(n - delta, n + delta):\n",
    "    print('Start window_len', window_len)\n",
    "    df_window = generate_window(df, window_len=window_len)\n",
    "    acc = best_window_len_cv(df_window, window_len, model_type=model_type)\n",
    "    \n",
    "    accs.append(acc)\n",
    "    wls.append(window_len)\n",
    "    print(f'Accuracy: {acc * 100:.1f}% for window_len {window_len}\\n')\n",
    "    \n",
    "\n",
    "ac = pd.DataFrame({'accuracy': accs, 'window': wls})\n",
    "acc, window = ac.loc[ac['accuracy'].argmax()]\n",
    "print(acc, window)"
   ]
  },
  {
   "cell_type": "code",
   "execution_count": 30,
   "id": "known-vintage",
   "metadata": {},
   "outputs": [],
   "source": [
    "import json"
   ]
  },
  {
   "cell_type": "code",
   "execution_count": 34,
   "id": "generous-prerequisite",
   "metadata": {},
   "outputs": [],
   "source": [
    "c = json.dumps(ac.to_dict())"
   ]
  },
  {
   "cell_type": "code",
   "execution_count": 38,
   "id": "photographic-ultimate",
   "metadata": {},
   "outputs": [],
   "source": [
    "with open('abc', 'w') as file:\n",
    "    file.write(c)"
   ]
  },
  {
   "cell_type": "code",
   "execution_count": 10,
   "id": "otherwise-conclusion",
   "metadata": {},
   "outputs": [],
   "source": [
    "def profit(revenue, cost):\n",
    "    return (revenue - cost) / cost * 100"
   ]
  },
  {
   "cell_type": "code",
   "execution_count": 11,
   "id": "sophisticated-training",
   "metadata": {},
   "outputs": [
    {
     "name": "stdout",
     "output_type": "stream",
     "text": [
      "logistic\n",
      "1.8574554253958877\n",
      "Accuracy: 0.3364485981308411\n",
      "Profit: 22.49%\n",
      "Best possible profit: 217.07%\n",
      "res 18372.751953125 ; best res 47560.353515625\n",
      "random_forest\n",
      "1.8574554253958877\n",
      "Accuracy: 0.1588785046728972\n",
      "Profit: 0.00%\n",
      "Best possible profit: 217.07%\n",
      "res 15000 ; best res 47560.353515625\n",
      "ridge\n",
      "1.8574554253958877\n",
      "Accuracy: 0.14018691588785046\n",
      "Profit: 3.34%\n",
      "Best possible profit: 217.07%\n",
      "res 15501.3583984375 ; best res 47560.353515625\n"
     ]
    }
   ],
   "source": [
    "window_len = 10\n",
    "n = 3\n",
    "start_cap = 15000\n",
    "\n",
    "for model in ['logistic', 'random_forest', 'ridge']:\n",
    "    print(model)\n",
    "    df = prepare_data_without_window(instrument=instrument, n=n, bounds=[0.1, 20])\n",
    "    df_window = generate_window(df, window_len=window_len)\n",
    "\n",
    "    df_window = add_results_to_df(df_window, window_len, model_type=model)\n",
    "    res, best_res = get_simulation_results(df_window, cap=start_cap)\n",
    "\n",
    "    print(f'Profit: {profit(res, start_cap):.2f}%')\n",
    "    print(f'Best possible profit: {profit(best_res, start_cap):.2f}%')\n",
    "    print('res', res, '; best res', best_res)"
   ]
  },
  {
   "cell_type": "code",
   "execution_count": 12,
   "id": "naked-botswana",
   "metadata": {},
   "outputs": [
    {
     "data": {
      "application/vnd.plotly.v1+json": {
       "config": {
        "plotlyServerURL": "https://plot.ly"
       },
       "data": [
        {
         "hovertemplate": "predicted_label=buy<br>Date=%{x}<br>target=%{y}<extra></extra>",
         "legendgroup": "buy",
         "marker": {
          "color": "#636efa",
          "symbol": "circle"
         },
         "mode": "markers",
         "name": "buy",
         "orientation": "v",
         "showlegend": true,
         "type": "scatter",
         "x": [
          "2020-10-06T00:00:00",
          "2020-10-25T00:00:00",
          "2020-11-02T00:00:00",
          "2020-11-17T00:00:00",
          "2020-12-04T00:00:00"
         ],
         "xaxis": "x",
         "y": [
          10621.6640625,
          13031.173828125,
          13550.4892578125,
          17645.40625,
          18699.765625
         ],
         "yaxis": "y"
        },
        {
         "hovertemplate": "predicted_label=sell<br>Date=%{x}<br>target=%{y}<extra></extra>",
         "legendgroup": "sell",
         "marker": {
          "color": "#EF553B",
          "symbol": "circle"
         },
         "mode": "markers",
         "name": "sell",
         "orientation": "v",
         "showlegend": true,
         "type": "scatter",
         "x": [
          "2020-10-07T00:00:00",
          "2020-10-08T00:00:00",
          "2020-10-09T00:00:00",
          "2020-10-10T00:00:00",
          "2020-10-12T00:00:00",
          "2020-10-13T00:00:00",
          "2020-10-14T00:00:00",
          "2020-10-15T00:00:00",
          "2020-10-16T00:00:00",
          "2020-10-17T00:00:00",
          "2020-10-18T00:00:00",
          "2020-10-19T00:00:00",
          "2020-10-20T00:00:00",
          "2020-10-21T00:00:00",
          "2020-10-22T00:00:00",
          "2020-10-23T00:00:00",
          "2020-10-26T00:00:00",
          "2020-10-27T00:00:00",
          "2020-10-28T00:00:00",
          "2020-10-29T00:00:00",
          "2020-10-30T00:00:00",
          "2020-10-31T00:00:00",
          "2020-11-01T00:00:00",
          "2020-11-03T00:00:00",
          "2020-11-04T00:00:00",
          "2020-11-05T00:00:00",
          "2020-11-06T00:00:00",
          "2020-11-07T00:00:00",
          "2020-11-09T00:00:00",
          "2020-11-10T00:00:00",
          "2020-11-11T00:00:00",
          "2020-11-12T00:00:00",
          "2020-11-13T00:00:00",
          "2020-11-14T00:00:00",
          "2020-11-15T00:00:00",
          "2020-11-16T00:00:00",
          "2020-11-18T00:00:00",
          "2020-11-19T00:00:00",
          "2020-11-20T00:00:00",
          "2020-11-21T00:00:00",
          "2020-11-22T00:00:00",
          "2020-11-23T00:00:00",
          "2020-11-24T00:00:00",
          "2020-11-25T00:00:00",
          "2020-11-26T00:00:00",
          "2020-11-27T00:00:00",
          "2020-11-28T00:00:00",
          "2020-11-29T00:00:00",
          "2020-11-30T00:00:00",
          "2020-12-01T00:00:00",
          "2020-12-02T00:00:00",
          "2020-12-03T00:00:00",
          "2020-12-05T00:00:00",
          "2020-12-06T00:00:00",
          "2020-12-07T00:00:00",
          "2020-12-08T00:00:00",
          "2020-12-09T00:00:00",
          "2020-12-10T00:00:00",
          "2020-12-11T00:00:00",
          "2020-12-12T00:00:00",
          "2020-12-13T00:00:00",
          "2020-12-14T00:00:00",
          "2020-12-15T00:00:00",
          "2020-12-16T00:00:00",
          "2020-12-17T00:00:00",
          "2020-12-18T00:00:00",
          "2020-12-19T00:00:00",
          "2020-12-20T00:00:00",
          "2020-12-21T00:00:00",
          "2020-12-22T00:00:00",
          "2020-12-23T00:00:00",
          "2020-12-24T00:00:00",
          "2020-12-25T00:00:00",
          "2020-12-26T00:00:00",
          "2020-12-27T00:00:00",
          "2020-12-28T00:00:00",
          "2020-12-29T00:00:00",
          "2020-12-30T00:00:00",
          "2020-12-31T00:00:00",
          "2021-01-01T00:00:00",
          "2021-01-02T00:00:00",
          "2021-01-03T00:00:00",
          "2021-01-04T00:00:00",
          "2021-01-05T00:00:00",
          "2021-01-06T00:00:00",
          "2021-01-07T00:00:00",
          "2021-01-08T00:00:00",
          "2021-01-09T00:00:00",
          "2021-01-10T00:00:00",
          "2021-01-11T00:00:00",
          "2021-01-12T00:00:00",
          "2021-01-13T00:00:00",
          "2021-01-14T00:00:00",
          "2021-01-15T00:00:00",
          "2021-01-16T00:00:00",
          "2021-01-17T00:00:00"
         ],
         "xaxis": "x",
         "y": [
          10679.13671875,
          10923.6279296875,
          11079.4658203125,
          11296.361328125,
          11555.36328125,
          11425.8994140625,
          11429.5068359375,
          11495.349609375,
          11322.123046875,
          11358.1015625,
          11483.359375,
          11742.037109375,
          11916.3349609375,
          12823.689453125,
          12965.8916015625,
          12931.5390625,
          13075.248046875,
          13654.21875,
          13271.28515625,
          13437.8828125,
          13546.5224609375,
          13780.9951171875,
          13737.109375,
          13950.30078125,
          14133.70703125,
          15579.8486328125,
          15565.880859375,
          14833.75390625,
          15332.3154296875,
          15290.90234375,
          15701.33984375,
          16276.34375,
          16317.80859375,
          16068.138671875,
          15955.587890625,
          16716.111328125,
          17804.005859375,
          17817.08984375,
          18621.314453125,
          18642.232421875,
          18370.001953125,
          18364.12109375,
          19107.46484375,
          18732.12109375,
          17150.623046875,
          17108.40234375,
          17717.4140625,
          18177.484375,
          19625.8359375,
          18802.998046875,
          19201.091796875,
          19445.3984375,
          19154.23046875,
          19345.12109375,
          19191.630859375,
          18321.14453125,
          18553.916015625,
          18264.9921875,
          18058.904296875,
          18803.65625,
          19142.3828125,
          19246.64453125,
          19417.076171875,
          21310.59765625,
          22805.162109375,
          23137.9609375,
          23869.83203125,
          23477.294921875,
          22803.08203125,
          23783.029296875,
          23241.345703125,
          23735.94921875,
          24664.791015625,
          26437.037109375,
          26272.294921875,
          27084.80859375,
          27362.4375,
          28840.953125,
          29001.720703125,
          29374.15234375,
          32127.267578125,
          32782.0234375,
          31971.9140625,
          33992.4296875,
          36824.36328125,
          39371.04296875,
          40797.609375,
          40254.546875,
          38356.44140625,
          35566.65625,
          33922.9609375,
          37316.359375,
          39187.328125,
          36825.3671875,
          36178.140625,
          35791.27734375
         ],
         "yaxis": "y"
        },
        {
         "hovertemplate": "predicted_label=hold<br>Date=%{x}<br>target=%{y}<extra></extra>",
         "legendgroup": "hold",
         "marker": {
          "color": "#00cc96",
          "symbol": "circle"
         },
         "mode": "markers",
         "name": "hold",
         "orientation": "v",
         "showlegend": true,
         "type": "scatter",
         "x": [
          "2020-10-11T00:00:00",
          "2020-10-24T00:00:00",
          "2020-11-08T00:00:00"
         ],
         "xaxis": "x",
         "y": [
          11384.181640625,
          13108.0625,
          15479.5673828125
         ],
         "yaxis": "y"
        }
       ],
       "layout": {
        "autosize": true,
        "legend": {
         "title": {
          "text": "predicted_label"
         },
         "tracegroupgap": 0
        },
        "template": {
         "data": {
          "bar": [
           {
            "error_x": {
             "color": "#2a3f5f"
            },
            "error_y": {
             "color": "#2a3f5f"
            },
            "marker": {
             "line": {
              "color": "#E5ECF6",
              "width": 0.5
             }
            },
            "type": "bar"
           }
          ],
          "barpolar": [
           {
            "marker": {
             "line": {
              "color": "#E5ECF6",
              "width": 0.5
             }
            },
            "type": "barpolar"
           }
          ],
          "carpet": [
           {
            "aaxis": {
             "endlinecolor": "#2a3f5f",
             "gridcolor": "white",
             "linecolor": "white",
             "minorgridcolor": "white",
             "startlinecolor": "#2a3f5f"
            },
            "baxis": {
             "endlinecolor": "#2a3f5f",
             "gridcolor": "white",
             "linecolor": "white",
             "minorgridcolor": "white",
             "startlinecolor": "#2a3f5f"
            },
            "type": "carpet"
           }
          ],
          "choropleth": [
           {
            "colorbar": {
             "outlinewidth": 0,
             "ticks": ""
            },
            "type": "choropleth"
           }
          ],
          "contour": [
           {
            "colorbar": {
             "outlinewidth": 0,
             "ticks": ""
            },
            "colorscale": [
             [
              0,
              "#0d0887"
             ],
             [
              0.1111111111111111,
              "#46039f"
             ],
             [
              0.2222222222222222,
              "#7201a8"
             ],
             [
              0.3333333333333333,
              "#9c179e"
             ],
             [
              0.4444444444444444,
              "#bd3786"
             ],
             [
              0.5555555555555556,
              "#d8576b"
             ],
             [
              0.6666666666666666,
              "#ed7953"
             ],
             [
              0.7777777777777778,
              "#fb9f3a"
             ],
             [
              0.8888888888888888,
              "#fdca26"
             ],
             [
              1,
              "#f0f921"
             ]
            ],
            "type": "contour"
           }
          ],
          "contourcarpet": [
           {
            "colorbar": {
             "outlinewidth": 0,
             "ticks": ""
            },
            "type": "contourcarpet"
           }
          ],
          "heatmap": [
           {
            "colorbar": {
             "outlinewidth": 0,
             "ticks": ""
            },
            "colorscale": [
             [
              0,
              "#0d0887"
             ],
             [
              0.1111111111111111,
              "#46039f"
             ],
             [
              0.2222222222222222,
              "#7201a8"
             ],
             [
              0.3333333333333333,
              "#9c179e"
             ],
             [
              0.4444444444444444,
              "#bd3786"
             ],
             [
              0.5555555555555556,
              "#d8576b"
             ],
             [
              0.6666666666666666,
              "#ed7953"
             ],
             [
              0.7777777777777778,
              "#fb9f3a"
             ],
             [
              0.8888888888888888,
              "#fdca26"
             ],
             [
              1,
              "#f0f921"
             ]
            ],
            "type": "heatmap"
           }
          ],
          "heatmapgl": [
           {
            "colorbar": {
             "outlinewidth": 0,
             "ticks": ""
            },
            "colorscale": [
             [
              0,
              "#0d0887"
             ],
             [
              0.1111111111111111,
              "#46039f"
             ],
             [
              0.2222222222222222,
              "#7201a8"
             ],
             [
              0.3333333333333333,
              "#9c179e"
             ],
             [
              0.4444444444444444,
              "#bd3786"
             ],
             [
              0.5555555555555556,
              "#d8576b"
             ],
             [
              0.6666666666666666,
              "#ed7953"
             ],
             [
              0.7777777777777778,
              "#fb9f3a"
             ],
             [
              0.8888888888888888,
              "#fdca26"
             ],
             [
              1,
              "#f0f921"
             ]
            ],
            "type": "heatmapgl"
           }
          ],
          "histogram": [
           {
            "marker": {
             "colorbar": {
              "outlinewidth": 0,
              "ticks": ""
             }
            },
            "type": "histogram"
           }
          ],
          "histogram2d": [
           {
            "colorbar": {
             "outlinewidth": 0,
             "ticks": ""
            },
            "colorscale": [
             [
              0,
              "#0d0887"
             ],
             [
              0.1111111111111111,
              "#46039f"
             ],
             [
              0.2222222222222222,
              "#7201a8"
             ],
             [
              0.3333333333333333,
              "#9c179e"
             ],
             [
              0.4444444444444444,
              "#bd3786"
             ],
             [
              0.5555555555555556,
              "#d8576b"
             ],
             [
              0.6666666666666666,
              "#ed7953"
             ],
             [
              0.7777777777777778,
              "#fb9f3a"
             ],
             [
              0.8888888888888888,
              "#fdca26"
             ],
             [
              1,
              "#f0f921"
             ]
            ],
            "type": "histogram2d"
           }
          ],
          "histogram2dcontour": [
           {
            "colorbar": {
             "outlinewidth": 0,
             "ticks": ""
            },
            "colorscale": [
             [
              0,
              "#0d0887"
             ],
             [
              0.1111111111111111,
              "#46039f"
             ],
             [
              0.2222222222222222,
              "#7201a8"
             ],
             [
              0.3333333333333333,
              "#9c179e"
             ],
             [
              0.4444444444444444,
              "#bd3786"
             ],
             [
              0.5555555555555556,
              "#d8576b"
             ],
             [
              0.6666666666666666,
              "#ed7953"
             ],
             [
              0.7777777777777778,
              "#fb9f3a"
             ],
             [
              0.8888888888888888,
              "#fdca26"
             ],
             [
              1,
              "#f0f921"
             ]
            ],
            "type": "histogram2dcontour"
           }
          ],
          "mesh3d": [
           {
            "colorbar": {
             "outlinewidth": 0,
             "ticks": ""
            },
            "type": "mesh3d"
           }
          ],
          "parcoords": [
           {
            "line": {
             "colorbar": {
              "outlinewidth": 0,
              "ticks": ""
             }
            },
            "type": "parcoords"
           }
          ],
          "pie": [
           {
            "automargin": true,
            "type": "pie"
           }
          ],
          "scatter": [
           {
            "marker": {
             "colorbar": {
              "outlinewidth": 0,
              "ticks": ""
             }
            },
            "type": "scatter"
           }
          ],
          "scatter3d": [
           {
            "line": {
             "colorbar": {
              "outlinewidth": 0,
              "ticks": ""
             }
            },
            "marker": {
             "colorbar": {
              "outlinewidth": 0,
              "ticks": ""
             }
            },
            "type": "scatter3d"
           }
          ],
          "scattercarpet": [
           {
            "marker": {
             "colorbar": {
              "outlinewidth": 0,
              "ticks": ""
             }
            },
            "type": "scattercarpet"
           }
          ],
          "scattergeo": [
           {
            "marker": {
             "colorbar": {
              "outlinewidth": 0,
              "ticks": ""
             }
            },
            "type": "scattergeo"
           }
          ],
          "scattergl": [
           {
            "marker": {
             "colorbar": {
              "outlinewidth": 0,
              "ticks": ""
             }
            },
            "type": "scattergl"
           }
          ],
          "scattermapbox": [
           {
            "marker": {
             "colorbar": {
              "outlinewidth": 0,
              "ticks": ""
             }
            },
            "type": "scattermapbox"
           }
          ],
          "scatterpolar": [
           {
            "marker": {
             "colorbar": {
              "outlinewidth": 0,
              "ticks": ""
             }
            },
            "type": "scatterpolar"
           }
          ],
          "scatterpolargl": [
           {
            "marker": {
             "colorbar": {
              "outlinewidth": 0,
              "ticks": ""
             }
            },
            "type": "scatterpolargl"
           }
          ],
          "scatterternary": [
           {
            "marker": {
             "colorbar": {
              "outlinewidth": 0,
              "ticks": ""
             }
            },
            "type": "scatterternary"
           }
          ],
          "surface": [
           {
            "colorbar": {
             "outlinewidth": 0,
             "ticks": ""
            },
            "colorscale": [
             [
              0,
              "#0d0887"
             ],
             [
              0.1111111111111111,
              "#46039f"
             ],
             [
              0.2222222222222222,
              "#7201a8"
             ],
             [
              0.3333333333333333,
              "#9c179e"
             ],
             [
              0.4444444444444444,
              "#bd3786"
             ],
             [
              0.5555555555555556,
              "#d8576b"
             ],
             [
              0.6666666666666666,
              "#ed7953"
             ],
             [
              0.7777777777777778,
              "#fb9f3a"
             ],
             [
              0.8888888888888888,
              "#fdca26"
             ],
             [
              1,
              "#f0f921"
             ]
            ],
            "type": "surface"
           }
          ],
          "table": [
           {
            "cells": {
             "fill": {
              "color": "#EBF0F8"
             },
             "line": {
              "color": "white"
             }
            },
            "header": {
             "fill": {
              "color": "#C8D4E3"
             },
             "line": {
              "color": "white"
             }
            },
            "type": "table"
           }
          ]
         },
         "layout": {
          "annotationdefaults": {
           "arrowcolor": "#2a3f5f",
           "arrowhead": 0,
           "arrowwidth": 1
          },
          "coloraxis": {
           "colorbar": {
            "outlinewidth": 0,
            "ticks": ""
           }
          },
          "colorscale": {
           "diverging": [
            [
             0,
             "#8e0152"
            ],
            [
             0.1,
             "#c51b7d"
            ],
            [
             0.2,
             "#de77ae"
            ],
            [
             0.3,
             "#f1b6da"
            ],
            [
             0.4,
             "#fde0ef"
            ],
            [
             0.5,
             "#f7f7f7"
            ],
            [
             0.6,
             "#e6f5d0"
            ],
            [
             0.7,
             "#b8e186"
            ],
            [
             0.8,
             "#7fbc41"
            ],
            [
             0.9,
             "#4d9221"
            ],
            [
             1,
             "#276419"
            ]
           ],
           "sequential": [
            [
             0,
             "#0d0887"
            ],
            [
             0.1111111111111111,
             "#46039f"
            ],
            [
             0.2222222222222222,
             "#7201a8"
            ],
            [
             0.3333333333333333,
             "#9c179e"
            ],
            [
             0.4444444444444444,
             "#bd3786"
            ],
            [
             0.5555555555555556,
             "#d8576b"
            ],
            [
             0.6666666666666666,
             "#ed7953"
            ],
            [
             0.7777777777777778,
             "#fb9f3a"
            ],
            [
             0.8888888888888888,
             "#fdca26"
            ],
            [
             1,
             "#f0f921"
            ]
           ],
           "sequentialminus": [
            [
             0,
             "#0d0887"
            ],
            [
             0.1111111111111111,
             "#46039f"
            ],
            [
             0.2222222222222222,
             "#7201a8"
            ],
            [
             0.3333333333333333,
             "#9c179e"
            ],
            [
             0.4444444444444444,
             "#bd3786"
            ],
            [
             0.5555555555555556,
             "#d8576b"
            ],
            [
             0.6666666666666666,
             "#ed7953"
            ],
            [
             0.7777777777777778,
             "#fb9f3a"
            ],
            [
             0.8888888888888888,
             "#fdca26"
            ],
            [
             1,
             "#f0f921"
            ]
           ]
          },
          "colorway": [
           "#636efa",
           "#EF553B",
           "#00cc96",
           "#ab63fa",
           "#FFA15A",
           "#19d3f3",
           "#FF6692",
           "#B6E880",
           "#FF97FF",
           "#FECB52"
          ],
          "font": {
           "color": "#2a3f5f"
          },
          "geo": {
           "bgcolor": "white",
           "lakecolor": "white",
           "landcolor": "#E5ECF6",
           "showlakes": true,
           "showland": true,
           "subunitcolor": "white"
          },
          "hoverlabel": {
           "align": "left"
          },
          "hovermode": "closest",
          "mapbox": {
           "style": "light"
          },
          "paper_bgcolor": "white",
          "plot_bgcolor": "#E5ECF6",
          "polar": {
           "angularaxis": {
            "gridcolor": "white",
            "linecolor": "white",
            "ticks": ""
           },
           "bgcolor": "#E5ECF6",
           "radialaxis": {
            "gridcolor": "white",
            "linecolor": "white",
            "ticks": ""
           }
          },
          "scene": {
           "xaxis": {
            "backgroundcolor": "#E5ECF6",
            "gridcolor": "white",
            "gridwidth": 2,
            "linecolor": "white",
            "showbackground": true,
            "ticks": "",
            "zerolinecolor": "white"
           },
           "yaxis": {
            "backgroundcolor": "#E5ECF6",
            "gridcolor": "white",
            "gridwidth": 2,
            "linecolor": "white",
            "showbackground": true,
            "ticks": "",
            "zerolinecolor": "white"
           },
           "zaxis": {
            "backgroundcolor": "#E5ECF6",
            "gridcolor": "white",
            "gridwidth": 2,
            "linecolor": "white",
            "showbackground": true,
            "ticks": "",
            "zerolinecolor": "white"
           }
          },
          "shapedefaults": {
           "line": {
            "color": "#2a3f5f"
           }
          },
          "ternary": {
           "aaxis": {
            "gridcolor": "white",
            "linecolor": "white",
            "ticks": ""
           },
           "baxis": {
            "gridcolor": "white",
            "linecolor": "white",
            "ticks": ""
           },
           "bgcolor": "#E5ECF6",
           "caxis": {
            "gridcolor": "white",
            "linecolor": "white",
            "ticks": ""
           }
          },
          "title": {
           "x": 0.05
          },
          "xaxis": {
           "automargin": true,
           "gridcolor": "white",
           "linecolor": "white",
           "ticks": "",
           "title": {
            "standoff": 15
           },
           "zerolinecolor": "white",
           "zerolinewidth": 2
          },
          "yaxis": {
           "automargin": true,
           "gridcolor": "white",
           "linecolor": "white",
           "ticks": "",
           "title": {
            "standoff": 15
           },
           "zerolinecolor": "white",
           "zerolinewidth": 2
          }
         }
        },
        "title": {
         "text": "Predicted labels"
        },
        "xaxis": {
         "anchor": "y",
         "autorange": true,
         "domain": [
          0,
          1
         ],
         "range": [
          "2020-09-30 00:40:14.2508",
          "2021-01-22 23:19:45.7492"
         ],
         "title": {
          "text": "Date"
         },
         "type": "date"
        },
        "yaxis": {
         "anchor": "x",
         "autorange": true,
         "domain": [
          0,
          1
         ],
         "range": [
          8411.324119227707,
          43007.949318272294
         ],
         "title": {
          "text": "target"
         },
         "type": "linear"
        }
       }
      },
      "image/png": "[encoded data removed]",
      "text/html": [
       "<div>\n",
       "        \n",
       "        \n",
       "            <div id=\"18ecf7bf-2a42-4103-8446-ea97e7ecceea\" class=\"plotly-graph-div\" style=\"height:525px; width:100%;\"></div>\n",
       "            <script type=\"text/javascript\">\n",
       "                require([\"plotly\"], function(Plotly) {\n",
       "                    window.PLOTLYENV=window.PLOTLYENV || {};\n",
       "                    \n",
       "                if (document.getElementById(\"18ecf7bf-2a42-4103-8446-ea97e7ecceea\")) {\n",
       "                    Plotly.newPlot(\n",
       "                        '18ecf7bf-2a42-4103-8446-ea97e7ecceea',\n",
       "                        [{\"hovertemplate\": \"predicted_label=buy<br>Date=%{x}<br>target=%{y}<extra></extra>\", \"legendgroup\": \"buy\", \"marker\": {\"color\": \"#636efa\", \"symbol\": \"circle\"}, \"mode\": \"markers\", \"name\": \"buy\", \"orientation\": \"v\", \"showlegend\": true, \"type\": \"scatter\", \"x\": [\"2020-10-06T00:00:00\", \"2020-10-25T00:00:00\", \"2020-11-02T00:00:00\", \"2020-11-17T00:00:00\", \"2020-12-04T00:00:00\"], \"xaxis\": \"x\", \"y\": [10621.6640625, 13031.173828125, 13550.4892578125, 17645.40625, 18699.765625], \"yaxis\": \"y\"}, {\"hovertemplate\": \"predicted_label=sell<br>Date=%{x}<br>target=%{y}<extra></extra>\", \"legendgroup\": \"sell\", \"marker\": {\"color\": \"#EF553B\", \"symbol\": \"circle\"}, \"mode\": \"markers\", \"name\": \"sell\", \"orientation\": \"v\", \"showlegend\": true, \"type\": \"scatter\", \"x\": [\"2020-10-07T00:00:00\", \"2020-10-08T00:00:00\", \"2020-10-09T00:00:00\", \"2020-10-10T00:00:00\", \"2020-10-12T00:00:00\", \"2020-10-13T00:00:00\", \"2020-10-14T00:00:00\", \"2020-10-15T00:00:00\", \"2020-10-16T00:00:00\", \"2020-10-17T00:00:00\", \"2020-10-18T00:00:00\", \"2020-10-19T00:00:00\", \"2020-10-20T00:00:00\", \"2020-10-21T00:00:00\", \"2020-10-22T00:00:00\", \"2020-10-23T00:00:00\", \"2020-10-26T00:00:00\", \"2020-10-27T00:00:00\", \"2020-10-28T00:00:00\", \"2020-10-29T00:00:00\", \"2020-10-30T00:00:00\", \"2020-10-31T00:00:00\", \"2020-11-01T00:00:00\", \"2020-11-03T00:00:00\", \"2020-11-04T00:00:00\", \"2020-11-05T00:00:00\", \"2020-11-06T00:00:00\", \"2020-11-07T00:00:00\", \"2020-11-09T00:00:00\", \"2020-11-10T00:00:00\", \"2020-11-11T00:00:00\", \"2020-11-12T00:00:00\", \"2020-11-13T00:00:00\", \"2020-11-14T00:00:00\", \"2020-11-15T00:00:00\", \"2020-11-16T00:00:00\", \"2020-11-18T00:00:00\", \"2020-11-19T00:00:00\", \"2020-11-20T00:00:00\", \"2020-11-21T00:00:00\", \"2020-11-22T00:00:00\", \"2020-11-23T00:00:00\", \"2020-11-24T00:00:00\", \"2020-11-25T00:00:00\", \"2020-11-26T00:00:00\", \"2020-11-27T00:00:00\", \"2020-11-28T00:00:00\", \"2020-11-29T00:00:00\", \"2020-11-30T00:00:00\", \"2020-12-01T00:00:00\", \"2020-12-02T00:00:00\", \"2020-12-03T00:00:00\", \"2020-12-05T00:00:00\", \"2020-12-06T00:00:00\", \"2020-12-07T00:00:00\", \"2020-12-08T00:00:00\", \"2020-12-09T00:00:00\", \"2020-12-10T00:00:00\", \"2020-12-11T00:00:00\", \"2020-12-12T00:00:00\", \"2020-12-13T00:00:00\", \"2020-12-14T00:00:00\", \"2020-12-15T00:00:00\", \"2020-12-16T00:00:00\", \"2020-12-17T00:00:00\", \"2020-12-18T00:00:00\", \"2020-12-19T00:00:00\", \"2020-12-20T00:00:00\", \"2020-12-21T00:00:00\", \"2020-12-22T00:00:00\", \"2020-12-23T00:00:00\", \"2020-12-24T00:00:00\", \"2020-12-25T00:00:00\", \"2020-12-26T00:00:00\", \"2020-12-27T00:00:00\", \"2020-12-28T00:00:00\", \"2020-12-29T00:00:00\", \"2020-12-30T00:00:00\", \"2020-12-31T00:00:00\", \"2021-01-01T00:00:00\", \"2021-01-02T00:00:00\", \"2021-01-03T00:00:00\", \"2021-01-04T00:00:00\", \"2021-01-05T00:00:00\", \"2021-01-06T00:00:00\", \"2021-01-07T00:00:00\", \"2021-01-08T00:00:00\", \"2021-01-09T00:00:00\", \"2021-01-10T00:00:00\", \"2021-01-11T00:00:00\", \"2021-01-12T00:00:00\", \"2021-01-13T00:00:00\", \"2021-01-14T00:00:00\", \"2021-01-15T00:00:00\", \"2021-01-16T00:00:00\", \"2021-01-17T00:00:00\"], \"xaxis\": \"x\", \"y\": [10679.13671875, 10923.6279296875, 11079.4658203125, 11296.361328125, 11555.36328125, 11425.8994140625, 11429.5068359375, 11495.349609375, 11322.123046875, 11358.1015625, 11483.359375, 11742.037109375, 11916.3349609375, 12823.689453125, 12965.8916015625, 12931.5390625, 13075.248046875, 13654.21875, 13271.28515625, 13437.8828125, 13546.5224609375, 13780.9951171875, 13737.109375, 13950.30078125, 14133.70703125, 15579.8486328125, 15565.880859375, 14833.75390625, 15332.3154296875, 15290.90234375, 15701.33984375, 16276.34375, 16317.80859375, 16068.138671875, 15955.587890625, 16716.111328125, 17804.005859375, 17817.08984375, 18621.314453125, 18642.232421875, 18370.001953125, 18364.12109375, 19107.46484375, 18732.12109375, 17150.623046875, 17108.40234375, 17717.4140625, 18177.484375, 19625.8359375, 18802.998046875, 19201.091796875, 19445.3984375, 19154.23046875, 19345.12109375, 19191.630859375, 18321.14453125, 18553.916015625, 18264.9921875, 18058.904296875, 18803.65625, 19142.3828125, 19246.64453125, 19417.076171875, 21310.59765625, 22805.162109375, 23137.9609375, 23869.83203125, 23477.294921875, 22803.08203125, 23783.029296875, 23241.345703125, 23735.94921875, 24664.791015625, 26437.037109375, 26272.294921875, 27084.80859375, 27362.4375, 28840.953125, 29001.720703125, 29374.15234375, 32127.267578125, 32782.0234375, 31971.9140625, 33992.4296875, 36824.36328125, 39371.04296875, 40797.609375, 40254.546875, 38356.44140625, 35566.65625, 33922.9609375, 37316.359375, 39187.328125, 36825.3671875, 36178.140625, 35791.27734375], \"yaxis\": \"y\"}, {\"hovertemplate\": \"predicted_label=hold<br>Date=%{x}<br>target=%{y}<extra></extra>\", \"legendgroup\": \"hold\", \"marker\": {\"color\": \"#00cc96\", \"symbol\": \"circle\"}, \"mode\": \"markers\", \"name\": \"hold\", \"orientation\": \"v\", \"showlegend\": true, \"type\": \"scatter\", \"x\": [\"2020-10-11T00:00:00\", \"2020-10-24T00:00:00\", \"2020-11-08T00:00:00\"], \"xaxis\": \"x\", \"y\": [11384.181640625, 13108.0625, 15479.5673828125], \"yaxis\": \"y\"}],\n",
       "                        {\"legend\": {\"title\": {\"text\": \"predicted_label\"}, \"tracegroupgap\": 0}, \"template\": {\"data\": {\"bar\": [{\"error_x\": {\"color\": \"#2a3f5f\"}, \"error_y\": {\"color\": \"#2a3f5f\"}, \"marker\": {\"line\": {\"color\": \"#E5ECF6\", \"width\": 0.5}}, \"type\": \"bar\"}], \"barpolar\": [{\"marker\": {\"line\": {\"color\": \"#E5ECF6\", \"width\": 0.5}}, \"type\": \"barpolar\"}], \"carpet\": [{\"aaxis\": {\"endlinecolor\": \"#2a3f5f\", \"gridcolor\": \"white\", \"linecolor\": \"white\", \"minorgridcolor\": \"white\", \"startlinecolor\": \"#2a3f5f\"}, \"baxis\": {\"endlinecolor\": \"#2a3f5f\", \"gridcolor\": \"white\", \"linecolor\": \"white\", \"minorgridcolor\": \"white\", \"startlinecolor\": \"#2a3f5f\"}, \"type\": \"carpet\"}], \"choropleth\": [{\"colorbar\": {\"outlinewidth\": 0, \"ticks\": \"\"}, \"type\": \"choropleth\"}], \"contour\": [{\"colorbar\": {\"outlinewidth\": 0, \"ticks\": \"\"}, \"colorscale\": [[0.0, \"#0d0887\"], [0.1111111111111111, \"#46039f\"], [0.2222222222222222, \"#7201a8\"], [0.3333333333333333, \"#9c179e\"], [0.4444444444444444, \"#bd3786\"], [0.5555555555555556, \"#d8576b\"], [0.6666666666666666, \"#ed7953\"], [0.7777777777777778, \"#fb9f3a\"], [0.8888888888888888, \"#fdca26\"], [1.0, \"#f0f921\"]], \"type\": \"contour\"}], \"contourcarpet\": [{\"colorbar\": {\"outlinewidth\": 0, \"ticks\": \"\"}, \"type\": \"contourcarpet\"}], \"heatmap\": [{\"colorbar\": {\"outlinewidth\": 0, \"ticks\": \"\"}, \"colorscale\": [[0.0, \"#0d0887\"], [0.1111111111111111, \"#46039f\"], [0.2222222222222222, \"#7201a8\"], [0.3333333333333333, \"#9c179e\"], [0.4444444444444444, \"#bd3786\"], [0.5555555555555556, \"#d8576b\"], [0.6666666666666666, \"#ed7953\"], [0.7777777777777778, \"#fb9f3a\"], [0.8888888888888888, \"#fdca26\"], [1.0, \"#f0f921\"]], \"type\": \"heatmap\"}], \"heatmapgl\": [{\"colorbar\": {\"outlinewidth\": 0, \"ticks\": \"\"}, \"colorscale\": [[0.0, \"#0d0887\"], [0.1111111111111111, \"#46039f\"], [0.2222222222222222, \"#7201a8\"], [0.3333333333333333, \"#9c179e\"], [0.4444444444444444, \"#bd3786\"], [0.5555555555555556, \"#d8576b\"], [0.6666666666666666, \"#ed7953\"], [0.7777777777777778, \"#fb9f3a\"], [0.8888888888888888, \"#fdca26\"], [1.0, \"#f0f921\"]], \"type\": \"heatmapgl\"}], \"histogram\": [{\"marker\": {\"colorbar\": {\"outlinewidth\": 0, \"ticks\": \"\"}}, \"type\": \"histogram\"}], \"histogram2d\": [{\"colorbar\": {\"outlinewidth\": 0, \"ticks\": \"\"}, \"colorscale\": [[0.0, \"#0d0887\"], [0.1111111111111111, \"#46039f\"], [0.2222222222222222, \"#7201a8\"], [0.3333333333333333, \"#9c179e\"], [0.4444444444444444, \"#bd3786\"], [0.5555555555555556, \"#d8576b\"], [0.6666666666666666, \"#ed7953\"], [0.7777777777777778, \"#fb9f3a\"], [0.8888888888888888, \"#fdca26\"], [1.0, \"#f0f921\"]], \"type\": \"histogram2d\"}], \"histogram2dcontour\": [{\"colorbar\": {\"outlinewidth\": 0, \"ticks\": \"\"}, \"colorscale\": [[0.0, \"#0d0887\"], [0.1111111111111111, \"#46039f\"], [0.2222222222222222, \"#7201a8\"], [0.3333333333333333, \"#9c179e\"], [0.4444444444444444, \"#bd3786\"], [0.5555555555555556, \"#d8576b\"], [0.6666666666666666, \"#ed7953\"], [0.7777777777777778, \"#fb9f3a\"], [0.8888888888888888, \"#fdca26\"], [1.0, \"#f0f921\"]], \"type\": \"histogram2dcontour\"}], \"mesh3d\": [{\"colorbar\": {\"outlinewidth\": 0, \"ticks\": \"\"}, \"type\": \"mesh3d\"}], \"parcoords\": [{\"line\": {\"colorbar\": {\"outlinewidth\": 0, \"ticks\": \"\"}}, \"type\": \"parcoords\"}], \"pie\": [{\"automargin\": true, \"type\": \"pie\"}], \"scatter\": [{\"marker\": {\"colorbar\": {\"outlinewidth\": 0, \"ticks\": \"\"}}, \"type\": \"scatter\"}], \"scatter3d\": [{\"line\": {\"colorbar\": {\"outlinewidth\": 0, \"ticks\": \"\"}}, \"marker\": {\"colorbar\": {\"outlinewidth\": 0, \"ticks\": \"\"}}, \"type\": \"scatter3d\"}], \"scattercarpet\": [{\"marker\": {\"colorbar\": {\"outlinewidth\": 0, \"ticks\": \"\"}}, \"type\": \"scattercarpet\"}], \"scattergeo\": [{\"marker\": {\"colorbar\": {\"outlinewidth\": 0, \"ticks\": \"\"}}, \"type\": \"scattergeo\"}], \"scattergl\": [{\"marker\": {\"colorbar\": {\"outlinewidth\": 0, \"ticks\": \"\"}}, \"type\": \"scattergl\"}], \"scattermapbox\": [{\"marker\": {\"colorbar\": {\"outlinewidth\": 0, \"ticks\": \"\"}}, \"type\": \"scattermapbox\"}], \"scatterpolar\": [{\"marker\": {\"colorbar\": {\"outlinewidth\": 0, \"ticks\": \"\"}}, \"type\": \"scatterpolar\"}], \"scatterpolargl\": [{\"marker\": {\"colorbar\": {\"outlinewidth\": 0, \"ticks\": \"\"}}, \"type\": \"scatterpolargl\"}], \"scatterternary\": [{\"marker\": {\"colorbar\": {\"outlinewidth\": 0, \"ticks\": \"\"}}, \"type\": \"scatterternary\"}], \"surface\": [{\"colorbar\": {\"outlinewidth\": 0, \"ticks\": \"\"}, \"colorscale\": [[0.0, \"#0d0887\"], [0.1111111111111111, \"#46039f\"], [0.2222222222222222, \"#7201a8\"], [0.3333333333333333, \"#9c179e\"], [0.4444444444444444, \"#bd3786\"], [0.5555555555555556, \"#d8576b\"], [0.6666666666666666, \"#ed7953\"], [0.7777777777777778, \"#fb9f3a\"], [0.8888888888888888, \"#fdca26\"], [1.0, \"#f0f921\"]], \"type\": \"surface\"}], \"table\": [{\"cells\": {\"fill\": {\"color\": \"#EBF0F8\"}, \"line\": {\"color\": \"white\"}}, \"header\": {\"fill\": {\"color\": \"#C8D4E3\"}, \"line\": {\"color\": \"white\"}}, \"type\": \"table\"}]}, \"layout\": {\"annotationdefaults\": {\"arrowcolor\": \"#2a3f5f\", \"arrowhead\": 0, \"arrowwidth\": 1}, \"coloraxis\": {\"colorbar\": {\"outlinewidth\": 0, \"ticks\": \"\"}}, \"colorscale\": {\"diverging\": [[0, \"#8e0152\"], [0.1, \"#c51b7d\"], [0.2, \"#de77ae\"], [0.3, \"#f1b6da\"], [0.4, \"#fde0ef\"], [0.5, \"#f7f7f7\"], [0.6, \"#e6f5d0\"], [0.7, \"#b8e186\"], [0.8, \"#7fbc41\"], [0.9, \"#4d9221\"], [1, \"#276419\"]], \"sequential\": [[0.0, \"#0d0887\"], [0.1111111111111111, \"#46039f\"], [0.2222222222222222, \"#7201a8\"], [0.3333333333333333, \"#9c179e\"], [0.4444444444444444, \"#bd3786\"], [0.5555555555555556, \"#d8576b\"], [0.6666666666666666, \"#ed7953\"], [0.7777777777777778, \"#fb9f3a\"], [0.8888888888888888, \"#fdca26\"], [1.0, \"#f0f921\"]], \"sequentialminus\": [[0.0, \"#0d0887\"], [0.1111111111111111, \"#46039f\"], [0.2222222222222222, \"#7201a8\"], [0.3333333333333333, \"#9c179e\"], [0.4444444444444444, \"#bd3786\"], [0.5555555555555556, \"#d8576b\"], [0.6666666666666666, \"#ed7953\"], [0.7777777777777778, \"#fb9f3a\"], [0.8888888888888888, \"#fdca26\"], [1.0, \"#f0f921\"]]}, \"colorway\": [\"#636efa\", \"#EF553B\", \"#00cc96\", \"#ab63fa\", \"#FFA15A\", \"#19d3f3\", \"#FF6692\", \"#B6E880\", \"#FF97FF\", \"#FECB52\"], \"font\": {\"color\": \"#2a3f5f\"}, \"geo\": {\"bgcolor\": \"white\", \"lakecolor\": \"white\", \"landcolor\": \"#E5ECF6\", \"showlakes\": true, \"showland\": true, \"subunitcolor\": \"white\"}, \"hoverlabel\": {\"align\": \"left\"}, \"hovermode\": \"closest\", \"mapbox\": {\"style\": \"light\"}, \"paper_bgcolor\": \"white\", \"plot_bgcolor\": \"#E5ECF6\", \"polar\": {\"angularaxis\": {\"gridcolor\": \"white\", \"linecolor\": \"white\", \"ticks\": \"\"}, \"bgcolor\": \"#E5ECF6\", \"radialaxis\": {\"gridcolor\": \"white\", \"linecolor\": \"white\", \"ticks\": \"\"}}, \"scene\": {\"xaxis\": {\"backgroundcolor\": \"#E5ECF6\", \"gridcolor\": \"white\", \"gridwidth\": 2, \"linecolor\": \"white\", \"showbackground\": true, \"ticks\": \"\", \"zerolinecolor\": \"white\"}, \"yaxis\": {\"backgroundcolor\": \"#E5ECF6\", \"gridcolor\": \"white\", \"gridwidth\": 2, \"linecolor\": \"white\", \"showbackground\": true, \"ticks\": \"\", \"zerolinecolor\": \"white\"}, \"zaxis\": {\"backgroundcolor\": \"#E5ECF6\", \"gridcolor\": \"white\", \"gridwidth\": 2, \"linecolor\": \"white\", \"showbackground\": true, \"ticks\": \"\", \"zerolinecolor\": \"white\"}}, \"shapedefaults\": {\"line\": {\"color\": \"#2a3f5f\"}}, \"ternary\": {\"aaxis\": {\"gridcolor\": \"white\", \"linecolor\": \"white\", \"ticks\": \"\"}, \"baxis\": {\"gridcolor\": \"white\", \"linecolor\": \"white\", \"ticks\": \"\"}, \"bgcolor\": \"#E5ECF6\", \"caxis\": {\"gridcolor\": \"white\", \"linecolor\": \"white\", \"ticks\": \"\"}}, \"title\": {\"x\": 0.05}, \"xaxis\": {\"automargin\": true, \"gridcolor\": \"white\", \"linecolor\": \"white\", \"ticks\": \"\", \"title\": {\"standoff\": 15}, \"zerolinecolor\": \"white\", \"zerolinewidth\": 2}, \"yaxis\": {\"automargin\": true, \"gridcolor\": \"white\", \"linecolor\": \"white\", \"ticks\": \"\", \"title\": {\"standoff\": 15}, \"zerolinecolor\": \"white\", \"zerolinewidth\": 2}}}, \"title\": {\"text\": \"Predicted labels\"}, \"xaxis\": {\"anchor\": \"y\", \"domain\": [0.0, 1.0], \"title\": {\"text\": \"Date\"}}, \"yaxis\": {\"anchor\": \"x\", \"domain\": [0.0, 1.0], \"title\": {\"text\": \"target\"}}},\n",
       "                        {\"responsive\": true}\n",
       "                    ).then(function(){\n",
       "                            \n",
       "var gd = document.getElementById('18ecf7bf-2a42-4103-8446-ea97e7ecceea');\n",
       "var x = new MutationObserver(function (mutations, observer) {{\n",
       "        var display = window.getComputedStyle(gd).display;\n",
       "        if (!display || display === 'none') {{\n",
       "            console.log([gd, 'removed!']);\n",
       "            Plotly.purge(gd);\n",
       "            observer.disconnect();\n",
       "        }}\n",
       "}});\n",
       "\n",
       "// Listen for the removal of the full notebook cells\n",
       "var notebookContainer = gd.closest('#notebook-container');\n",
       "if (notebookContainer) {{\n",
       "    x.observe(notebookContainer, {childList: true});\n",
       "}}\n",
       "\n",
       "// Listen for the clearing of the current output cell\n",
       "var outputEl = gd.closest('.output');\n",
       "if (outputEl) {{\n",
       "    x.observe(outputEl, {childList: true});\n",
       "}}\n",
       "\n",
       "                        })\n",
       "                };\n",
       "                });\n",
       "            </script>\n",
       "        </div>"
      ]
     },
     "metadata": {},
     "output_type": "display_data"
    },
    {
     "data": {
      "application/vnd.plotly.v1+json": {
       "config": {
        "plotlyServerURL": "https://plot.ly"
       },
       "data": [
        {
         "hovertemplate": "label=buy<br>Date=%{x}<br>target=%{y}<extra></extra>",
         "legendgroup": "buy",
         "marker": {
          "color": "#636efa",
          "symbol": "circle"
         },
         "mode": "markers",
         "name": "buy",
         "orientation": "v",
         "showlegend": true,
         "type": "scatter",
         "x": [
          "2020-10-06T00:00:00",
          "2020-10-07T00:00:00",
          "2020-10-08T00:00:00",
          "2020-10-09T00:00:00",
          "2020-10-16T00:00:00",
          "2020-10-17T00:00:00",
          "2020-10-18T00:00:00",
          "2020-10-19T00:00:00",
          "2020-10-20T00:00:00",
          "2020-10-21T00:00:00",
          "2020-10-24T00:00:00",
          "2020-10-26T00:00:00",
          "2020-10-28T00:00:00",
          "2020-10-29T00:00:00",
          "2020-11-01T00:00:00",
          "2020-11-02T00:00:00",
          "2020-11-03T00:00:00",
          "2020-11-04T00:00:00",
          "2020-11-07T00:00:00",
          "2020-11-09T00:00:00",
          "2020-11-10T00:00:00",
          "2020-11-11T00:00:00",
          "2020-11-13T00:00:00",
          "2020-11-14T00:00:00",
          "2020-11-15T00:00:00",
          "2020-11-16T00:00:00",
          "2020-11-17T00:00:00",
          "2020-11-18T00:00:00",
          "2020-11-19T00:00:00",
          "2020-11-21T00:00:00",
          "2020-11-22T00:00:00",
          "2020-11-26T00:00:00",
          "2020-11-27T00:00:00",
          "2020-11-28T00:00:00",
          "2020-11-29T00:00:00",
          "2020-12-04T00:00:00",
          "2020-12-10T00:00:00",
          "2020-12-11T00:00:00",
          "2020-12-12T00:00:00",
          "2020-12-13T00:00:00",
          "2020-12-14T00:00:00",
          "2020-12-15T00:00:00",
          "2020-12-16T00:00:00",
          "2020-12-17T00:00:00",
          "2020-12-21T00:00:00",
          "2020-12-22T00:00:00",
          "2020-12-23T00:00:00",
          "2020-12-24T00:00:00",
          "2020-12-25T00:00:00",
          "2020-12-26T00:00:00",
          "2020-12-27T00:00:00",
          "2020-12-28T00:00:00",
          "2020-12-29T00:00:00",
          "2020-12-30T00:00:00",
          "2020-12-31T00:00:00",
          "2021-01-01T00:00:00",
          "2021-01-02T00:00:00",
          "2021-01-03T00:00:00",
          "2021-01-04T00:00:00",
          "2021-01-05T00:00:00",
          "2021-01-06T00:00:00",
          "2021-01-11T00:00:00",
          "2021-01-12T00:00:00"
         ],
         "xaxis": "x",
         "y": [
          10621.6640625,
          10679.13671875,
          10923.6279296875,
          11079.4658203125,
          11322.123046875,
          11358.1015625,
          11483.359375,
          11742.037109375,
          11916.3349609375,
          12823.689453125,
          13108.0625,
          13075.248046875,
          13271.28515625,
          13437.8828125,
          13737.109375,
          13550.4892578125,
          13950.30078125,
          14133.70703125,
          14833.75390625,
          15332.3154296875,
          15290.90234375,
          15701.33984375,
          16317.80859375,
          16068.138671875,
          15955.587890625,
          16716.111328125,
          17645.40625,
          17804.005859375,
          17817.08984375,
          18642.232421875,
          18370.001953125,
          17150.623046875,
          17108.40234375,
          17717.4140625,
          18177.484375,
          18699.765625,
          18264.9921875,
          18058.904296875,
          18803.65625,
          19142.3828125,
          19246.64453125,
          19417.076171875,
          21310.59765625,
          22805.162109375,
          22803.08203125,
          23783.029296875,
          23241.345703125,
          23735.94921875,
          24664.791015625,
          26437.037109375,
          26272.294921875,
          27084.80859375,
          27362.4375,
          28840.953125,
          29001.720703125,
          29374.15234375,
          32127.267578125,
          32782.0234375,
          31971.9140625,
          33992.4296875,
          36824.36328125,
          35566.65625,
          33922.9609375
         ],
         "yaxis": "y"
        },
        {
         "hovertemplate": "label=hold<br>Date=%{x}<br>target=%{y}<extra></extra>",
         "legendgroup": "hold",
         "marker": {
          "color": "#EF553B",
          "symbol": "circle"
         },
         "mode": "markers",
         "name": "hold",
         "orientation": "v",
         "showlegend": true,
         "type": "scatter",
         "x": [
          "2020-10-10T00:00:00",
          "2020-10-11T00:00:00",
          "2020-10-12T00:00:00",
          "2020-10-13T00:00:00",
          "2020-10-14T00:00:00",
          "2020-10-15T00:00:00",
          "2020-10-22T00:00:00",
          "2020-10-23T00:00:00",
          "2020-10-25T00:00:00",
          "2020-10-27T00:00:00",
          "2020-10-30T00:00:00",
          "2020-10-31T00:00:00",
          "2020-11-05T00:00:00",
          "2020-11-06T00:00:00",
          "2020-11-08T00:00:00",
          "2020-11-20T00:00:00",
          "2020-11-30T00:00:00",
          "2020-12-01T00:00:00",
          "2020-12-02T00:00:00",
          "2020-12-03T00:00:00",
          "2020-12-08T00:00:00",
          "2020-12-09T00:00:00",
          "2020-12-18T00:00:00",
          "2020-12-19T00:00:00",
          "2020-12-20T00:00:00",
          "2021-01-15T00:00:00",
          "2021-01-16T00:00:00",
          "2021-01-17T00:00:00"
         ],
         "xaxis": "x",
         "y": [
          11296.361328125,
          11384.181640625,
          11555.36328125,
          11425.8994140625,
          11429.5068359375,
          11495.349609375,
          12965.8916015625,
          12931.5390625,
          13031.173828125,
          13654.21875,
          13546.5224609375,
          13780.9951171875,
          15579.8486328125,
          15565.880859375,
          15479.5673828125,
          18621.314453125,
          19625.8359375,
          18802.998046875,
          19201.091796875,
          19445.3984375,
          18321.14453125,
          18553.916015625,
          23137.9609375,
          23869.83203125,
          23477.294921875,
          36825.3671875,
          36178.140625,
          35791.27734375
         ],
         "yaxis": "y"
        },
        {
         "hovertemplate": "label=sell<br>Date=%{x}<br>target=%{y}<extra></extra>",
         "legendgroup": "sell",
         "marker": {
          "color": "#00cc96",
          "symbol": "circle"
         },
         "mode": "markers",
         "name": "sell",
         "orientation": "v",
         "showlegend": true,
         "type": "scatter",
         "x": [
          "2020-11-12T00:00:00",
          "2020-11-23T00:00:00",
          "2020-11-24T00:00:00",
          "2020-11-25T00:00:00",
          "2020-12-05T00:00:00",
          "2020-12-06T00:00:00",
          "2020-12-07T00:00:00",
          "2021-01-07T00:00:00",
          "2021-01-08T00:00:00",
          "2021-01-09T00:00:00",
          "2021-01-10T00:00:00",
          "2021-01-13T00:00:00",
          "2021-01-14T00:00:00"
         ],
         "xaxis": "x",
         "y": [
          16276.34375,
          18364.12109375,
          19107.46484375,
          18732.12109375,
          19154.23046875,
          19345.12109375,
          19191.630859375,
          39371.04296875,
          40797.609375,
          40254.546875,
          38356.44140625,
          37316.359375,
          39187.328125
         ],
         "yaxis": "y"
        }
       ],
       "layout": {
        "autosize": true,
        "legend": {
         "title": {
          "text": "label"
         },
         "tracegroupgap": 0
        },
        "template": {
         "data": {
          "bar": [
           {
            "error_x": {
             "color": "#2a3f5f"
            },
            "error_y": {
             "color": "#2a3f5f"
            },
            "marker": {
             "line": {
              "color": "#E5ECF6",
              "width": 0.5
             }
            },
            "type": "bar"
           }
          ],
          "barpolar": [
           {
            "marker": {
             "line": {
              "color": "#E5ECF6",
              "width": 0.5
             }
            },
            "type": "barpolar"
           }
          ],
          "carpet": [
           {
            "aaxis": {
             "endlinecolor": "#2a3f5f",
             "gridcolor": "white",
             "linecolor": "white",
             "minorgridcolor": "white",
             "startlinecolor": "#2a3f5f"
            },
            "baxis": {
             "endlinecolor": "#2a3f5f",
             "gridcolor": "white",
             "linecolor": "white",
             "minorgridcolor": "white",
             "startlinecolor": "#2a3f5f"
            },
            "type": "carpet"
           }
          ],
          "choropleth": [
           {
            "colorbar": {
             "outlinewidth": 0,
             "ticks": ""
            },
            "type": "choropleth"
           }
          ],
          "contour": [
           {
            "colorbar": {
             "outlinewidth": 0,
             "ticks": ""
            },
            "colorscale": [
             [
              0,
              "#0d0887"
             ],
             [
              0.1111111111111111,
              "#46039f"
             ],
             [
              0.2222222222222222,
              "#7201a8"
             ],
             [
              0.3333333333333333,
              "#9c179e"
             ],
             [
              0.4444444444444444,
              "#bd3786"
             ],
             [
              0.5555555555555556,
              "#d8576b"
             ],
             [
              0.6666666666666666,
              "#ed7953"
             ],
             [
              0.7777777777777778,
              "#fb9f3a"
             ],
             [
              0.8888888888888888,
              "#fdca26"
             ],
             [
              1,
              "#f0f921"
             ]
            ],
            "type": "contour"
           }
          ],
          "contourcarpet": [
           {
            "colorbar": {
             "outlinewidth": 0,
             "ticks": ""
            },
            "type": "contourcarpet"
           }
          ],
          "heatmap": [
           {
            "colorbar": {
             "outlinewidth": 0,
             "ticks": ""
            },
            "colorscale": [
             [
              0,
              "#0d0887"
             ],
             [
              0.1111111111111111,
              "#46039f"
             ],
             [
              0.2222222222222222,
              "#7201a8"
             ],
             [
              0.3333333333333333,
              "#9c179e"
             ],
             [
              0.4444444444444444,
              "#bd3786"
             ],
             [
              0.5555555555555556,
              "#d8576b"
             ],
             [
              0.6666666666666666,
              "#ed7953"
             ],
             [
              0.7777777777777778,
              "#fb9f3a"
             ],
             [
              0.8888888888888888,
              "#fdca26"
             ],
             [
              1,
              "#f0f921"
             ]
            ],
            "type": "heatmap"
           }
          ],
          "heatmapgl": [
           {
            "colorbar": {
             "outlinewidth": 0,
             "ticks": ""
            },
            "colorscale": [
             [
              0,
              "#0d0887"
             ],
             [
              0.1111111111111111,
              "#46039f"
             ],
             [
              0.2222222222222222,
              "#7201a8"
             ],
             [
              0.3333333333333333,
              "#9c179e"
             ],
             [
              0.4444444444444444,
              "#bd3786"
             ],
             [
              0.5555555555555556,
              "#d8576b"
             ],
             [
              0.6666666666666666,
              "#ed7953"
             ],
             [
              0.7777777777777778,
              "#fb9f3a"
             ],
             [
              0.8888888888888888,
              "#fdca26"
             ],
             [
              1,
              "#f0f921"
             ]
            ],
            "type": "heatmapgl"
           }
          ],
          "histogram": [
           {
            "marker": {
             "colorbar": {
              "outlinewidth": 0,
              "ticks": ""
             }
            },
            "type": "histogram"
           }
          ],
          "histogram2d": [
           {
            "colorbar": {
             "outlinewidth": 0,
             "ticks": ""
            },
            "colorscale": [
             [
              0,
              "#0d0887"
             ],
             [
              0.1111111111111111,
              "#46039f"
             ],
             [
              0.2222222222222222,
              "#7201a8"
             ],
             [
              0.3333333333333333,
              "#9c179e"
             ],
             [
              0.4444444444444444,
              "#bd3786"
             ],
             [
              0.5555555555555556,
              "#d8576b"
             ],
             [
              0.6666666666666666,
              "#ed7953"
             ],
             [
              0.7777777777777778,
              "#fb9f3a"
             ],
             [
              0.8888888888888888,
              "#fdca26"
             ],
             [
              1,
              "#f0f921"
             ]
            ],
            "type": "histogram2d"
           }
          ],
          "histogram2dcontour": [
           {
            "colorbar": {
             "outlinewidth": 0,
             "ticks": ""
            },
            "colorscale": [
             [
              0,
              "#0d0887"
             ],
             [
              0.1111111111111111,
              "#46039f"
             ],
             [
              0.2222222222222222,
              "#7201a8"
             ],
             [
              0.3333333333333333,
              "#9c179e"
             ],
             [
              0.4444444444444444,
              "#bd3786"
             ],
             [
              0.5555555555555556,
              "#d8576b"
             ],
             [
              0.6666666666666666,
              "#ed7953"
             ],
             [
              0.7777777777777778,
              "#fb9f3a"
             ],
             [
              0.8888888888888888,
              "#fdca26"
             ],
             [
              1,
              "#f0f921"
             ]
            ],
            "type": "histogram2dcontour"
           }
          ],
          "mesh3d": [
           {
            "colorbar": {
             "outlinewidth": 0,
             "ticks": ""
            },
            "type": "mesh3d"
           }
          ],
          "parcoords": [
           {
            "line": {
             "colorbar": {
              "outlinewidth": 0,
              "ticks": ""
             }
            },
            "type": "parcoords"
           }
          ],
          "pie": [
           {
            "automargin": true,
            "type": "pie"
           }
          ],
          "scatter": [
           {
            "marker": {
             "colorbar": {
              "outlinewidth": 0,
              "ticks": ""
             }
            },
            "type": "scatter"
           }
          ],
          "scatter3d": [
           {
            "line": {
             "colorbar": {
              "outlinewidth": 0,
              "ticks": ""
             }
            },
            "marker": {
             "colorbar": {
              "outlinewidth": 0,
              "ticks": ""
             }
            },
            "type": "scatter3d"
           }
          ],
          "scattercarpet": [
           {
            "marker": {
             "colorbar": {
              "outlinewidth": 0,
              "ticks": ""
             }
            },
            "type": "scattercarpet"
           }
          ],
          "scattergeo": [
           {
            "marker": {
             "colorbar": {
              "outlinewidth": 0,
              "ticks": ""
             }
            },
            "type": "scattergeo"
           }
          ],
          "scattergl": [
           {
            "marker": {
             "colorbar": {
              "outlinewidth": 0,
              "ticks": ""
             }
            },
            "type": "scattergl"
           }
          ],
          "scattermapbox": [
           {
            "marker": {
             "colorbar": {
              "outlinewidth": 0,
              "ticks": ""
             }
            },
            "type": "scattermapbox"
           }
          ],
          "scatterpolar": [
           {
            "marker": {
             "colorbar": {
              "outlinewidth": 0,
              "ticks": ""
             }
            },
            "type": "scatterpolar"
           }
          ],
          "scatterpolargl": [
           {
            "marker": {
             "colorbar": {
              "outlinewidth": 0,
              "ticks": ""
             }
            },
            "type": "scatterpolargl"
           }
          ],
          "scatterternary": [
           {
            "marker": {
             "colorbar": {
              "outlinewidth": 0,
              "ticks": ""
             }
            },
            "type": "scatterternary"
           }
          ],
          "surface": [
           {
            "colorbar": {
             "outlinewidth": 0,
             "ticks": ""
            },
            "colorscale": [
             [
              0,
              "#0d0887"
             ],
             [
              0.1111111111111111,
              "#46039f"
             ],
             [
              0.2222222222222222,
              "#7201a8"
             ],
             [
              0.3333333333333333,
              "#9c179e"
             ],
             [
              0.4444444444444444,
              "#bd3786"
             ],
             [
              0.5555555555555556,
              "#d8576b"
             ],
             [
              0.6666666666666666,
              "#ed7953"
             ],
             [
              0.7777777777777778,
              "#fb9f3a"
             ],
             [
              0.8888888888888888,
              "#fdca26"
             ],
             [
              1,
              "#f0f921"
             ]
            ],
            "type": "surface"
           }
          ],
          "table": [
           {
            "cells": {
             "fill": {
              "color": "#EBF0F8"
             },
             "line": {
              "color": "white"
             }
            },
            "header": {
             "fill": {
              "color": "#C8D4E3"
             },
             "line": {
              "color": "white"
             }
            },
            "type": "table"
           }
          ]
         },
         "layout": {
          "annotationdefaults": {
           "arrowcolor": "#2a3f5f",
           "arrowhead": 0,
           "arrowwidth": 1
          },
          "coloraxis": {
           "colorbar": {
            "outlinewidth": 0,
            "ticks": ""
           }
          },
          "colorscale": {
           "diverging": [
            [
             0,
             "#8e0152"
            ],
            [
             0.1,
             "#c51b7d"
            ],
            [
             0.2,
             "#de77ae"
            ],
            [
             0.3,
             "#f1b6da"
            ],
            [
             0.4,
             "#fde0ef"
            ],
            [
             0.5,
             "#f7f7f7"
            ],
            [
             0.6,
             "#e6f5d0"
            ],
            [
             0.7,
             "#b8e186"
            ],
            [
             0.8,
             "#7fbc41"
            ],
            [
             0.9,
             "#4d9221"
            ],
            [
             1,
             "#276419"
            ]
           ],
           "sequential": [
            [
             0,
             "#0d0887"
            ],
            [
             0.1111111111111111,
             "#46039f"
            ],
            [
             0.2222222222222222,
             "#7201a8"
            ],
            [
             0.3333333333333333,
             "#9c179e"
            ],
            [
             0.4444444444444444,
             "#bd3786"
            ],
            [
             0.5555555555555556,
             "#d8576b"
            ],
            [
             0.6666666666666666,
             "#ed7953"
            ],
            [
             0.7777777777777778,
             "#fb9f3a"
            ],
            [
             0.8888888888888888,
             "#fdca26"
            ],
            [
             1,
             "#f0f921"
            ]
           ],
           "sequentialminus": [
            [
             0,
             "#0d0887"
            ],
            [
             0.1111111111111111,
             "#46039f"
            ],
            [
             0.2222222222222222,
             "#7201a8"
            ],
            [
             0.3333333333333333,
             "#9c179e"
            ],
            [
             0.4444444444444444,
             "#bd3786"
            ],
            [
             0.5555555555555556,
             "#d8576b"
            ],
            [
             0.6666666666666666,
             "#ed7953"
            ],
            [
             0.7777777777777778,
             "#fb9f3a"
            ],
            [
             0.8888888888888888,
             "#fdca26"
            ],
            [
             1,
             "#f0f921"
            ]
           ]
          },
          "colorway": [
           "#636efa",
           "#EF553B",
           "#00cc96",
           "#ab63fa",
           "#FFA15A",
           "#19d3f3",
           "#FF6692",
           "#B6E880",
           "#FF97FF",
           "#FECB52"
          ],
          "font": {
           "color": "#2a3f5f"
          },
          "geo": {
           "bgcolor": "white",
           "lakecolor": "white",
           "landcolor": "#E5ECF6",
           "showlakes": true,
           "showland": true,
           "subunitcolor": "white"
          },
          "hoverlabel": {
           "align": "left"
          },
          "hovermode": "closest",
          "mapbox": {
           "style": "light"
          },
          "paper_bgcolor": "white",
          "plot_bgcolor": "#E5ECF6",
          "polar": {
           "angularaxis": {
            "gridcolor": "white",
            "linecolor": "white",
            "ticks": ""
           },
           "bgcolor": "#E5ECF6",
           "radialaxis": {
            "gridcolor": "white",
            "linecolor": "white",
            "ticks": ""
           }
          },
          "scene": {
           "xaxis": {
            "backgroundcolor": "#E5ECF6",
            "gridcolor": "white",
            "gridwidth": 2,
            "linecolor": "white",
            "showbackground": true,
            "ticks": "",
            "zerolinecolor": "white"
           },
           "yaxis": {
            "backgroundcolor": "#E5ECF6",
            "gridcolor": "white",
            "gridwidth": 2,
            "linecolor": "white",
            "showbackground": true,
            "ticks": "",
            "zerolinecolor": "white"
           },
           "zaxis": {
            "backgroundcolor": "#E5ECF6",
            "gridcolor": "white",
            "gridwidth": 2,
            "linecolor": "white",
            "showbackground": true,
            "ticks": "",
            "zerolinecolor": "white"
           }
          },
          "shapedefaults": {
           "line": {
            "color": "#2a3f5f"
           }
          },
          "ternary": {
           "aaxis": {
            "gridcolor": "white",
            "linecolor": "white",
            "ticks": ""
           },
           "baxis": {
            "gridcolor": "white",
            "linecolor": "white",
            "ticks": ""
           },
           "bgcolor": "#E5ECF6",
           "caxis": {
            "gridcolor": "white",
            "linecolor": "white",
            "ticks": ""
           }
          },
          "title": {
           "x": 0.05
          },
          "xaxis": {
           "automargin": true,
           "gridcolor": "white",
           "linecolor": "white",
           "ticks": "",
           "title": {
            "standoff": 15
           },
           "zerolinecolor": "white",
           "zerolinewidth": 2
          },
          "yaxis": {
           "automargin": true,
           "gridcolor": "white",
           "linecolor": "white",
           "ticks": "",
           "title": {
            "standoff": 15
           },
           "zerolinecolor": "white",
           "zerolinewidth": 2
          }
         }
        },
        "title": {
         "text": "Actual labels"
        },
        "xaxis": {
         "anchor": "y",
         "autorange": true,
         "domain": [
          0,
          1
         ],
         "range": [
          "2020-09-30 00:44:53.3287",
          "2021-01-22 23:15:06.6713"
         ],
         "title": {
          "text": "Date"
         },
         "type": "date"
        },
        "yaxis": {
         "anchor": "x",
         "autorange": true,
         "domain": [
          0,
          1
         ],
         "range": [
          8411.324119227707,
          43007.949318272294
         ],
         "title": {
          "text": "target"
         },
         "type": "linear"
        }
       }
      },
      "image/png": "[encoded data removed]",
      "text/html": [
       "<div>\n",
       "        \n",
       "        \n",
       "            <div id=\"af407ad9-4b4e-4118-837c-92770656ef88\" class=\"plotly-graph-div\" style=\"height:525px; width:100%;\"></div>\n",
       "            <script type=\"text/javascript\">\n",
       "                require([\"plotly\"], function(Plotly) {\n",
       "                    window.PLOTLYENV=window.PLOTLYENV || {};\n",
       "                    \n",
       "                if (document.getElementById(\"af407ad9-4b4e-4118-837c-92770656ef88\")) {\n",
       "                    Plotly.newPlot(\n",
       "                        'af407ad9-4b4e-4118-837c-92770656ef88',\n",
       "                        [{\"hovertemplate\": \"label=buy<br>Date=%{x}<br>target=%{y}<extra></extra>\", \"legendgroup\": \"buy\", \"marker\": {\"color\": \"#636efa\", \"symbol\": \"circle\"}, \"mode\": \"markers\", \"name\": \"buy\", \"orientation\": \"v\", \"showlegend\": true, \"type\": \"scatter\", \"x\": [\"2020-10-06T00:00:00\", \"2020-10-07T00:00:00\", \"2020-10-08T00:00:00\", \"2020-10-09T00:00:00\", \"2020-10-16T00:00:00\", \"2020-10-17T00:00:00\", \"2020-10-18T00:00:00\", \"2020-10-19T00:00:00\", \"2020-10-20T00:00:00\", \"2020-10-21T00:00:00\", \"2020-10-24T00:00:00\", \"2020-10-26T00:00:00\", \"2020-10-28T00:00:00\", \"2020-10-29T00:00:00\", \"2020-11-01T00:00:00\", \"2020-11-02T00:00:00\", \"2020-11-03T00:00:00\", \"2020-11-04T00:00:00\", \"2020-11-07T00:00:00\", \"2020-11-09T00:00:00\", \"2020-11-10T00:00:00\", \"2020-11-11T00:00:00\", \"2020-11-13T00:00:00\", \"2020-11-14T00:00:00\", \"2020-11-15T00:00:00\", \"2020-11-16T00:00:00\", \"2020-11-17T00:00:00\", \"2020-11-18T00:00:00\", \"2020-11-19T00:00:00\", \"2020-11-21T00:00:00\", \"2020-11-22T00:00:00\", \"2020-11-26T00:00:00\", \"2020-11-27T00:00:00\", \"2020-11-28T00:00:00\", \"2020-11-29T00:00:00\", \"2020-12-04T00:00:00\", \"2020-12-10T00:00:00\", \"2020-12-11T00:00:00\", \"2020-12-12T00:00:00\", \"2020-12-13T00:00:00\", \"2020-12-14T00:00:00\", \"2020-12-15T00:00:00\", \"2020-12-16T00:00:00\", \"2020-12-17T00:00:00\", \"2020-12-21T00:00:00\", \"2020-12-22T00:00:00\", \"2020-12-23T00:00:00\", \"2020-12-24T00:00:00\", \"2020-12-25T00:00:00\", \"2020-12-26T00:00:00\", \"2020-12-27T00:00:00\", \"2020-12-28T00:00:00\", \"2020-12-29T00:00:00\", \"2020-12-30T00:00:00\", \"2020-12-31T00:00:00\", \"2021-01-01T00:00:00\", \"2021-01-02T00:00:00\", \"2021-01-03T00:00:00\", \"2021-01-04T00:00:00\", \"2021-01-05T00:00:00\", \"2021-01-06T00:00:00\", \"2021-01-11T00:00:00\", \"2021-01-12T00:00:00\"], \"xaxis\": \"x\", \"y\": [10621.6640625, 10679.13671875, 10923.6279296875, 11079.4658203125, 11322.123046875, 11358.1015625, 11483.359375, 11742.037109375, 11916.3349609375, 12823.689453125, 13108.0625, 13075.248046875, 13271.28515625, 13437.8828125, 13737.109375, 13550.4892578125, 13950.30078125, 14133.70703125, 14833.75390625, 15332.3154296875, 15290.90234375, 15701.33984375, 16317.80859375, 16068.138671875, 15955.587890625, 16716.111328125, 17645.40625, 17804.005859375, 17817.08984375, 18642.232421875, 18370.001953125, 17150.623046875, 17108.40234375, 17717.4140625, 18177.484375, 18699.765625, 18264.9921875, 18058.904296875, 18803.65625, 19142.3828125, 19246.64453125, 19417.076171875, 21310.59765625, 22805.162109375, 22803.08203125, 23783.029296875, 23241.345703125, 23735.94921875, 24664.791015625, 26437.037109375, 26272.294921875, 27084.80859375, 27362.4375, 28840.953125, 29001.720703125, 29374.15234375, 32127.267578125, 32782.0234375, 31971.9140625, 33992.4296875, 36824.36328125, 35566.65625, 33922.9609375], \"yaxis\": \"y\"}, {\"hovertemplate\": \"label=hold<br>Date=%{x}<br>target=%{y}<extra></extra>\", \"legendgroup\": \"hold\", \"marker\": {\"color\": \"#EF553B\", \"symbol\": \"circle\"}, \"mode\": \"markers\", \"name\": \"hold\", \"orientation\": \"v\", \"showlegend\": true, \"type\": \"scatter\", \"x\": [\"2020-10-10T00:00:00\", \"2020-10-11T00:00:00\", \"2020-10-12T00:00:00\", \"2020-10-13T00:00:00\", \"2020-10-14T00:00:00\", \"2020-10-15T00:00:00\", \"2020-10-22T00:00:00\", \"2020-10-23T00:00:00\", \"2020-10-25T00:00:00\", \"2020-10-27T00:00:00\", \"2020-10-30T00:00:00\", \"2020-10-31T00:00:00\", \"2020-11-05T00:00:00\", \"2020-11-06T00:00:00\", \"2020-11-08T00:00:00\", \"2020-11-20T00:00:00\", \"2020-11-30T00:00:00\", \"2020-12-01T00:00:00\", \"2020-12-02T00:00:00\", \"2020-12-03T00:00:00\", \"2020-12-08T00:00:00\", \"2020-12-09T00:00:00\", \"2020-12-18T00:00:00\", \"2020-12-19T00:00:00\", \"2020-12-20T00:00:00\", \"2021-01-15T00:00:00\", \"2021-01-16T00:00:00\", \"2021-01-17T00:00:00\"], \"xaxis\": \"x\", \"y\": [11296.361328125, 11384.181640625, 11555.36328125, 11425.8994140625, 11429.5068359375, 11495.349609375, 12965.8916015625, 12931.5390625, 13031.173828125, 13654.21875, 13546.5224609375, 13780.9951171875, 15579.8486328125, 15565.880859375, 15479.5673828125, 18621.314453125, 19625.8359375, 18802.998046875, 19201.091796875, 19445.3984375, 18321.14453125, 18553.916015625, 23137.9609375, 23869.83203125, 23477.294921875, 36825.3671875, 36178.140625, 35791.27734375], \"yaxis\": \"y\"}, {\"hovertemplate\": \"label=sell<br>Date=%{x}<br>target=%{y}<extra></extra>\", \"legendgroup\": \"sell\", \"marker\": {\"color\": \"#00cc96\", \"symbol\": \"circle\"}, \"mode\": \"markers\", \"name\": \"sell\", \"orientation\": \"v\", \"showlegend\": true, \"type\": \"scatter\", \"x\": [\"2020-11-12T00:00:00\", \"2020-11-23T00:00:00\", \"2020-11-24T00:00:00\", \"2020-11-25T00:00:00\", \"2020-12-05T00:00:00\", \"2020-12-06T00:00:00\", \"2020-12-07T00:00:00\", \"2021-01-07T00:00:00\", \"2021-01-08T00:00:00\", \"2021-01-09T00:00:00\", \"2021-01-10T00:00:00\", \"2021-01-13T00:00:00\", \"2021-01-14T00:00:00\"], \"xaxis\": \"x\", \"y\": [16276.34375, 18364.12109375, 19107.46484375, 18732.12109375, 19154.23046875, 19345.12109375, 19191.630859375, 39371.04296875, 40797.609375, 40254.546875, 38356.44140625, 37316.359375, 39187.328125], \"yaxis\": \"y\"}],\n",
       "                        {\"legend\": {\"title\": {\"text\": \"label\"}, \"tracegroupgap\": 0}, \"template\": {\"data\": {\"bar\": [{\"error_x\": {\"color\": \"#2a3f5f\"}, \"error_y\": {\"color\": \"#2a3f5f\"}, \"marker\": {\"line\": {\"color\": \"#E5ECF6\", \"width\": 0.5}}, \"type\": \"bar\"}], \"barpolar\": [{\"marker\": {\"line\": {\"color\": \"#E5ECF6\", \"width\": 0.5}}, \"type\": \"barpolar\"}], \"carpet\": [{\"aaxis\": {\"endlinecolor\": \"#2a3f5f\", \"gridcolor\": \"white\", \"linecolor\": \"white\", \"minorgridcolor\": \"white\", \"startlinecolor\": \"#2a3f5f\"}, \"baxis\": {\"endlinecolor\": \"#2a3f5f\", \"gridcolor\": \"white\", \"linecolor\": \"white\", \"minorgridcolor\": \"white\", \"startlinecolor\": \"#2a3f5f\"}, \"type\": \"carpet\"}], \"choropleth\": [{\"colorbar\": {\"outlinewidth\": 0, \"ticks\": \"\"}, \"type\": \"choropleth\"}], \"contour\": [{\"colorbar\": {\"outlinewidth\": 0, \"ticks\": \"\"}, \"colorscale\": [[0.0, \"#0d0887\"], [0.1111111111111111, \"#46039f\"], [0.2222222222222222, \"#7201a8\"], [0.3333333333333333, \"#9c179e\"], [0.4444444444444444, \"#bd3786\"], [0.5555555555555556, \"#d8576b\"], [0.6666666666666666, \"#ed7953\"], [0.7777777777777778, \"#fb9f3a\"], [0.8888888888888888, \"#fdca26\"], [1.0, \"#f0f921\"]], \"type\": \"contour\"}], \"contourcarpet\": [{\"colorbar\": {\"outlinewidth\": 0, \"ticks\": \"\"}, \"type\": \"contourcarpet\"}], \"heatmap\": [{\"colorbar\": {\"outlinewidth\": 0, \"ticks\": \"\"}, \"colorscale\": [[0.0, \"#0d0887\"], [0.1111111111111111, \"#46039f\"], [0.2222222222222222, \"#7201a8\"], [0.3333333333333333, \"#9c179e\"], [0.4444444444444444, \"#bd3786\"], [0.5555555555555556, \"#d8576b\"], [0.6666666666666666, \"#ed7953\"], [0.7777777777777778, \"#fb9f3a\"], [0.8888888888888888, \"#fdca26\"], [1.0, \"#f0f921\"]], \"type\": \"heatmap\"}], \"heatmapgl\": [{\"colorbar\": {\"outlinewidth\": 0, \"ticks\": \"\"}, \"colorscale\": [[0.0, \"#0d0887\"], [0.1111111111111111, \"#46039f\"], [0.2222222222222222, \"#7201a8\"], [0.3333333333333333, \"#9c179e\"], [0.4444444444444444, \"#bd3786\"], [0.5555555555555556, \"#d8576b\"], [0.6666666666666666, \"#ed7953\"], [0.7777777777777778, \"#fb9f3a\"], [0.8888888888888888, \"#fdca26\"], [1.0, \"#f0f921\"]], \"type\": \"heatmapgl\"}], \"histogram\": [{\"marker\": {\"colorbar\": {\"outlinewidth\": 0, \"ticks\": \"\"}}, \"type\": \"histogram\"}], \"histogram2d\": [{\"colorbar\": {\"outlinewidth\": 0, \"ticks\": \"\"}, \"colorscale\": [[0.0, \"#0d0887\"], [0.1111111111111111, \"#46039f\"], [0.2222222222222222, \"#7201a8\"], [0.3333333333333333, \"#9c179e\"], [0.4444444444444444, \"#bd3786\"], [0.5555555555555556, \"#d8576b\"], [0.6666666666666666, \"#ed7953\"], [0.7777777777777778, \"#fb9f3a\"], [0.8888888888888888, \"#fdca26\"], [1.0, \"#f0f921\"]], \"type\": \"histogram2d\"}], \"histogram2dcontour\": [{\"colorbar\": {\"outlinewidth\": 0, \"ticks\": \"\"}, \"colorscale\": [[0.0, \"#0d0887\"], [0.1111111111111111, \"#46039f\"], [0.2222222222222222, \"#7201a8\"], [0.3333333333333333, \"#9c179e\"], [0.4444444444444444, \"#bd3786\"], [0.5555555555555556, \"#d8576b\"], [0.6666666666666666, \"#ed7953\"], [0.7777777777777778, \"#fb9f3a\"], [0.8888888888888888, \"#fdca26\"], [1.0, \"#f0f921\"]], \"type\": \"histogram2dcontour\"}], \"mesh3d\": [{\"colorbar\": {\"outlinewidth\": 0, \"ticks\": \"\"}, \"type\": \"mesh3d\"}], \"parcoords\": [{\"line\": {\"colorbar\": {\"outlinewidth\": 0, \"ticks\": \"\"}}, \"type\": \"parcoords\"}], \"pie\": [{\"automargin\": true, \"type\": \"pie\"}], \"scatter\": [{\"marker\": {\"colorbar\": {\"outlinewidth\": 0, \"ticks\": \"\"}}, \"type\": \"scatter\"}], \"scatter3d\": [{\"line\": {\"colorbar\": {\"outlinewidth\": 0, \"ticks\": \"\"}}, \"marker\": {\"colorbar\": {\"outlinewidth\": 0, \"ticks\": \"\"}}, \"type\": \"scatter3d\"}], \"scattercarpet\": [{\"marker\": {\"colorbar\": {\"outlinewidth\": 0, \"ticks\": \"\"}}, \"type\": \"scattercarpet\"}], \"scattergeo\": [{\"marker\": {\"colorbar\": {\"outlinewidth\": 0, \"ticks\": \"\"}}, \"type\": \"scattergeo\"}], \"scattergl\": [{\"marker\": {\"colorbar\": {\"outlinewidth\": 0, \"ticks\": \"\"}}, \"type\": \"scattergl\"}], \"scattermapbox\": [{\"marker\": {\"colorbar\": {\"outlinewidth\": 0, \"ticks\": \"\"}}, \"type\": \"scattermapbox\"}], \"scatterpolar\": [{\"marker\": {\"colorbar\": {\"outlinewidth\": 0, \"ticks\": \"\"}}, \"type\": \"scatterpolar\"}], \"scatterpolargl\": [{\"marker\": {\"colorbar\": {\"outlinewidth\": 0, \"ticks\": \"\"}}, \"type\": \"scatterpolargl\"}], \"scatterternary\": [{\"marker\": {\"colorbar\": {\"outlinewidth\": 0, \"ticks\": \"\"}}, \"type\": \"scatterternary\"}], \"surface\": [{\"colorbar\": {\"outlinewidth\": 0, \"ticks\": \"\"}, \"colorscale\": [[0.0, \"#0d0887\"], [0.1111111111111111, \"#46039f\"], [0.2222222222222222, \"#7201a8\"], [0.3333333333333333, \"#9c179e\"], [0.4444444444444444, \"#bd3786\"], [0.5555555555555556, \"#d8576b\"], [0.6666666666666666, \"#ed7953\"], [0.7777777777777778, \"#fb9f3a\"], [0.8888888888888888, \"#fdca26\"], [1.0, \"#f0f921\"]], \"type\": \"surface\"}], \"table\": [{\"cells\": {\"fill\": {\"color\": \"#EBF0F8\"}, \"line\": {\"color\": \"white\"}}, \"header\": {\"fill\": {\"color\": \"#C8D4E3\"}, \"line\": {\"color\": \"white\"}}, \"type\": \"table\"}]}, \"layout\": {\"annotationdefaults\": {\"arrowcolor\": \"#2a3f5f\", \"arrowhead\": 0, \"arrowwidth\": 1}, \"coloraxis\": {\"colorbar\": {\"outlinewidth\": 0, \"ticks\": \"\"}}, \"colorscale\": {\"diverging\": [[0, \"#8e0152\"], [0.1, \"#c51b7d\"], [0.2, \"#de77ae\"], [0.3, \"#f1b6da\"], [0.4, \"#fde0ef\"], [0.5, \"#f7f7f7\"], [0.6, \"#e6f5d0\"], [0.7, \"#b8e186\"], [0.8, \"#7fbc41\"], [0.9, \"#4d9221\"], [1, \"#276419\"]], \"sequential\": [[0.0, \"#0d0887\"], [0.1111111111111111, \"#46039f\"], [0.2222222222222222, \"#7201a8\"], [0.3333333333333333, \"#9c179e\"], [0.4444444444444444, \"#bd3786\"], [0.5555555555555556, \"#d8576b\"], [0.6666666666666666, \"#ed7953\"], [0.7777777777777778, \"#fb9f3a\"], [0.8888888888888888, \"#fdca26\"], [1.0, \"#f0f921\"]], \"sequentialminus\": [[0.0, \"#0d0887\"], [0.1111111111111111, \"#46039f\"], [0.2222222222222222, \"#7201a8\"], [0.3333333333333333, \"#9c179e\"], [0.4444444444444444, \"#bd3786\"], [0.5555555555555556, \"#d8576b\"], [0.6666666666666666, \"#ed7953\"], [0.7777777777777778, \"#fb9f3a\"], [0.8888888888888888, \"#fdca26\"], [1.0, \"#f0f921\"]]}, \"colorway\": [\"#636efa\", \"#EF553B\", \"#00cc96\", \"#ab63fa\", \"#FFA15A\", \"#19d3f3\", \"#FF6692\", \"#B6E880\", \"#FF97FF\", \"#FECB52\"], \"font\": {\"color\": \"#2a3f5f\"}, \"geo\": {\"bgcolor\": \"white\", \"lakecolor\": \"white\", \"landcolor\": \"#E5ECF6\", \"showlakes\": true, \"showland\": true, \"subunitcolor\": \"white\"}, \"hoverlabel\": {\"align\": \"left\"}, \"hovermode\": \"closest\", \"mapbox\": {\"style\": \"light\"}, \"paper_bgcolor\": \"white\", \"plot_bgcolor\": \"#E5ECF6\", \"polar\": {\"angularaxis\": {\"gridcolor\": \"white\", \"linecolor\": \"white\", \"ticks\": \"\"}, \"bgcolor\": \"#E5ECF6\", \"radialaxis\": {\"gridcolor\": \"white\", \"linecolor\": \"white\", \"ticks\": \"\"}}, \"scene\": {\"xaxis\": {\"backgroundcolor\": \"#E5ECF6\", \"gridcolor\": \"white\", \"gridwidth\": 2, \"linecolor\": \"white\", \"showbackground\": true, \"ticks\": \"\", \"zerolinecolor\": \"white\"}, \"yaxis\": {\"backgroundcolor\": \"#E5ECF6\", \"gridcolor\": \"white\", \"gridwidth\": 2, \"linecolor\": \"white\", \"showbackground\": true, \"ticks\": \"\", \"zerolinecolor\": \"white\"}, \"zaxis\": {\"backgroundcolor\": \"#E5ECF6\", \"gridcolor\": \"white\", \"gridwidth\": 2, \"linecolor\": \"white\", \"showbackground\": true, \"ticks\": \"\", \"zerolinecolor\": \"white\"}}, \"shapedefaults\": {\"line\": {\"color\": \"#2a3f5f\"}}, \"ternary\": {\"aaxis\": {\"gridcolor\": \"white\", \"linecolor\": \"white\", \"ticks\": \"\"}, \"baxis\": {\"gridcolor\": \"white\", \"linecolor\": \"white\", \"ticks\": \"\"}, \"bgcolor\": \"#E5ECF6\", \"caxis\": {\"gridcolor\": \"white\", \"linecolor\": \"white\", \"ticks\": \"\"}}, \"title\": {\"x\": 0.05}, \"xaxis\": {\"automargin\": true, \"gridcolor\": \"white\", \"linecolor\": \"white\", \"ticks\": \"\", \"title\": {\"standoff\": 15}, \"zerolinecolor\": \"white\", \"zerolinewidth\": 2}, \"yaxis\": {\"automargin\": true, \"gridcolor\": \"white\", \"linecolor\": \"white\", \"ticks\": \"\", \"title\": {\"standoff\": 15}, \"zerolinecolor\": \"white\", \"zerolinewidth\": 2}}}, \"title\": {\"text\": \"Actual labels\"}, \"xaxis\": {\"anchor\": \"y\", \"domain\": [0.0, 1.0], \"title\": {\"text\": \"Date\"}}, \"yaxis\": {\"anchor\": \"x\", \"domain\": [0.0, 1.0], \"title\": {\"text\": \"target\"}}},\n",
       "                        {\"responsive\": true}\n",
       "                    ).then(function(){\n",
       "                            \n",
       "var gd = document.getElementById('af407ad9-4b4e-4118-837c-92770656ef88');\n",
       "var x = new MutationObserver(function (mutations, observer) {{\n",
       "        var display = window.getComputedStyle(gd).display;\n",
       "        if (!display || display === 'none') {{\n",
       "            console.log([gd, 'removed!']);\n",
       "            Plotly.purge(gd);\n",
       "            observer.disconnect();\n",
       "        }}\n",
       "}});\n",
       "\n",
       "// Listen for the removal of the full notebook cells\n",
       "var notebookContainer = gd.closest('#notebook-container');\n",
       "if (notebookContainer) {{\n",
       "    x.observe(notebookContainer, {childList: true});\n",
       "}}\n",
       "\n",
       "// Listen for the clearing of the current output cell\n",
       "var outputEl = gd.closest('.output');\n",
       "if (outputEl) {{\n",
       "    x.observe(outputEl, {childList: true});\n",
       "}}\n",
       "\n",
       "                        })\n",
       "                };\n",
       "                });\n",
       "            </script>\n",
       "        </div>"
      ]
     },
     "metadata": {},
     "output_type": "display_data"
    }
   ],
   "source": [
    "fig = px.scatter(df_window, x=df_window.index, y='target', color='predicted_label', title='Predicted labels')\n",
    "fig.show()\n",
    "\n",
    "fig = px.scatter(df_window, x=df_window.index, y='target', color='label', title='Actual labels')\n",
    "fig.show()"
   ]
  },
  {
   "cell_type": "code",
   "execution_count": null,
   "id": "naval-password",
   "metadata": {},
   "outputs": [],
   "source": []
  }
 ],
 "metadata": {
  "kernelspec": {
   "display_name": "Python 3",
   "language": "python",
   "name": "python3"
  },
  "language_info": {
   "codemirror_mode": {
    "name": "ipython",
    "version": 3
   },
   "file_extension": ".py",
   "mimetype": "text/x-python",
   "name": "python",
   "nbconvert_exporter": "python",
   "pygments_lexer": "ipython3",
   "version": "3.8.3"
  }
 },
 "nbformat": 4,
 "nbformat_minor": 5
}
