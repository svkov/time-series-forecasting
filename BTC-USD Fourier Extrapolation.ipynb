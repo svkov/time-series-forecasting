{
 "cells": [
  {
   "cell_type": "code",
   "execution_count": 1,
   "metadata": {},
   "outputs": [],
   "source": [
    "import requests\n",
    "import pandas as pd\n",
    "from datetime import datetime"
   ]
  },
  {
   "cell_type": "code",
   "execution_count": 2,
   "metadata": {},
   "outputs": [
    {
     "name": "stdout",
     "output_type": "stream",
     "text": [
      "Populating the interactive namespace from numpy and matplotlib\n"
     ]
    },
    {
     "name": "stderr",
     "output_type": "stream",
     "text": [
      "C:\\Anaconda\\envs\\dev\\lib\\site-packages\\IPython\\core\\magics\\pylab.py:159: UserWarning: pylab import has clobbered these variables: ['datetime']\n",
      "`%matplotlib` prevents importing * from pylab and numpy\n",
      "  warn(\"pylab import has clobbered these variables: %s\"  % clobbered +\n"
     ]
    }
   ],
   "source": [
    "%pylab inline"
   ]
  },
  {
   "cell_type": "code",
   "execution_count": 32,
   "metadata": {},
   "outputs": [],
   "source": [
    "api_key = '189ee744182cf220b063c058e48b37d60b071f5a8e14a017b8553dfe5da5e476'\n",
    "limit = 2000\n",
    "# day or hour\n",
    "freq_type = 'day'\n",
    "url = 'https://min-api.cryptocompare.com/data/v2/histo' + freq_type + '?fsym=BTC&tsym=USD&limit=' + str(limit) +'&api_key=' + api_key + '&all_data=true'\n"
   ]
  },
  {
   "cell_type": "code",
   "execution_count": 19,
   "metadata": {},
   "outputs": [
    {
     "name": "stdout",
     "output_type": "stream",
     "text": [
      "https://min-api.cryptocompare.com/data/v2/histohour?fsym=BTC&tsym=USD&limit=2000&api_key=189ee744182cf220b063c058e48b37d60b071f5a8e14a017b8553dfe5da5e476&all_data=true\n"
     ]
    }
   ],
   "source": [
    "print(url)"
   ]
  },
  {
   "cell_type": "code",
   "execution_count": 90,
   "metadata": {},
   "outputs": [],
   "source": [
    "class DataFetcher:\n",
    "    \n",
    "    def __init__(self, api_key, limit=2000, freq_type='day', fsym='BTC', tsym='USD'):\n",
    "        self.api_key = api_key\n",
    "        self.limit = limit\n",
    "        self.freq_type = freq_type\n",
    "        self.fsym = fsym\n",
    "        self.tsym = tsym\n",
    "        \n",
    "    @property\n",
    "    def url(self):\n",
    "        return f'https://min-api.cryptocompare.com/data/v2/histo{self.freq_type}?fsym={self.fsym}&tsym={self.tsym}&limit={self.limit}&api_key={api_key}&all_data=true'\n",
    "    \n",
    "    @staticmethod\n",
    "    def get_df_from_url(url):\n",
    "        resp = requests.get(url)\n",
    "        data = resp.json()['Data']['Data']\n",
    "        return pd.DataFrame(data)\n",
    "    \n",
    "    @staticmethod\n",
    "    def timestamp_to_date(df):\n",
    "        df['date'] = df['time'].apply(lambda x: datetime.utcfromtimestamp(x).strftime('%Y-%m-%d %H:%M'))\n",
    "        return df.set_index('date')\n",
    "    \n",
    "    def get_url_timestamp(self, min_timestamp):\n",
    "        return f'{self.url}&toTs={min_timestamp}'\n",
    "    \n",
    "    def fetch(self, max_iter):\n",
    "        df = get_df_from_url(self.url)\n",
    "        for i in range(max_iter):\n",
    "            min_timestamp = df['time'].min()\n",
    "            url_timestamp = self.get_url_timestamp(min_timestamp)\n",
    "            new_part = self.get_df_from_url(url_timestamp)\n",
    "            df = df.append(new_part)\n",
    "        df.drop_duplicates(inplace=True)\n",
    "        df = self.timestamp_to_date(df)\n",
    "        df.sort_index(inplace=True)\n",
    "        return df"
   ]
  },
  {
   "cell_type": "code",
   "execution_count": 93,
   "metadata": {},
   "outputs": [],
   "source": [
    "fetcher = DataFetcher(api_key)\n",
    "df = fetcher.fetch(1)"
   ]
  },
  {
   "cell_type": "code",
   "execution_count": 169,
   "metadata": {},
   "outputs": [],
   "source": [
    "df.to_csv('btc_full_hour_2020_02_01.csv')"
   ]
  },
  {
   "cell_type": "code",
   "execution_count": 198,
   "metadata": {},
   "outputs": [],
   "source": [
    "\n",
    "def plot_last_values(y1, y2, n_val=1000):\n",
    "    x1 = list(range(n_val))\n",
    "    x2 = list(range(n_val, n_val + len(y2)))\n",
    "    pylab.plot(x1, y1[-n_val:])\n",
    "    pylab.plot(x2, y2[-n_pred:])"
   ]
  },
  {
   "cell_type": "code",
   "execution_count": 215,
   "metadata": {},
   "outputs": [
    {
     "data": {
      "image/png": "[encoded data removed]",
      "text/plain": [
       "<Figure size 432x288 with 1 Axes>"
      ]
     },
     "metadata": {
      "needs_background": "light"
     },
     "output_type": "display_data"
    }
   ],
   "source": [
    "val = df['avg'].values[60000:]\n",
    "n_pred = 300\n",
    "y1 = val\n",
    "y2 = fourierExtrapolation(val, n_predict=n_pred, n_harm=100000)\n",
    "y2_hat = abs(y2[-n_pred] - y1[-1]) + y2[-n_pred:]\n",
    "plot_last_values(y1, y2_hat, n_val=1000)"
   ]
  },
  {
   "cell_type": "code",
   "execution_count": 216,
   "metadata": {},
   "outputs": [
    {
     "data": {
      "text/plain": [
       "[<matplotlib.lines.Line2D at 0x212c6e95d88>]"
      ]
     },
     "execution_count": 216,
     "metadata": {},
     "output_type": "execute_result"
    },
    {
     "data": {
      "image/png": "[encoded data removed]",
      "text/plain": [
       "<Figure size 432x288 with 1 Axes>"
      ]
     },
     "metadata": {
      "needs_background": "light"
     },
     "output_type": "display_data"
    }
   ],
   "source": [
    "pylab.plot(y2[:-n_pred] - y1)"
   ]
  },
  {
   "cell_type": "code",
   "execution_count": 197,
   "metadata": {},
   "outputs": [
    {
     "data": {
      "text/plain": [
       "300"
      ]
     },
     "execution_count": 197,
     "metadata": {},
     "output_type": "execute_result"
    }
   ],
   "source": [
    "y2[:-n_pred].shape, y1.shape\n",
    "abs(y2[-n_pred] - y1[-1]) + y2[:-n_pred]\n",
    "len(y2)"
   ]
  }
 ],
 "metadata": {
  "kernelspec": {
   "display_name": "Python 3",
   "language": "python",
   "name": "python3"
  },
  "language_info": {
   "codemirror_mode": {
    "name": "ipython",
    "version": 3
   },
   "file_extension": ".py",
   "mimetype": "text/x-python",
   "name": "python",
   "nbconvert_exporter": "python",
   "pygments_lexer": "ipython3",
   "version": "3.8.3"
  }
 },
 "nbformat": 4,
 "nbformat_minor": 4
}
